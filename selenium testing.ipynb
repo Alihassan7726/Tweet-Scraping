{
 "cells": [
  {
   "cell_type": "code",
   "execution_count": 17,
   "metadata": {},
   "outputs": [],
   "source": [
    "import selenium"
   ]
  },
  {
   "cell_type": "code",
   "execution_count": 16,
   "metadata": {},
   "outputs": [],
   "source": [
    "from selenium import webdriver\n",
    "import os"
   ]
  },
  {
   "cell_type": "code",
   "execution_count": 18,
   "metadata": {},
   "outputs": [
    {
     "name": "stderr",
     "output_type": "stream",
     "text": [
      "<ipython-input-18-5d9c13941ac7>:2: DeprecationWarning: executable_path has been deprecated, please pass in a Service object\n",
      "  driver = selenium.webdriver.Chrome(executable_path='C:/webdrivers/chromedriver.exe')\n"
     ]
    },
    {
     "name": "stdout",
     "output_type": "stream",
     "text": [
      "<selenium.webdriver.chrome.webdriver.WebDriver (session=\"d94cda388434d28cacb335f2a6885455\")>\n",
      "Google\n",
      "https://www.google.com/\n"
     ]
    }
   ],
   "source": [
    "#driver = webdriver.Firefox()\n",
    "driver = selenium.webdriver.Chrome(executable_path='C:/webdrivers/chromedriver.exe')\n",
    "print(driver)\n",
    "driver.get(\"https://www.google.com\")\n",
    "\n",
    "print(driver.title)\n",
    "print(driver.current_url)\n",
    "\n",
    "driver.quit()"
   ]
  },
  {
   "cell_type": "code",
   "execution_count": 4,
   "metadata": {},
   "outputs": [
    {
     "name": "stdout",
     "output_type": "stream",
     "text": [
      "Mercedes-Benz Cars and SUVs: Reviews, Pricing, and Specs\n",
      "https://www.caranddriver.com/mercedes-benz\n"
     ]
    }
   ],
   "source": [
    "driver = webdriver.Chrome()\n",
    "driver.get(\"https://www.caranddriver.com/mercedes-benz\")\n",
    "\n",
    "print(driver.title)\n",
    "print(driver.current_url)\n",
    "\n",
    "driver.quit()"
   ]
  },
  {
   "cell_type": "code",
   "execution_count": 40,
   "metadata": {},
   "outputs": [
    {
     "name": "stdout",
     "output_type": "stream",
     "text": [
      "C:\\Users\\Ali\n"
     ]
    }
   ],
   "source": [
    "cd"
   ]
  },
  {
   "cell_type": "code",
   "execution_count": 34,
   "metadata": {},
   "outputs": [
    {
     "name": "stdout",
     "output_type": "stream",
     "text": [
      "C:\\BEPEC Python Material\\twitter_data\n"
     ]
    }
   ],
   "source": [
    "cd C:\\BEPEC Python Material\\twitter_data\\"
   ]
  },
  {
   "cell_type": "code",
   "execution_count": 35,
   "metadata": {},
   "outputs": [
    {
     "name": "stdout",
     "output_type": "stream",
     "text": [
      "C:\\Users\\Ali\n"
     ]
    }
   ],
   "source": [
    "cd"
   ]
  },
  {
   "cell_type": "code",
   "execution_count": 28,
   "metadata": {},
   "outputs": [
    {
     "name": "stdout",
     "output_type": "stream",
     "text": [
      "[WinError 2] The system cannot find the file specified: 'TweetScraper/'\n",
      "C:\\BEPEC Python Material\\twitter_data\\TweetScraper\\TweetScraper\n"
     ]
    }
   ],
   "source": [
    "cd TweetScraper\\"
   ]
  },
  {
   "cell_type": "code",
   "execution_count": 30,
   "metadata": {},
   "outputs": [
    {
     "name": "stdout",
     "output_type": "stream",
     "text": [
      "C:\\Users\\Ali\n"
     ]
    }
   ],
   "source": [
    "%cd"
   ]
  },
  {
   "cell_type": "code",
   "execution_count": 10,
   "metadata": {
    "scrolled": true
   },
   "outputs": [
    {
     "name": "stdout",
     "output_type": "stream",
     "text": [
      "Collecting scrapy-selenium\n",
      "  Downloading scrapy_selenium-0.0.7-py3-none-any.whl (6.7 kB)\n",
      "Requirement already satisfied: scrapy>=1.0.0 in c:\\users\\ali\\.conda\\envs\\tensor_ali\\lib\\site-packages (from scrapy-selenium) (2.5.1)\n",
      "Requirement already satisfied: selenium>=3.9.0 in c:\\users\\ali\\.conda\\envs\\tensor_ali\\lib\\site-packages (from scrapy-selenium) (4.1.0)\n",
      "Requirement already satisfied: zope.interface>=4.1.3 in c:\\users\\ali\\.conda\\envs\\tensor_ali\\lib\\site-packages (from scrapy>=1.0.0->scrapy-selenium) (5.4.0)\n",
      "Requirement already satisfied: pyOpenSSL>=16.2.0 in c:\\users\\ali\\.conda\\envs\\tensor_ali\\lib\\site-packages (from scrapy>=1.0.0->scrapy-selenium) (21.0.0)\n",
      "Requirement already satisfied: itemloaders>=1.0.1 in c:\\users\\ali\\.conda\\envs\\tensor_ali\\lib\\site-packages (from scrapy>=1.0.0->scrapy-selenium) (1.0.4)\n",
      "Requirement already satisfied: queuelib>=1.4.2 in c:\\users\\ali\\.conda\\envs\\tensor_ali\\lib\\site-packages (from scrapy>=1.0.0->scrapy-selenium) (1.6.2)\n",
      "Requirement already satisfied: h2<4.0,>=3.0 in c:\\users\\ali\\.conda\\envs\\tensor_ali\\lib\\site-packages (from scrapy>=1.0.0->scrapy-selenium) (3.2.0)\n",
      "Requirement already satisfied: w3lib>=1.17.0 in c:\\users\\ali\\.conda\\envs\\tensor_ali\\lib\\site-packages (from scrapy>=1.0.0->scrapy-selenium) (1.22.0)\n",
      "Requirement already satisfied: lxml>=3.5.0 in c:\\users\\ali\\.conda\\envs\\tensor_ali\\lib\\site-packages (from scrapy>=1.0.0->scrapy-selenium) (4.6.2)\n",
      "Requirement already satisfied: service-identity>=16.0.0 in c:\\users\\ali\\.conda\\envs\\tensor_ali\\lib\\site-packages (from scrapy>=1.0.0->scrapy-selenium) (21.1.0)\n",
      "Requirement already satisfied: Twisted[http2]>=17.9.0 in c:\\users\\ali\\.conda\\envs\\tensor_ali\\lib\\site-packages (from scrapy>=1.0.0->scrapy-selenium) (21.7.0)\n",
      "Requirement already satisfied: protego>=0.1.15 in c:\\users\\ali\\.conda\\envs\\tensor_ali\\lib\\site-packages (from scrapy>=1.0.0->scrapy-selenium) (0.1.16)\n",
      "Requirement already satisfied: cssselect>=0.9.1 in c:\\users\\ali\\.conda\\envs\\tensor_ali\\lib\\site-packages (from scrapy>=1.0.0->scrapy-selenium) (1.1.0)\n",
      "Requirement already satisfied: parsel>=1.5.0 in c:\\users\\ali\\.conda\\envs\\tensor_ali\\lib\\site-packages (from scrapy>=1.0.0->scrapy-selenium) (1.6.0)\n",
      "Requirement already satisfied: cryptography>=2.0 in c:\\users\\ali\\.conda\\envs\\tensor_ali\\lib\\site-packages (from scrapy>=1.0.0->scrapy-selenium) (36.0.0)\n",
      "Requirement already satisfied: PyDispatcher>=2.0.5 in c:\\users\\ali\\.conda\\envs\\tensor_ali\\lib\\site-packages (from scrapy>=1.0.0->scrapy-selenium) (2.0.5)\n",
      "Requirement already satisfied: itemadapter>=0.1.0 in c:\\users\\ali\\.conda\\envs\\tensor_ali\\lib\\site-packages (from scrapy>=1.0.0->scrapy-selenium) (0.4.0)\n",
      "Requirement already satisfied: trio-websocket~=0.9 in c:\\users\\ali\\.conda\\envs\\tensor_ali\\lib\\site-packages (from selenium>=3.9.0->scrapy-selenium) (0.9.2)\n",
      "Requirement already satisfied: urllib3[secure]~=1.26 in c:\\users\\ali\\.conda\\envs\\tensor_ali\\lib\\site-packages (from selenium>=3.9.0->scrapy-selenium) (1.26.2)\n",
      "Requirement already satisfied: trio~=0.17 in c:\\users\\ali\\.conda\\envs\\tensor_ali\\lib\\site-packages (from selenium>=3.9.0->scrapy-selenium) (0.19.0)\n",
      "Requirement already satisfied: cffi>=1.12 in c:\\users\\ali\\.conda\\envs\\tensor_ali\\lib\\site-packages (from cryptography>=2.0->scrapy>=1.0.0->scrapy-selenium) (1.14.4)\n",
      "Requirement already satisfied: hyperframe<6,>=5.2.0 in c:\\users\\ali\\.conda\\envs\\tensor_ali\\lib\\site-packages (from h2<4.0,>=3.0->scrapy>=1.0.0->scrapy-selenium) (5.2.0)\n",
      "Requirement already satisfied: hpack<4,>=3.0 in c:\\users\\ali\\.conda\\envs\\tensor_ali\\lib\\site-packages (from h2<4.0,>=3.0->scrapy>=1.0.0->scrapy-selenium) (3.0.0)\n",
      "Requirement already satisfied: jmespath>=0.9.5 in c:\\users\\ali\\.conda\\envs\\tensor_ali\\lib\\site-packages (from itemloaders>=1.0.1->scrapy>=1.0.0->scrapy-selenium) (0.10.0)\n",
      "Requirement already satisfied: six>=1.6.0 in c:\\users\\ali\\.conda\\envs\\tensor_ali\\lib\\site-packages (from parsel>=1.5.0->scrapy>=1.0.0->scrapy-selenium) (1.15.0)\n",
      "Requirement already satisfied: attrs>=19.1.0 in c:\\users\\ali\\.conda\\envs\\tensor_ali\\lib\\site-packages (from service-identity>=16.0.0->scrapy>=1.0.0->scrapy-selenium) (20.3.0)\n",
      "Requirement already satisfied: pyasn1-modules in c:\\users\\ali\\.conda\\envs\\tensor_ali\\lib\\site-packages (from service-identity>=16.0.0->scrapy>=1.0.0->scrapy-selenium) (0.2.8)\n",
      "Requirement already satisfied: pyasn1 in c:\\users\\ali\\.conda\\envs\\tensor_ali\\lib\\site-packages (from service-identity>=16.0.0->scrapy>=1.0.0->scrapy-selenium) (0.4.8)\n",
      "Requirement already satisfied: idna in c:\\users\\ali\\.conda\\envs\\tensor_ali\\lib\\site-packages (from trio~=0.17->selenium>=3.9.0->scrapy-selenium) (2.10)\n",
      "Requirement already satisfied: async-generator>=1.9 in c:\\users\\ali\\.conda\\envs\\tensor_ali\\lib\\site-packages (from trio~=0.17->selenium>=3.9.0->scrapy-selenium) (1.10)\n",
      "Requirement already satisfied: sniffio in c:\\users\\ali\\.conda\\envs\\tensor_ali\\lib\\site-packages (from trio~=0.17->selenium>=3.9.0->scrapy-selenium) (1.2.0)\n",
      "Requirement already satisfied: sortedcontainers in c:\\users\\ali\\.conda\\envs\\tensor_ali\\lib\\site-packages (from trio~=0.17->selenium>=3.9.0->scrapy-selenium) (2.3.0)\n",
      "Requirement already satisfied: outcome in c:\\users\\ali\\.conda\\envs\\tensor_ali\\lib\\site-packages (from trio~=0.17->selenium>=3.9.0->scrapy-selenium) (1.1.0)\n",
      "Requirement already satisfied: wsproto>=0.14 in c:\\users\\ali\\.conda\\envs\\tensor_ali\\lib\\site-packages (from trio-websocket~=0.9->selenium>=3.9.0->scrapy-selenium) (1.0.0)\n",
      "Requirement already satisfied: hyperlink>=17.1.1 in c:\\users\\ali\\.conda\\envs\\tensor_ali\\lib\\site-packages (from Twisted[http2]>=17.9.0->scrapy>=1.0.0->scrapy-selenium) (21.0.0)\n",
      "Requirement already satisfied: twisted-iocpsupport~=1.0.0 in c:\\users\\ali\\.conda\\envs\\tensor_ali\\lib\\site-packages (from Twisted[http2]>=17.9.0->scrapy>=1.0.0->scrapy-selenium) (1.0.2)\n",
      "Requirement already satisfied: typing-extensions>=3.6.5 in c:\\users\\ali\\.conda\\envs\\tensor_ali\\lib\\site-packages (from Twisted[http2]>=17.9.0->scrapy>=1.0.0->scrapy-selenium) (3.7.4.3)\n",
      "Requirement already satisfied: incremental>=21.3.0 in c:\\users\\ali\\.conda\\envs\\tensor_ali\\lib\\site-packages (from Twisted[http2]>=17.9.0->scrapy>=1.0.0->scrapy-selenium) (21.3.0)\n",
      "Requirement already satisfied: Automat>=0.8.0 in c:\\users\\ali\\.conda\\envs\\tensor_ali\\lib\\site-packages (from Twisted[http2]>=17.9.0->scrapy>=1.0.0->scrapy-selenium) (20.2.0)\n",
      "Requirement already satisfied: constantly>=15.1 in c:\\users\\ali\\.conda\\envs\\tensor_ali\\lib\\site-packages (from Twisted[http2]>=17.9.0->scrapy>=1.0.0->scrapy-selenium) (15.1.0)\n",
      "Requirement already satisfied: priority<2.0,>=1.1.0 in c:\\users\\ali\\.conda\\envs\\tensor_ali\\lib\\site-packages (from Twisted[http2]>=17.9.0->scrapy>=1.0.0->scrapy-selenium) (1.3.0)\n",
      "Requirement already satisfied: certifi in c:\\users\\ali\\.conda\\envs\\tensor_ali\\lib\\site-packages (from urllib3[secure]~=1.26->selenium>=3.9.0->scrapy-selenium) (2020.12.5)\n",
      "Requirement already satisfied: setuptools in c:\\users\\ali\\.conda\\envs\\tensor_ali\\lib\\site-packages (from zope.interface>=4.1.3->scrapy>=1.0.0->scrapy-selenium) (56.0.0)\n",
      "Requirement already satisfied: pycparser in c:\\users\\ali\\.conda\\envs\\tensor_ali\\lib\\site-packages (from cffi>=1.12->cryptography>=2.0->scrapy>=1.0.0->scrapy-selenium) (2.20)\n",
      "Requirement already satisfied: h11<1,>=0.9.0 in c:\\users\\ali\\.conda\\envs\\tensor_ali\\lib\\site-packages (from wsproto>=0.14->trio-websocket~=0.9->selenium>=3.9.0->scrapy-selenium) (0.12.0)\n",
      "Installing collected packages: scrapy-selenium\n",
      "Successfully installed scrapy-selenium-0.0.7\n",
      "Note: you may need to restart the kernel to use updated packages.\n"
     ]
    }
   ],
   "source": [
    "pip install scrapy-selenium"
   ]
  },
  {
   "cell_type": "code",
   "execution_count": 2,
   "metadata": {},
   "outputs": [],
   "source": [
    "from shutil import which\n",
    "from scrapy_selenium import SeleniumRequest, SeleniumMiddleware"
   ]
  },
  {
   "cell_type": "code",
   "execution_count": 55,
   "metadata": {},
   "outputs": [],
   "source": [
    "SELENIUM_BROWSER_EXECUTABLE_PATH = which('C:\\webdrivers')\n",
    "SELENIUM_BROWSER_EXECUTABLE_PATH"
   ]
  },
  {
   "cell_type": "code",
   "execution_count": 52,
   "metadata": {},
   "outputs": [],
   "source": [
    "from selenium import webdriver\n",
    "from selenium.webdriver.chrome.options import Options\n",
    "\n",
    "options = Options()\n",
    "options.headless = True\n",
    "#CHROMEDRIVER_PATH = webdriver.chrome()\n",
    "driver = webdriver.Chrome( options=options)"
   ]
  },
  {
   "cell_type": "code",
   "execution_count": 53,
   "metadata": {},
   "outputs": [
    {
     "data": {
      "text/plain": [
       "<selenium.webdriver.chrome.webdriver.WebDriver (session=\"fb1402424cfaa28eed986c75f97d62e6\")>"
      ]
     },
     "execution_count": 53,
     "metadata": {},
     "output_type": "execute_result"
    }
   ],
   "source": [
    "driver"
   ]
  },
  {
   "cell_type": "code",
   "execution_count": 54,
   "metadata": {
    "collapsed": true
   },
   "outputs": [
    {
     "name": "stderr",
     "output_type": "stream",
     "text": [
      "<ipython-input-54-8506c715a87b>:5: DeprecationWarning: executable_path has been deprecated, please pass in a Service object\n",
      "  driver = webdriver.Chrome(executable_path=chromedriver, chrome_options=chromeOptions)\n",
      "<ipython-input-54-8506c715a87b>:5: DeprecationWarning: use options instead of chrome_options\n",
      "  driver = webdriver.Chrome(executable_path=chromedriver, chrome_options=chromeOptions)\n"
     ]
    },
    {
     "ename": "WebDriverException",
     "evalue": "Message: 'webdrivers' executable may have wrong permissions. Please see https://chromedriver.chromium.org/home\n",
     "output_type": "error",
     "traceback": [
      "\u001b[1;31m---------------------------------------------------------------------------\u001b[0m",
      "\u001b[1;31mPermissionError\u001b[0m                           Traceback (most recent call last)",
      "\u001b[1;32m~\\.conda\\envs\\tensor_ali\\lib\\site-packages\\selenium\\webdriver\\common\\service.py\u001b[0m in \u001b[0;36mstart\u001b[1;34m(self)\u001b[0m\n\u001b[0;32m     70\u001b[0m             \u001b[0mcmd\u001b[0m\u001b[1;33m.\u001b[0m\u001b[0mextend\u001b[0m\u001b[1;33m(\u001b[0m\u001b[0mself\u001b[0m\u001b[1;33m.\u001b[0m\u001b[0mcommand_line_args\u001b[0m\u001b[1;33m(\u001b[0m\u001b[1;33m)\u001b[0m\u001b[1;33m)\u001b[0m\u001b[1;33m\u001b[0m\u001b[1;33m\u001b[0m\u001b[0m\n\u001b[1;32m---> 71\u001b[1;33m             self.process = subprocess.Popen(cmd, env=self.env,\n\u001b[0m\u001b[0;32m     72\u001b[0m                                             \u001b[0mclose_fds\u001b[0m\u001b[1;33m=\u001b[0m\u001b[0msystem\u001b[0m\u001b[1;33m(\u001b[0m\u001b[1;33m)\u001b[0m \u001b[1;33m!=\u001b[0m \u001b[1;34m'Windows'\u001b[0m\u001b[1;33m,\u001b[0m\u001b[1;33m\u001b[0m\u001b[1;33m\u001b[0m\u001b[0m\n",
      "\u001b[1;32m~\\.conda\\envs\\tensor_ali\\lib\\subprocess.py\u001b[0m in \u001b[0;36m__init__\u001b[1;34m(self, args, bufsize, executable, stdin, stdout, stderr, preexec_fn, close_fds, shell, cwd, env, universal_newlines, startupinfo, creationflags, restore_signals, start_new_session, pass_fds, encoding, errors, text)\u001b[0m\n\u001b[0;32m    853\u001b[0m \u001b[1;33m\u001b[0m\u001b[0m\n\u001b[1;32m--> 854\u001b[1;33m             self._execute_child(args, executable, preexec_fn, close_fds,\n\u001b[0m\u001b[0;32m    855\u001b[0m                                 \u001b[0mpass_fds\u001b[0m\u001b[1;33m,\u001b[0m \u001b[0mcwd\u001b[0m\u001b[1;33m,\u001b[0m \u001b[0menv\u001b[0m\u001b[1;33m,\u001b[0m\u001b[1;33m\u001b[0m\u001b[1;33m\u001b[0m\u001b[0m\n",
      "\u001b[1;32m~\\.conda\\envs\\tensor_ali\\lib\\subprocess.py\u001b[0m in \u001b[0;36m_execute_child\u001b[1;34m(self, args, executable, preexec_fn, close_fds, pass_fds, cwd, env, startupinfo, creationflags, shell, p2cread, p2cwrite, c2pread, c2pwrite, errread, errwrite, unused_restore_signals, unused_start_new_session)\u001b[0m\n\u001b[0;32m   1306\u001b[0m             \u001b[1;32mtry\u001b[0m\u001b[1;33m:\u001b[0m\u001b[1;33m\u001b[0m\u001b[1;33m\u001b[0m\u001b[0m\n\u001b[1;32m-> 1307\u001b[1;33m                 hp, ht, pid, tid = _winapi.CreateProcess(executable, args,\n\u001b[0m\u001b[0;32m   1308\u001b[0m                                          \u001b[1;31m# no special security\u001b[0m\u001b[1;33m\u001b[0m\u001b[1;33m\u001b[0m\u001b[1;33m\u001b[0m\u001b[0m\n",
      "\u001b[1;31mPermissionError\u001b[0m: [WinError 5] Access is denied",
      "\nDuring handling of the above exception, another exception occurred:\n",
      "\u001b[1;31mWebDriverException\u001b[0m                        Traceback (most recent call last)",
      "\u001b[1;32m<ipython-input-54-8506c715a87b>\u001b[0m in \u001b[0;36m<module>\u001b[1;34m\u001b[0m\n\u001b[0;32m      3\u001b[0m \u001b[0mchromeOptions\u001b[0m\u001b[1;33m.\u001b[0m\u001b[0madd_experimental_option\u001b[0m\u001b[1;33m(\u001b[0m\u001b[1;34m\"prefs\"\u001b[0m\u001b[1;33m,\u001b[0m\u001b[0mprefs\u001b[0m\u001b[1;33m)\u001b[0m\u001b[1;33m\u001b[0m\u001b[1;33m\u001b[0m\u001b[0m\n\u001b[0;32m      4\u001b[0m \u001b[0mchromedriver\u001b[0m \u001b[1;33m=\u001b[0m \u001b[1;34m\"C:\\webdrivers\"\u001b[0m\u001b[1;33m\u001b[0m\u001b[1;33m\u001b[0m\u001b[0m\n\u001b[1;32m----> 5\u001b[1;33m \u001b[0mdriver\u001b[0m \u001b[1;33m=\u001b[0m \u001b[0mwebdriver\u001b[0m\u001b[1;33m.\u001b[0m\u001b[0mChrome\u001b[0m\u001b[1;33m(\u001b[0m\u001b[0mexecutable_path\u001b[0m\u001b[1;33m=\u001b[0m\u001b[0mchromedriver\u001b[0m\u001b[1;33m,\u001b[0m \u001b[0mchrome_options\u001b[0m\u001b[1;33m=\u001b[0m\u001b[0mchromeOptions\u001b[0m\u001b[1;33m)\u001b[0m\u001b[1;33m\u001b[0m\u001b[1;33m\u001b[0m\u001b[0m\n\u001b[0m",
      "\u001b[1;32m~\\.conda\\envs\\tensor_ali\\lib\\site-packages\\selenium\\webdriver\\chrome\\webdriver.py\u001b[0m in \u001b[0;36m__init__\u001b[1;34m(self, executable_path, port, options, service_args, desired_capabilities, service_log_path, chrome_options, service, keep_alive)\u001b[0m\n\u001b[0;32m     68\u001b[0m             \u001b[0mservice\u001b[0m \u001b[1;33m=\u001b[0m \u001b[0mService\u001b[0m\u001b[1;33m(\u001b[0m\u001b[0mexecutable_path\u001b[0m\u001b[1;33m,\u001b[0m \u001b[0mport\u001b[0m\u001b[1;33m,\u001b[0m \u001b[0mservice_args\u001b[0m\u001b[1;33m,\u001b[0m \u001b[0mservice_log_path\u001b[0m\u001b[1;33m)\u001b[0m\u001b[1;33m\u001b[0m\u001b[1;33m\u001b[0m\u001b[0m\n\u001b[0;32m     69\u001b[0m \u001b[1;33m\u001b[0m\u001b[0m\n\u001b[1;32m---> 70\u001b[1;33m         super(WebDriver, self).__init__(DesiredCapabilities.CHROME['browserName'], \"goog\",\n\u001b[0m\u001b[0;32m     71\u001b[0m                                         \u001b[0mport\u001b[0m\u001b[1;33m,\u001b[0m \u001b[0moptions\u001b[0m\u001b[1;33m,\u001b[0m\u001b[1;33m\u001b[0m\u001b[1;33m\u001b[0m\u001b[0m\n\u001b[0;32m     72\u001b[0m                                         \u001b[0mservice_args\u001b[0m\u001b[1;33m,\u001b[0m \u001b[0mdesired_capabilities\u001b[0m\u001b[1;33m,\u001b[0m\u001b[1;33m\u001b[0m\u001b[1;33m\u001b[0m\u001b[0m\n",
      "\u001b[1;32m~\\.conda\\envs\\tensor_ali\\lib\\site-packages\\selenium\\webdriver\\chromium\\webdriver.py\u001b[0m in \u001b[0;36m__init__\u001b[1;34m(self, browser_name, vendor_prefix, port, options, service_args, desired_capabilities, service_log_path, service, keep_alive)\u001b[0m\n\u001b[0;32m     88\u001b[0m \u001b[1;33m\u001b[0m\u001b[0m\n\u001b[0;32m     89\u001b[0m         \u001b[0mself\u001b[0m\u001b[1;33m.\u001b[0m\u001b[0mservice\u001b[0m \u001b[1;33m=\u001b[0m \u001b[0mservice\u001b[0m\u001b[1;33m\u001b[0m\u001b[1;33m\u001b[0m\u001b[0m\n\u001b[1;32m---> 90\u001b[1;33m         \u001b[0mself\u001b[0m\u001b[1;33m.\u001b[0m\u001b[0mservice\u001b[0m\u001b[1;33m.\u001b[0m\u001b[0mstart\u001b[0m\u001b[1;33m(\u001b[0m\u001b[1;33m)\u001b[0m\u001b[1;33m\u001b[0m\u001b[1;33m\u001b[0m\u001b[0m\n\u001b[0m\u001b[0;32m     91\u001b[0m \u001b[1;33m\u001b[0m\u001b[0m\n\u001b[0;32m     92\u001b[0m         \u001b[1;32mtry\u001b[0m\u001b[1;33m:\u001b[0m\u001b[1;33m\u001b[0m\u001b[1;33m\u001b[0m\u001b[0m\n",
      "\u001b[1;32m~\\.conda\\envs\\tensor_ali\\lib\\site-packages\\selenium\\webdriver\\common\\service.py\u001b[0m in \u001b[0;36mstart\u001b[1;34m(self)\u001b[0m\n\u001b[0;32m     84\u001b[0m                 )\n\u001b[0;32m     85\u001b[0m             \u001b[1;32melif\u001b[0m \u001b[0merr\u001b[0m\u001b[1;33m.\u001b[0m\u001b[0merrno\u001b[0m \u001b[1;33m==\u001b[0m \u001b[0merrno\u001b[0m\u001b[1;33m.\u001b[0m\u001b[0mEACCES\u001b[0m\u001b[1;33m:\u001b[0m\u001b[1;33m\u001b[0m\u001b[1;33m\u001b[0m\u001b[0m\n\u001b[1;32m---> 86\u001b[1;33m                 raise WebDriverException(\n\u001b[0m\u001b[0;32m     87\u001b[0m                     \"'%s' executable may have wrong permissions. %s\" % (\n\u001b[0;32m     88\u001b[0m                         os.path.basename(self.path), self.start_error_message)\n",
      "\u001b[1;31mWebDriverException\u001b[0m: Message: 'webdrivers' executable may have wrong permissions. Please see https://chromedriver.chromium.org/home\n"
     ]
    }
   ],
   "source": [
    "chromeOptions = webdriver.ChromeOptions()\n",
    "prefs = {\"download.default_directory\" : \"/some/path\"}\n",
    "chromeOptions.add_experimental_option(\"prefs\",prefs)\n",
    "chromedriver = \"C:\\webdrivers\"\n",
    "driver = webdriver.Chrome(executable_path=chromedriver, chrome_options=chromeOptions)"
   ]
  },
  {
   "cell_type": "code",
   "execution_count": 48,
   "metadata": {},
   "outputs": [
    {
     "data": {
      "text/plain": [
       "<selenium.webdriver.chrome.webdriver.WebDriver (session=\"bfd565a442a7d2afdb2662118709cdfb\")>"
      ]
     },
     "execution_count": 48,
     "metadata": {},
     "output_type": "execute_result"
    }
   ],
   "source": [
    "driver = webdriver.Chrome()\n",
    "driver"
   ]
  },
  {
   "cell_type": "code",
   "execution_count": null,
   "metadata": {},
   "outputs": [],
   "source": []
  }
 ],
 "metadata": {
  "kernelspec": {
   "display_name": "Python 3",
   "language": "python",
   "name": "python3"
  },
  "language_info": {
   "codemirror_mode": {
    "name": "ipython",
    "version": 3
   },
   "file_extension": ".py",
   "mimetype": "text/x-python",
   "name": "python",
   "nbconvert_exporter": "python",
   "pygments_lexer": "ipython3",
   "version": "3.8.5"
  }
 },
 "nbformat": 4,
 "nbformat_minor": 4
}
