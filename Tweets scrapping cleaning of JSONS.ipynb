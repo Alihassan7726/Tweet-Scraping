{
 "cells": [
  {
   "cell_type": "code",
   "execution_count": null,
   "metadata": {},
   "outputs": [],
   "source": [
    "# This notebook will parse a folder full of json files (one object per file) into a dataframe."
   ]
  },
  {
   "cell_type": "code",
   "execution_count": 2,
   "metadata": {},
   "outputs": [],
   "source": [
    "import pandas as pd\n",
    "pd.set_option('display.width',5000)\n",
    "pd.set_option('max_colwidth', 5000) \n",
    "import warnings\n",
    "warnings.filterwarnings('ignore')\n",
    "import glob\n",
    "import json"
   ]
  },
  {
   "cell_type": "code",
   "execution_count": 3,
   "metadata": {},
   "outputs": [
    {
     "name": "stdout",
     "output_type": "stream",
     "text": [
      "C:\\BEPEC Python Material\\twitter_data\\TweetScraper\\TweetScraper\\Data\n"
     ]
    }
   ],
   "source": [
    "cd \"C:\\BEPEC Python Material\\twitter_data\\TweetScraper\\TweetScraper\\Data\""
   ]
  },
  {
   "cell_type": "markdown",
   "metadata": {},
   "source": [
    "# First method for JSON processing"
   ]
  },
  {
   "cell_type": "code",
   "execution_count": 10,
   "metadata": {},
   "outputs": [
    {
     "data": {
      "text/plain": [
       "1233"
      ]
     },
     "execution_count": 10,
     "metadata": {},
     "output_type": "execute_result"
    }
   ],
   "source": [
    "# Read all files into a list (point to the folder with the files). See how long the list is.\n",
    "\n",
    "files = glob.glob('tweet (1)/*')\n",
    "#files = glob.glob('user/*')\n",
    "len(files)"
   ]
  },
  {
   "cell_type": "code",
   "execution_count": 8,
   "metadata": {},
   "outputs": [],
   "source": [
    "# Create an empty list; for each file in the files list, open it in read mode; read the json as a string; \n",
    "# convert the json string to a dictionary; append the dictionary to the empty list.\n",
    "\n",
    "dictlist = []\n",
    "\n",
    "for file in files:\n",
    "    json_string = open(file, 'r', encoding=\"utf8\").read()\n",
    "    json_dict = json.loads(json_string)\n",
    "    dictlist.append(json_dict)"
   ]
  },
  {
   "cell_type": "code",
   "execution_count": 9,
   "metadata": {},
   "outputs": [],
   "source": [
    "# We now have a list of dictionaries. We read it into a dataframe.\n",
    "\n",
    "df = pd.DataFrame(dictlist)\n",
    "\n",
    "df = df.replace({'\\n': ' '}, regex=True) # remove linebreaks in the dataframe\n",
    "df = df.replace({'\\t': ' '}, regex=True) # remove tabs in the dataframe\n",
    "df = df.replace({'\\r': ' '}, regex=True) # remove carriage returns"
   ]
  },
  {
   "cell_type": "code",
   "execution_count": 17,
   "metadata": {
    "scrolled": true
   },
   "outputs": [
    {
     "data": {
      "text/html": [
       "<div>\n",
       "<style scoped>\n",
       "    .dataframe tbody tr th:only-of-type {\n",
       "        vertical-align: middle;\n",
       "    }\n",
       "\n",
       "    .dataframe tbody tr th {\n",
       "        vertical-align: top;\n",
       "    }\n",
       "\n",
       "    .dataframe thead th {\n",
       "        text-align: right;\n",
       "    }\n",
       "</style>\n",
       "<table border=\"1\" class=\"dataframe\">\n",
       "  <thead>\n",
       "    <tr style=\"text-align: right;\">\n",
       "      <th></th>\n",
       "      <th>id_</th>\n",
       "      <th>raw_data</th>\n",
       "    </tr>\n",
       "  </thead>\n",
       "  <tbody>\n",
       "    <tr>\n",
       "      <th>0</th>\n",
       "      <td>1000031655585861633</td>\n",
       "      <td>{'created_at': 'Fri May 25 15:11:41 +0000 2018', 'id': 1000031655585861633, 'id_str': '1000031655585861633', 'full_text': 'Have a good weekend! #morganjt #novotelbangkoksukhumvit20 #popup20 #morganeattravelsketch #drink #drinks #instafood #finedining #pub #bar #liquor #yum #yummy #instagood #cocktail #cocktails #drinkup #glass #photooftheday #beer #beers #wine #socialenvy #delicious #eating #foo… https://t.co/IRNj03BNzH', 'truncated': False, 'display_text_range': [0, 276], 'entities': {'hashtags': [{'text': 'morganjt', 'indices': [21, 30]}, {'text': 'novotelbangkoksukhumvit20', 'indices': [31, 57]}, {'text': 'popup20', 'indices': [58, 66]}, {'text': 'morganeattravelsketch', 'indices': [67, 89]}, {'text': 'drink', 'indices': [90, 96]}, {'text': 'drinks', 'indices': [97, 104]}, {'text': 'instafood', 'indices': [105, 115]}, {'text': 'finedining', 'indices': [116, 127]}, {'text': 'pub', 'indices': [128, 132]}, {'text': 'bar', 'indices': [133, 137]}, {'text': 'liquor', 'indices': [138, 145]}, {'text': 'yum', 'indices': [146, 150]}, {'text': 'yummy', 'indices': [151, 157]}, {'text': 'instagood', 'indices': [158, 168]}, {'text': 'cocktail', 'indices': [169, 178]}, {'text': 'cocktails', 'indices': [179, 189]}, {'text': 'drinkup', 'indices': [190, 198]}, {'text': 'glass', 'indices': [199, 205]}, {'text': 'photooftheday', 'indices': [206, 220]}, {'text': 'beer', 'indices': [221, 226]}, {'text': 'beers', 'indices': [227, 233]}, {'text': 'wine', 'indices': [234, 239]}, {'text': 'socialenvy', 'indices': [240, 251]}, {'text': 'delicious', 'indices': [252, 262]}, {'text': 'eating', 'indices': [263, 270]}, {'text': 'foo', 'indices': [271, 275]}], 'symbols': [], 'user_mentions': [], 'urls': [], 'media': [{'id': 1000031654298226688, 'id_str': '1000031654298226688', 'indices': [277, 300], 'media_url': 'http://pbs.twimg.com/media/DeDTfb6XkAAqMNo.jpg', 'media_url_https': 'https://pbs.twimg.com/media/DeDTfb6XkAAqMNo.jpg', 'url': 'https://t.co/IRNj03BNzH', 'display_url': 'pic.twitter.com/IRNj03BNzH', 'expanded_url': 'https://twitter.com/morgant2421/status/1000031655585861633/photo/1', 'type': 'photo', 'original_info': {'width': 640, 'height': 640, 'focus_rects': [{'x': 0, 'y': 282, 'h': 358, 'w': 640}, {'x': 0, 'y': 0, 'h': 640, 'w': 640}, {'x': 79, 'y': 0, 'h': 640, 'w': 561}, {'x': 240, 'y': 0, 'h': 640, 'w': 320}, {'x': 0, 'y': 0, 'h': 640, 'w': 640}]}, 'sizes': {'thumb': {'w': 150, 'h': 150, 'resize': 'crop'}, 'large': {'w': 640, 'h': 640, 'resize': 'fit'}, 'medium': {'w': 640, 'h': 640, 'resize': 'fit'}, 'small': {'w': 640, 'h': 640, 'resize': 'fit'}}}]}, 'extended_entities': {'media': [{'id': 1000031654298226688, 'id_str': '1000031654298226688', 'indices': [277, 300], 'media_url': 'http://pbs.twimg.com/media/DeDTfb6XkAAqMNo.jpg', 'media_url_https': 'https://pbs.twimg.com/media/DeDTfb6XkAAqMNo.jpg', 'url': 'https://t.co/IRNj03BNzH', 'display_url': 'pic.twitter.com/IRNj03BNzH', 'expanded_url': 'https://twitter.com/morgant2421/status/1000031655585861633/photo/1', 'type': 'photo', 'original_info': {'width': 640, 'height': 640, 'focus_rects': [{'x': 0, 'y': 282, 'h': 358, 'w': 640}, {'x': 0, 'y': 0, 'h': 640, 'w': 640}, {'x': 79, 'y': 0, 'h': 640, 'w': 561}, {'x': 240, 'y': 0, 'h': 640, 'w': 320}, {'x': 0, 'y': 0, 'h': 640, 'w': 640}]}, 'sizes': {'thumb': {'w': 150, 'h': 150, 'resize': 'crop'}, 'large': {'w': 640, 'h': 640, 'resize': 'fit'}, 'medium': {'w': 640, 'h': 640, 'resize': 'fit'}, 'small': {'w': 640, 'h': 640, 'resize': 'fit'}}, 'media_key': '3_1000031654298226688', 'ext_alt_text': None, 'ext_media_availability': {'status': 'available'}, 'ext_media_color': {'palette': [{'rgb': {'red': 39, 'green': 41, 'blue': 33}, 'percentage': 54.76}, {'rgb': {'red': 123, 'green': 124, 'blue': 103}, 'percentage': 19.14}, {'rgb': {'red': 160, 'green': 129, 'blue': 53}, 'percentage': 9.41}, {'rgb': {'red': 239, 'green': 241, 'blue': 227}, 'percentage': 3.79}, {'rgb': {'red': 132, 'green': 158, 'blue': 86}, 'percentage': 3.3}]}, 'ext': {'mediaStats': {'r': 'Missing', 'ttl': -1}}}]}, 'source': '&lt;a href=\"https://ifttt.com\" rel=\"nofollow\"&gt;IFTTT&lt;/a&gt;', 'in_reply_to_status_id': None, 'in_reply_to_status_id_str': None, 'in_reply_to_user_id': None, 'in_reply_to_user_id_str': None, 'in_reply_to_screen_name': None, 'user_id': 172369420, 'user_id_str': '172369420', 'geo': None, 'coordinates': None, 'place': None, 'contributors': None, 'is_quote_status': False, 'retweet_count': 0, 'favorite_count': 0, 'reply_count': 0, 'quote_count': 0, 'conversation_id': 1000031655585861633, 'conversation_id_str': '1000031655585861633', 'favorited': False, 'retweeted': False, 'possibly_sensitive': False, 'possibly_sensitive_editable': True, 'lang': 'en', 'supplemental_language': None}</td>\n",
       "    </tr>\n",
       "    <tr>\n",
       "      <th>1</th>\n",
       "      <td>10002316329484288</td>\n",
       "      <td>{'created_at': 'Wed Dec 01 16:08:32 +0000 2010', 'id': 10002316329484288, 'id_str': '10002316329484288', 'full_text': '#foo is the #bar', 'truncated': False, 'display_text_range': [0, 16], 'entities': {'hashtags': [{'text': 'foo', 'indices': [0, 4]}, {'text': 'bar', 'indices': [12, 16]}], 'symbols': [], 'user_mentions': [], 'urls': []}, 'source': '&lt;a href=\"http://twitter.com\" rel=\"nofollow\"&gt;Twitter Web Client&lt;/a&gt;', 'in_reply_to_status_id': None, 'in_reply_to_status_id_str': None, 'in_reply_to_user_id': None, 'in_reply_to_user_id_str': None, 'in_reply_to_screen_name': None, 'user_id': 221719444, 'user_id_str': '221719444', 'geo': None, 'coordinates': None, 'place': None, 'contributors': None, 'is_quote_status': False, 'retweet_count': 0, 'favorite_count': 0, 'reply_count': 0, 'quote_count': 0, 'conversation_id': 10002316329484288, 'conversation_id_str': '10002316329484288', 'favorited': False, 'retweeted': False, 'lang': 'en', 'supplemental_language': None}</td>\n",
       "    </tr>\n",
       "    <tr>\n",
       "      <th>2</th>\n",
       "      <td>1002548007844438016</td>\n",
       "      <td>{'created_at': 'Fri Jun 01 13:50:46 +0000 2018', 'id': 1002548007844438016, 'id_str': '1002548007844438016', 'full_text': 'Gear up for TECHNO Music this Friday night.\n",
       "Join us at @retoxloungebar 7pm onwards\n",
       ".\n",
       ".\n",
       ".\n",
       ".\n",
       ".\n",
       ".\n",
       ".\n",
       "\n",
       "#RetoxLoungeBar #RetoxMangalore #Retox #Mangalore #FridayNight #FridaySpecial #FabFriday #PartyPlaces #PartyInmangalore #LoungeBar #bar #Party #Parties #Foo… https://t.co/daVY5l5et3 https://t.co/7s9QZxDHUc', 'truncated': False, 'display_text_range': [0, 279], 'entities': {'hashtags': [{'text': 'RetoxLoungeBar', 'indices': [98, 113]}, {'text': 'RetoxMangalore', 'indices': [114, 129]}, {'text': 'Retox', 'indices': [130, 136]}, {'text': 'Mangalore', 'indices': [137, 147]}, {'text': 'FridayNight', 'indices': [148, 160]}, {'text': 'FridaySpecial', 'indices': [161, 175]}, {'text': 'FabFriday', 'indices': [176, 186]}, {'text': 'PartyPlaces', 'indices': [187, 199]}, {'text': 'PartyInmangalore', 'indices': [200, 217]}, {'text': 'LoungeBar', 'indices': [218, 228]}, {'text': 'bar', 'indices': [229, 233]}, {'text': 'Party', 'indices': [234, 240]}, {'text': 'Parties', 'indices': [241, 249]}, {'text': 'Foo', 'indices': [250, 254]}], 'symbols': [], 'user_mentions': [{'screen_name': 'RetoxLoungeBar', 'name': 'Retox Lounge Bar', 'id': 935939273865404416, 'id_str': '935939273865404416', 'indices': [55, 70]}], 'urls': [{'url': 'https://t.co/daVY5l5et3', 'expanded_url': 'https://ift.tt/2J8ezx1', 'display_url': 'ift.tt/2J8ezx1', 'indices': [256, 279]}], 'media': [{'id': 1002548006686773249, 'id_str': '1002548006686773249', 'indices': [280, 303], 'media_url': 'http://pbs.twimg.com/media/DenEGbDXUAEu6X4.jpg', 'media_url_https': 'https://pbs.twimg.com/media/DenEGbDXUAEu6X4.jpg', 'url': 'https://t.co/7s9QZxDHUc', 'display_url': 'pic.twitter.com/7s9QZxDHUc', 'expanded_url': 'https://twitter.com/RetoxLoungeBar/status/1002548007844438016/photo/1', 'type': 'photo', 'original_info': {'width': 640, 'height': 640, 'focus_rects': [{'x': 0, 'y': 282, 'h': 358, 'w': 640}, {'x': 0, 'y': 0, 'h': 640, 'w': 640}, {'x': 24, 'y': 0, 'h': 640, 'w': 561}, {'x': 144, 'y': 0, 'h': 640, 'w': 320}, {'x': 0, 'y': 0, 'h': 640, 'w': 640}]}, 'sizes': {'thumb': {'w': 150, 'h': 150, 'resize': 'crop'}, 'medium': {'w': 640, 'h': 640, 'resize': 'fit'}, 'small': {'w': 640, 'h': 640, 'resize': 'fit'}, 'large': {'w': 640, 'h': 640, 'resize': 'fit'}}}]}, 'extended_entities': {'media': [{'id': 1002548006686773249, 'id_str': '1002548006686773249', 'indices': [280, 303], 'media_url': 'http://pbs.twimg.com/media/DenEGbDXUAEu6X4.jpg', 'media_url_https': 'https://pbs.twimg.com/media/DenEGbDXUAEu6X4.jpg', 'url': 'https://t.co/7s9QZxDHUc', 'display_url': 'pic.twitter.com/7s9QZxDHUc', 'expanded_url': 'https://twitter.com/RetoxLoungeBar/status/1002548007844438016/photo/1', 'type': 'photo', 'original_info': {'width': 640, 'height': 640, 'focus_rects': [{'x': 0, 'y': 282, 'h': 358, 'w': 640}, {'x': 0, 'y': 0, 'h': 640, 'w': 640}, {'x': 24, 'y': 0, 'h': 640, 'w': 561}, {'x': 144, 'y': 0, 'h': 640, 'w': 320}, {'x': 0, 'y': 0, 'h': 640, 'w': 640}]}, 'sizes': {'thumb': {'w': 150, 'h': 150, 'resize': 'crop'}, 'medium': {'w': 640, 'h': 640, 'resize': 'fit'}, 'small': {'w': 640, 'h': 640, 'resize': 'fit'}, 'large': {'w': 640, 'h': 640, 'resize': 'fit'}}, 'media_key': '3_1002548006686773249', 'ext_alt_text': None, 'ext_media_color': {'palette': [{'rgb': {'red': 10, 'green': 11, 'blue': 17}, 'percentage': 39.26}, {'rgb': {'red': 35, 'green': 33, 'blue': 85}, 'percentage': 24.16}, {'rgb': {'red': 83, 'green': 115, 'blue': 178}, 'percentage': 4.9}, {'rgb': {'red': 187, 'green': 205, 'blue': 205}, 'percentage': 4.63}, {'rgb': {'red': 221, 'green': 189, 'blue': 81}, 'percentage': 3.91}]}, 'ext_media_availability': {'status': 'available'}, 'ext': {'mediaStats': {'r': 'Missing', 'ttl': -1}}}]}, 'source': '&lt;a href=\"https://ifttt.com\" rel=\"nofollow\"&gt;IFTTT&lt;/a&gt;', 'in_reply_to_status_id': None, 'in_reply_to_status_id_str': None, 'in_reply_to_user_id': None, 'in_reply_to_user_id_str': None, 'in_reply_to_screen_name': None, 'user_id': 935939273865404416, 'user_id_str': '935939273865404416', 'geo': None, 'coordinates': None, 'place': None, 'contributors': None, 'is_quote_status': False, 'retweet_count': 0, 'favorite_count': 0, 'reply_count': 0, 'quote_count': 0, 'conversation_id': 1002548007844438016, 'conversation_id_str': '1002548007844438016', 'favorited': False, 'retweeted': False, 'possibly_sensitive': False, 'possibly_sensitive_editable': True, 'lang': 'en', 'supplemental_language': None}</td>\n",
       "    </tr>\n",
       "    <tr>\n",
       "      <th>3</th>\n",
       "      <td>1003643034041503745</td>\n",
       "      <td>{'created_at': 'Mon Jun 04 14:22:00 +0000 2018', 'id': 1003643034041503745, 'id_str': '1003643034041503745', 'full_text': 'How do I make @code stop formatting this:\n",
       "  &amp;lt;a class=\"foo\" href=\"#bar\" id=\"baz\"&amp;gt;Cats&amp;lt;/a&amp;gt;\n",
       "\n",
       "Like this:\n",
       "  &amp;lt;a class=\"foo\"\n",
       "        href=\"#bar\"\n",
       "        id=\"baz\"&amp;gt;Cats&amp;lt;/a&amp;gt;\n",
       "\n",
       "I really don’t want to have to disable extensions and enable one by one to see what’s doing this.', 'truncated': False, 'display_text_range': [0, 286], 'entities': {'hashtags': [{'text': 'bar', 'indices': [68, 72]}, {'text': 'bar', 'indices': [147, 151]}], 'symbols': [], 'user_mentions': [{'screen_name': 'code', 'name': 'Visual Studio Code', 'id': 3167734591, 'id_str': '3167734591', 'indices': [14, 19]}], 'urls': []}, 'source': '&lt;a href=\"https://tapbots.com/software/tweetbot/mac\" rel=\"nofollow\"&gt;Tweetbot for Mac&lt;/a&gt;', 'in_reply_to_status_id': None, 'in_reply_to_status_id_str': None, 'in_reply_to_user_id': None, 'in_reply_to_user_id_str': None, 'in_reply_to_screen_name': None, 'user_id': 246297435, 'user_id_str': '246297435', 'geo': None, 'coordinates': None, 'place': {'id': '6dd4aeb802da9f28', 'url': 'https://api.twitter.com/1.1/geo/id/6dd4aeb802da9f28.json', 'place_type': 'city', 'name': 'Newcastle Upon Tyne', 'full_name': 'Newcastle Upon Tyne, England', 'country_code': 'GB', 'country': 'United Kingdom', 'contained_within': [], 'bounding_box': {'type': 'Polygon', 'coordinates': [[[-1.6937923, 54.960055], [-1.596931, 54.960055], [-1.596931, 55.0240558], [-1.6937923, 55.0240558]]]}, 'attributes': {}}, 'contributors': None, 'is_quote_status': False, 'retweet_count': 0, 'favorite_count': 1, 'reply_count': 1, 'quote_count': 0, 'conversation_id': 1003643034041503745, 'conversation_id_str': '1003643034041503745', 'favorited': False, 'retweeted': False, 'lang': 'en', 'supplemental_language': None}</td>\n",
       "    </tr>\n",
       "    <tr>\n",
       "      <th>4</th>\n",
       "      <td>1003997561382932481</td>\n",
       "      <td>{'created_at': 'Tue Jun 05 13:50:46 +0000 2018', 'id': 1003997561382932481, 'id_str': '1003997561382932481', 'full_text': 'Show off your moves to Bollywood Tunes @retoxloungebar 7pm onwards\n",
       ".\n",
       ".\n",
       ".\n",
       ".\n",
       ".\n",
       ".\n",
       ".\n",
       " #RetoxLoungeBar #RetoxMangalore #Retox #Mangalore #BollywoodNight #Tuesday #TuesdayNight #TuesdaySpecial #PartyPlaces #PartyInmangalore #LoungeBar #bar #Party #Parties #Foo… https://t.co/Ij7udQQCHg https://t.co/wBVXrfRMnq', 'truncated': False, 'display_text_range': [0, 279], 'entities': {'hashtags': [{'text': 'RetoxLoungeBar', 'indices': [82, 97]}, {'text': 'RetoxMangalore', 'indices': [98, 113]}, {'text': 'Retox', 'indices': [114, 120]}, {'text': 'Mangalore', 'indices': [121, 131]}, {'text': 'BollywoodNight', 'indices': [132, 147]}, {'text': 'Tuesday', 'indices': [148, 156]}, {'text': 'TuesdayNight', 'indices': [157, 170]}, {'text': 'TuesdaySpecial', 'indices': [171, 186]}, {'text': 'PartyPlaces', 'indices': [187, 199]}, {'text': 'PartyInmangalore', 'indices': [200, 217]}, {'text': 'LoungeBar', 'indices': [218, 228]}, {'text': 'bar', 'indices': [229, 233]}, {'text': 'Party', 'indices': [234, 240]}, {'text': 'Parties', 'indices': [241, 249]}, {'text': 'Foo', 'indices': [250, 254]}], 'symbols': [], 'user_mentions': [{'screen_name': 'RetoxLoungeBar', 'name': 'Retox Lounge Bar', 'id': 935939273865404416, 'id_str': '935939273865404416', 'indices': [39, 54]}], 'urls': [{'url': 'https://t.co/Ij7udQQCHg', 'expanded_url': 'https://ift.tt/2JqZsSJ', 'display_url': 'ift.tt/2JqZsSJ', 'indices': [256, 279]}], 'media': [{'id': 1003997559990505472, 'id_str': '1003997559990505472', 'indices': [280, 303], 'media_url': 'http://pbs.twimg.com/media/De7qdh6X0AA3vS_.jpg', 'media_url_https': 'https://pbs.twimg.com/media/De7qdh6X0AA3vS_.jpg', 'url': 'https://t.co/wBVXrfRMnq', 'display_url': 'pic.twitter.com/wBVXrfRMnq', 'expanded_url': 'https://twitter.com/RetoxLoungeBar/status/1003997561382932481/photo/1', 'type': 'photo', 'original_info': {'width': 640, 'height': 704, 'focus_rects': [{'x': 0, 'y': 155, 'h': 358, 'w': 640}, {'x': 0, 'y': 14, 'h': 640, 'w': 640}, {'x': 22, 'y': 0, 'h': 704, 'w': 618}, {'x': 193, 'y': 0, 'h': 704, 'w': 352}, {'x': 0, 'y': 0, 'h': 704, 'w': 640}]}, 'sizes': {'thumb': {'w': 150, 'h': 150, 'resize': 'crop'}, 'medium': {'w': 640, 'h': 704, 'resize': 'fit'}, 'small': {'w': 618, 'h': 680, 'resize': 'fit'}, 'large': {'w': 640, 'h': 704, 'resize': 'fit'}}}]}, 'extended_entities': {'media': [{'id': 1003997559990505472, 'id_str': '1003997559990505472', 'indices': [280, 303], 'media_url': 'http://pbs.twimg.com/media/De7qdh6X0AA3vS_.jpg', 'media_url_https': 'https://pbs.twimg.com/media/De7qdh6X0AA3vS_.jpg', 'url': 'https://t.co/wBVXrfRMnq', 'display_url': 'pic.twitter.com/wBVXrfRMnq', 'expanded_url': 'https://twitter.com/RetoxLoungeBar/status/1003997561382932481/photo/1', 'type': 'photo', 'original_info': {'width': 640, 'height': 704, 'focus_rects': [{'x': 0, 'y': 155, 'h': 358, 'w': 640}, {'x': 0, 'y': 14, 'h': 640, 'w': 640}, {'x': 22, 'y': 0, 'h': 704, 'w': 618}, {'x': 193, 'y': 0, 'h': 704, 'w': 352}, {'x': 0, 'y': 0, 'h': 704, 'w': 640}]}, 'sizes': {'thumb': {'w': 150, 'h': 150, 'resize': 'crop'}, 'medium': {'w': 640, 'h': 704, 'resize': 'fit'}, 'small': {'w': 618, 'h': 680, 'resize': 'fit'}, 'large': {'w': 640, 'h': 704, 'resize': 'fit'}}, 'media_key': '3_1003997559990505472', 'ext_alt_text': None, 'ext_media_availability': {'status': 'available'}, 'ext_media_color': {'palette': [{'rgb': {'red': 2, 'green': 1, 'blue': 2}, 'percentage': 46.3}, {'rgb': {'red': 222, 'green': 24, 'blue': 143}, 'percentage': 8.61}, {'rgb': {'red': 70, 'green': 18, 'blue': 66}, 'percentage': 6.28}, {'rgb': {'red': 145, 'green': 41, 'blue': 142}, 'percentage': 5.5}, {'rgb': {'red': 7, 'green': 37, 'blue': 78}, 'percentage': 4.05}]}, 'ext': {'mediaStats': {'r': 'Missing', 'ttl': -1}}}]}, 'source': '&lt;a href=\"https://ifttt.com\" rel=\"nofollow\"&gt;IFTTT&lt;/a&gt;', 'in_reply_to_status_id': None, 'in_reply_to_status_id_str': None, 'in_reply_to_user_id': None, 'in_reply_to_user_id_str': None, 'in_reply_to_screen_name': None, 'user_id': 935939273865404416, 'user_id_str': '935939273865404416', 'geo': None, 'coordinates': None, 'place': None, 'contributors': None, 'is_quote_status': False, 'retweet_count': 0, 'favorite_count': 0, 'reply_count': 0, 'quote_count': 0, 'conversation_id': 1003997561382932481, 'conversation_id_str': '1003997561382932481', 'favorited': False, 'retweeted': False, 'possibly_sensitive': False, 'possibly_sensitive_editable': True, 'lang': 'en', 'supplemental_language': None}</td>\n",
       "    </tr>\n",
       "  </tbody>\n",
       "</table>\n",
       "</div>"
      ],
      "text/plain": [
       "                   id_                                                                                                                                                                                                                                                                                                                                                                                                                                                                                                                                                                                                                                                                                                                                                                                                                                                                                                                                                                                                                                                                                                                                                                                                                                                                                                                                                                                                                                                                                                                                                                                                                                                                                                                                                                                                                                                                                                                                                                                                                                                                                                                                                                                                                                                                                                                                                                                                                                                                                                                                                                                                                                                                                                                                                                                                                                                                                                                                                                                                                                                                                                                                                                                                                                                                                                                                                                                                                                                                                                                                                                                                                                                                                                                                                                                                                                                                                                                                                                                                                                                                                                                                                                                                                                                                                                                                                                                                                                                                                                                                                                                                                                                                                                                                                                                                                                                                                                   raw_data\n",
       "0  1000031655585861633  {'created_at': 'Fri May 25 15:11:41 +0000 2018', 'id': 1000031655585861633, 'id_str': '1000031655585861633', 'full_text': 'Have a good weekend! #morganjt #novotelbangkoksukhumvit20 #popup20 #morganeattravelsketch #drink #drinks #instafood #finedining #pub #bar #liquor #yum #yummy #instagood #cocktail #cocktails #drinkup #glass #photooftheday #beer #beers #wine #socialenvy #delicious #eating #foo… https://t.co/IRNj03BNzH', 'truncated': False, 'display_text_range': [0, 276], 'entities': {'hashtags': [{'text': 'morganjt', 'indices': [21, 30]}, {'text': 'novotelbangkoksukhumvit20', 'indices': [31, 57]}, {'text': 'popup20', 'indices': [58, 66]}, {'text': 'morganeattravelsketch', 'indices': [67, 89]}, {'text': 'drink', 'indices': [90, 96]}, {'text': 'drinks', 'indices': [97, 104]}, {'text': 'instafood', 'indices': [105, 115]}, {'text': 'finedining', 'indices': [116, 127]}, {'text': 'pub', 'indices': [128, 132]}, {'text': 'bar', 'indices': [133, 137]}, {'text': 'liquor', 'indices': [138, 145]}, {'text': 'yum', 'indices': [146, 150]}, {'text': 'yummy', 'indices': [151, 157]}, {'text': 'instagood', 'indices': [158, 168]}, {'text': 'cocktail', 'indices': [169, 178]}, {'text': 'cocktails', 'indices': [179, 189]}, {'text': 'drinkup', 'indices': [190, 198]}, {'text': 'glass', 'indices': [199, 205]}, {'text': 'photooftheday', 'indices': [206, 220]}, {'text': 'beer', 'indices': [221, 226]}, {'text': 'beers', 'indices': [227, 233]}, {'text': 'wine', 'indices': [234, 239]}, {'text': 'socialenvy', 'indices': [240, 251]}, {'text': 'delicious', 'indices': [252, 262]}, {'text': 'eating', 'indices': [263, 270]}, {'text': 'foo', 'indices': [271, 275]}], 'symbols': [], 'user_mentions': [], 'urls': [], 'media': [{'id': 1000031654298226688, 'id_str': '1000031654298226688', 'indices': [277, 300], 'media_url': 'http://pbs.twimg.com/media/DeDTfb6XkAAqMNo.jpg', 'media_url_https': 'https://pbs.twimg.com/media/DeDTfb6XkAAqMNo.jpg', 'url': 'https://t.co/IRNj03BNzH', 'display_url': 'pic.twitter.com/IRNj03BNzH', 'expanded_url': 'https://twitter.com/morgant2421/status/1000031655585861633/photo/1', 'type': 'photo', 'original_info': {'width': 640, 'height': 640, 'focus_rects': [{'x': 0, 'y': 282, 'h': 358, 'w': 640}, {'x': 0, 'y': 0, 'h': 640, 'w': 640}, {'x': 79, 'y': 0, 'h': 640, 'w': 561}, {'x': 240, 'y': 0, 'h': 640, 'w': 320}, {'x': 0, 'y': 0, 'h': 640, 'w': 640}]}, 'sizes': {'thumb': {'w': 150, 'h': 150, 'resize': 'crop'}, 'large': {'w': 640, 'h': 640, 'resize': 'fit'}, 'medium': {'w': 640, 'h': 640, 'resize': 'fit'}, 'small': {'w': 640, 'h': 640, 'resize': 'fit'}}}]}, 'extended_entities': {'media': [{'id': 1000031654298226688, 'id_str': '1000031654298226688', 'indices': [277, 300], 'media_url': 'http://pbs.twimg.com/media/DeDTfb6XkAAqMNo.jpg', 'media_url_https': 'https://pbs.twimg.com/media/DeDTfb6XkAAqMNo.jpg', 'url': 'https://t.co/IRNj03BNzH', 'display_url': 'pic.twitter.com/IRNj03BNzH', 'expanded_url': 'https://twitter.com/morgant2421/status/1000031655585861633/photo/1', 'type': 'photo', 'original_info': {'width': 640, 'height': 640, 'focus_rects': [{'x': 0, 'y': 282, 'h': 358, 'w': 640}, {'x': 0, 'y': 0, 'h': 640, 'w': 640}, {'x': 79, 'y': 0, 'h': 640, 'w': 561}, {'x': 240, 'y': 0, 'h': 640, 'w': 320}, {'x': 0, 'y': 0, 'h': 640, 'w': 640}]}, 'sizes': {'thumb': {'w': 150, 'h': 150, 'resize': 'crop'}, 'large': {'w': 640, 'h': 640, 'resize': 'fit'}, 'medium': {'w': 640, 'h': 640, 'resize': 'fit'}, 'small': {'w': 640, 'h': 640, 'resize': 'fit'}}, 'media_key': '3_1000031654298226688', 'ext_alt_text': None, 'ext_media_availability': {'status': 'available'}, 'ext_media_color': {'palette': [{'rgb': {'red': 39, 'green': 41, 'blue': 33}, 'percentage': 54.76}, {'rgb': {'red': 123, 'green': 124, 'blue': 103}, 'percentage': 19.14}, {'rgb': {'red': 160, 'green': 129, 'blue': 53}, 'percentage': 9.41}, {'rgb': {'red': 239, 'green': 241, 'blue': 227}, 'percentage': 3.79}, {'rgb': {'red': 132, 'green': 158, 'blue': 86}, 'percentage': 3.3}]}, 'ext': {'mediaStats': {'r': 'Missing', 'ttl': -1}}}]}, 'source': '<a href=\"https://ifttt.com\" rel=\"nofollow\">IFTTT</a>', 'in_reply_to_status_id': None, 'in_reply_to_status_id_str': None, 'in_reply_to_user_id': None, 'in_reply_to_user_id_str': None, 'in_reply_to_screen_name': None, 'user_id': 172369420, 'user_id_str': '172369420', 'geo': None, 'coordinates': None, 'place': None, 'contributors': None, 'is_quote_status': False, 'retweet_count': 0, 'favorite_count': 0, 'reply_count': 0, 'quote_count': 0, 'conversation_id': 1000031655585861633, 'conversation_id_str': '1000031655585861633', 'favorited': False, 'retweeted': False, 'possibly_sensitive': False, 'possibly_sensitive_editable': True, 'lang': 'en', 'supplemental_language': None}\n",
       "1    10002316329484288                                                                                                                                                                                                                                                                                                                                                                                                                                                                                                                                                                                                                                                                                                                                                                                                                                                                                                                                                                                                                                                                                                                                                                                                                                                                                                                                                                                                                                                                                                                                                                                                                                                                                                                                                                                                                                                                                                                                                                                                                                                                                                                                                                                                                                                                                                                                                                                                                                                                                                                                                                                                                                                                                                                                                                                                                                                                                                                                                                                                                                                                                                                                                                                                                                                                                                                                                                                                                                                                                                                                                                                                                                                                                                                                                                                                                                                                                                 {'created_at': 'Wed Dec 01 16:08:32 +0000 2010', 'id': 10002316329484288, 'id_str': '10002316329484288', 'full_text': '#foo is the #bar', 'truncated': False, 'display_text_range': [0, 16], 'entities': {'hashtags': [{'text': 'foo', 'indices': [0, 4]}, {'text': 'bar', 'indices': [12, 16]}], 'symbols': [], 'user_mentions': [], 'urls': []}, 'source': '<a href=\"http://twitter.com\" rel=\"nofollow\">Twitter Web Client</a>', 'in_reply_to_status_id': None, 'in_reply_to_status_id_str': None, 'in_reply_to_user_id': None, 'in_reply_to_user_id_str': None, 'in_reply_to_screen_name': None, 'user_id': 221719444, 'user_id_str': '221719444', 'geo': None, 'coordinates': None, 'place': None, 'contributors': None, 'is_quote_status': False, 'retweet_count': 0, 'favorite_count': 0, 'reply_count': 0, 'quote_count': 0, 'conversation_id': 10002316329484288, 'conversation_id_str': '10002316329484288', 'favorited': False, 'retweeted': False, 'lang': 'en', 'supplemental_language': None}\n",
       "2  1002548007844438016                                                                                                                                                                                                                      {'created_at': 'Fri Jun 01 13:50:46 +0000 2018', 'id': 1002548007844438016, 'id_str': '1002548007844438016', 'full_text': 'Gear up for TECHNO Music this Friday night.\n",
       "Join us at @retoxloungebar 7pm onwards\n",
       ".\n",
       ".\n",
       ".\n",
       ".\n",
       ".\n",
       ".\n",
       ".\n",
       "\n",
       "#RetoxLoungeBar #RetoxMangalore #Retox #Mangalore #FridayNight #FridaySpecial #FabFriday #PartyPlaces #PartyInmangalore #LoungeBar #bar #Party #Parties #Foo… https://t.co/daVY5l5et3 https://t.co/7s9QZxDHUc', 'truncated': False, 'display_text_range': [0, 279], 'entities': {'hashtags': [{'text': 'RetoxLoungeBar', 'indices': [98, 113]}, {'text': 'RetoxMangalore', 'indices': [114, 129]}, {'text': 'Retox', 'indices': [130, 136]}, {'text': 'Mangalore', 'indices': [137, 147]}, {'text': 'FridayNight', 'indices': [148, 160]}, {'text': 'FridaySpecial', 'indices': [161, 175]}, {'text': 'FabFriday', 'indices': [176, 186]}, {'text': 'PartyPlaces', 'indices': [187, 199]}, {'text': 'PartyInmangalore', 'indices': [200, 217]}, {'text': 'LoungeBar', 'indices': [218, 228]}, {'text': 'bar', 'indices': [229, 233]}, {'text': 'Party', 'indices': [234, 240]}, {'text': 'Parties', 'indices': [241, 249]}, {'text': 'Foo', 'indices': [250, 254]}], 'symbols': [], 'user_mentions': [{'screen_name': 'RetoxLoungeBar', 'name': 'Retox Lounge Bar', 'id': 935939273865404416, 'id_str': '935939273865404416', 'indices': [55, 70]}], 'urls': [{'url': 'https://t.co/daVY5l5et3', 'expanded_url': 'https://ift.tt/2J8ezx1', 'display_url': 'ift.tt/2J8ezx1', 'indices': [256, 279]}], 'media': [{'id': 1002548006686773249, 'id_str': '1002548006686773249', 'indices': [280, 303], 'media_url': 'http://pbs.twimg.com/media/DenEGbDXUAEu6X4.jpg', 'media_url_https': 'https://pbs.twimg.com/media/DenEGbDXUAEu6X4.jpg', 'url': 'https://t.co/7s9QZxDHUc', 'display_url': 'pic.twitter.com/7s9QZxDHUc', 'expanded_url': 'https://twitter.com/RetoxLoungeBar/status/1002548007844438016/photo/1', 'type': 'photo', 'original_info': {'width': 640, 'height': 640, 'focus_rects': [{'x': 0, 'y': 282, 'h': 358, 'w': 640}, {'x': 0, 'y': 0, 'h': 640, 'w': 640}, {'x': 24, 'y': 0, 'h': 640, 'w': 561}, {'x': 144, 'y': 0, 'h': 640, 'w': 320}, {'x': 0, 'y': 0, 'h': 640, 'w': 640}]}, 'sizes': {'thumb': {'w': 150, 'h': 150, 'resize': 'crop'}, 'medium': {'w': 640, 'h': 640, 'resize': 'fit'}, 'small': {'w': 640, 'h': 640, 'resize': 'fit'}, 'large': {'w': 640, 'h': 640, 'resize': 'fit'}}}]}, 'extended_entities': {'media': [{'id': 1002548006686773249, 'id_str': '1002548006686773249', 'indices': [280, 303], 'media_url': 'http://pbs.twimg.com/media/DenEGbDXUAEu6X4.jpg', 'media_url_https': 'https://pbs.twimg.com/media/DenEGbDXUAEu6X4.jpg', 'url': 'https://t.co/7s9QZxDHUc', 'display_url': 'pic.twitter.com/7s9QZxDHUc', 'expanded_url': 'https://twitter.com/RetoxLoungeBar/status/1002548007844438016/photo/1', 'type': 'photo', 'original_info': {'width': 640, 'height': 640, 'focus_rects': [{'x': 0, 'y': 282, 'h': 358, 'w': 640}, {'x': 0, 'y': 0, 'h': 640, 'w': 640}, {'x': 24, 'y': 0, 'h': 640, 'w': 561}, {'x': 144, 'y': 0, 'h': 640, 'w': 320}, {'x': 0, 'y': 0, 'h': 640, 'w': 640}]}, 'sizes': {'thumb': {'w': 150, 'h': 150, 'resize': 'crop'}, 'medium': {'w': 640, 'h': 640, 'resize': 'fit'}, 'small': {'w': 640, 'h': 640, 'resize': 'fit'}, 'large': {'w': 640, 'h': 640, 'resize': 'fit'}}, 'media_key': '3_1002548006686773249', 'ext_alt_text': None, 'ext_media_color': {'palette': [{'rgb': {'red': 10, 'green': 11, 'blue': 17}, 'percentage': 39.26}, {'rgb': {'red': 35, 'green': 33, 'blue': 85}, 'percentage': 24.16}, {'rgb': {'red': 83, 'green': 115, 'blue': 178}, 'percentage': 4.9}, {'rgb': {'red': 187, 'green': 205, 'blue': 205}, 'percentage': 4.63}, {'rgb': {'red': 221, 'green': 189, 'blue': 81}, 'percentage': 3.91}]}, 'ext_media_availability': {'status': 'available'}, 'ext': {'mediaStats': {'r': 'Missing', 'ttl': -1}}}]}, 'source': '<a href=\"https://ifttt.com\" rel=\"nofollow\">IFTTT</a>', 'in_reply_to_status_id': None, 'in_reply_to_status_id_str': None, 'in_reply_to_user_id': None, 'in_reply_to_user_id_str': None, 'in_reply_to_screen_name': None, 'user_id': 935939273865404416, 'user_id_str': '935939273865404416', 'geo': None, 'coordinates': None, 'place': None, 'contributors': None, 'is_quote_status': False, 'retweet_count': 0, 'favorite_count': 0, 'reply_count': 0, 'quote_count': 0, 'conversation_id': 1002548007844438016, 'conversation_id_str': '1002548007844438016', 'favorited': False, 'retweeted': False, 'possibly_sensitive': False, 'possibly_sensitive_editable': True, 'lang': 'en', 'supplemental_language': None}\n",
       "3  1003643034041503745                                                                                                                                                                                                                                                                                                                                                                                                                                                                                                                                                                                                                                                                                                                                                                                                                                                                                                                                                                                                                                                                                                                                                                                                                                                                                                                                                                                                                                                                                                                                                                                                                                                                                                                                                                                                                                                                                                                                                                                                                                                                                                                                                                                                                                                                                                                                                                                                                                                                                                                                                                                                                                                                                                                                                                                                                                                                                                                                                                                                         {'created_at': 'Mon Jun 04 14:22:00 +0000 2018', 'id': 1003643034041503745, 'id_str': '1003643034041503745', 'full_text': 'How do I make @code stop formatting this:\n",
       "  &lt;a class=\"foo\" href=\"#bar\" id=\"baz\"&gt;Cats&lt;/a&gt;\n",
       "\n",
       "Like this:\n",
       "  &lt;a class=\"foo\"\n",
       "        href=\"#bar\"\n",
       "        id=\"baz\"&gt;Cats&lt;/a&gt;\n",
       "\n",
       "I really don’t want to have to disable extensions and enable one by one to see what’s doing this.', 'truncated': False, 'display_text_range': [0, 286], 'entities': {'hashtags': [{'text': 'bar', 'indices': [68, 72]}, {'text': 'bar', 'indices': [147, 151]}], 'symbols': [], 'user_mentions': [{'screen_name': 'code', 'name': 'Visual Studio Code', 'id': 3167734591, 'id_str': '3167734591', 'indices': [14, 19]}], 'urls': []}, 'source': '<a href=\"https://tapbots.com/software/tweetbot/mac\" rel=\"nofollow\">Tweetbot for Mac</a>', 'in_reply_to_status_id': None, 'in_reply_to_status_id_str': None, 'in_reply_to_user_id': None, 'in_reply_to_user_id_str': None, 'in_reply_to_screen_name': None, 'user_id': 246297435, 'user_id_str': '246297435', 'geo': None, 'coordinates': None, 'place': {'id': '6dd4aeb802da9f28', 'url': 'https://api.twitter.com/1.1/geo/id/6dd4aeb802da9f28.json', 'place_type': 'city', 'name': 'Newcastle Upon Tyne', 'full_name': 'Newcastle Upon Tyne, England', 'country_code': 'GB', 'country': 'United Kingdom', 'contained_within': [], 'bounding_box': {'type': 'Polygon', 'coordinates': [[[-1.6937923, 54.960055], [-1.596931, 54.960055], [-1.596931, 55.0240558], [-1.6937923, 55.0240558]]]}, 'attributes': {}}, 'contributors': None, 'is_quote_status': False, 'retweet_count': 0, 'favorite_count': 1, 'reply_count': 1, 'quote_count': 0, 'conversation_id': 1003643034041503745, 'conversation_id_str': '1003643034041503745', 'favorited': False, 'retweeted': False, 'lang': 'en', 'supplemental_language': None}\n",
       "4  1003997561382932481                                                                                                                                                                            {'created_at': 'Tue Jun 05 13:50:46 +0000 2018', 'id': 1003997561382932481, 'id_str': '1003997561382932481', 'full_text': 'Show off your moves to Bollywood Tunes @retoxloungebar 7pm onwards\n",
       ".\n",
       ".\n",
       ".\n",
       ".\n",
       ".\n",
       ".\n",
       ".\n",
       " #RetoxLoungeBar #RetoxMangalore #Retox #Mangalore #BollywoodNight #Tuesday #TuesdayNight #TuesdaySpecial #PartyPlaces #PartyInmangalore #LoungeBar #bar #Party #Parties #Foo… https://t.co/Ij7udQQCHg https://t.co/wBVXrfRMnq', 'truncated': False, 'display_text_range': [0, 279], 'entities': {'hashtags': [{'text': 'RetoxLoungeBar', 'indices': [82, 97]}, {'text': 'RetoxMangalore', 'indices': [98, 113]}, {'text': 'Retox', 'indices': [114, 120]}, {'text': 'Mangalore', 'indices': [121, 131]}, {'text': 'BollywoodNight', 'indices': [132, 147]}, {'text': 'Tuesday', 'indices': [148, 156]}, {'text': 'TuesdayNight', 'indices': [157, 170]}, {'text': 'TuesdaySpecial', 'indices': [171, 186]}, {'text': 'PartyPlaces', 'indices': [187, 199]}, {'text': 'PartyInmangalore', 'indices': [200, 217]}, {'text': 'LoungeBar', 'indices': [218, 228]}, {'text': 'bar', 'indices': [229, 233]}, {'text': 'Party', 'indices': [234, 240]}, {'text': 'Parties', 'indices': [241, 249]}, {'text': 'Foo', 'indices': [250, 254]}], 'symbols': [], 'user_mentions': [{'screen_name': 'RetoxLoungeBar', 'name': 'Retox Lounge Bar', 'id': 935939273865404416, 'id_str': '935939273865404416', 'indices': [39, 54]}], 'urls': [{'url': 'https://t.co/Ij7udQQCHg', 'expanded_url': 'https://ift.tt/2JqZsSJ', 'display_url': 'ift.tt/2JqZsSJ', 'indices': [256, 279]}], 'media': [{'id': 1003997559990505472, 'id_str': '1003997559990505472', 'indices': [280, 303], 'media_url': 'http://pbs.twimg.com/media/De7qdh6X0AA3vS_.jpg', 'media_url_https': 'https://pbs.twimg.com/media/De7qdh6X0AA3vS_.jpg', 'url': 'https://t.co/wBVXrfRMnq', 'display_url': 'pic.twitter.com/wBVXrfRMnq', 'expanded_url': 'https://twitter.com/RetoxLoungeBar/status/1003997561382932481/photo/1', 'type': 'photo', 'original_info': {'width': 640, 'height': 704, 'focus_rects': [{'x': 0, 'y': 155, 'h': 358, 'w': 640}, {'x': 0, 'y': 14, 'h': 640, 'w': 640}, {'x': 22, 'y': 0, 'h': 704, 'w': 618}, {'x': 193, 'y': 0, 'h': 704, 'w': 352}, {'x': 0, 'y': 0, 'h': 704, 'w': 640}]}, 'sizes': {'thumb': {'w': 150, 'h': 150, 'resize': 'crop'}, 'medium': {'w': 640, 'h': 704, 'resize': 'fit'}, 'small': {'w': 618, 'h': 680, 'resize': 'fit'}, 'large': {'w': 640, 'h': 704, 'resize': 'fit'}}}]}, 'extended_entities': {'media': [{'id': 1003997559990505472, 'id_str': '1003997559990505472', 'indices': [280, 303], 'media_url': 'http://pbs.twimg.com/media/De7qdh6X0AA3vS_.jpg', 'media_url_https': 'https://pbs.twimg.com/media/De7qdh6X0AA3vS_.jpg', 'url': 'https://t.co/wBVXrfRMnq', 'display_url': 'pic.twitter.com/wBVXrfRMnq', 'expanded_url': 'https://twitter.com/RetoxLoungeBar/status/1003997561382932481/photo/1', 'type': 'photo', 'original_info': {'width': 640, 'height': 704, 'focus_rects': [{'x': 0, 'y': 155, 'h': 358, 'w': 640}, {'x': 0, 'y': 14, 'h': 640, 'w': 640}, {'x': 22, 'y': 0, 'h': 704, 'w': 618}, {'x': 193, 'y': 0, 'h': 704, 'w': 352}, {'x': 0, 'y': 0, 'h': 704, 'w': 640}]}, 'sizes': {'thumb': {'w': 150, 'h': 150, 'resize': 'crop'}, 'medium': {'w': 640, 'h': 704, 'resize': 'fit'}, 'small': {'w': 618, 'h': 680, 'resize': 'fit'}, 'large': {'w': 640, 'h': 704, 'resize': 'fit'}}, 'media_key': '3_1003997559990505472', 'ext_alt_text': None, 'ext_media_availability': {'status': 'available'}, 'ext_media_color': {'palette': [{'rgb': {'red': 2, 'green': 1, 'blue': 2}, 'percentage': 46.3}, {'rgb': {'red': 222, 'green': 24, 'blue': 143}, 'percentage': 8.61}, {'rgb': {'red': 70, 'green': 18, 'blue': 66}, 'percentage': 6.28}, {'rgb': {'red': 145, 'green': 41, 'blue': 142}, 'percentage': 5.5}, {'rgb': {'red': 7, 'green': 37, 'blue': 78}, 'percentage': 4.05}]}, 'ext': {'mediaStats': {'r': 'Missing', 'ttl': -1}}}]}, 'source': '<a href=\"https://ifttt.com\" rel=\"nofollow\">IFTTT</a>', 'in_reply_to_status_id': None, 'in_reply_to_status_id_str': None, 'in_reply_to_user_id': None, 'in_reply_to_user_id_str': None, 'in_reply_to_screen_name': None, 'user_id': 935939273865404416, 'user_id_str': '935939273865404416', 'geo': None, 'coordinates': None, 'place': None, 'contributors': None, 'is_quote_status': False, 'retweet_count': 0, 'favorite_count': 0, 'reply_count': 0, 'quote_count': 0, 'conversation_id': 1003997561382932481, 'conversation_id_str': '1003997561382932481', 'favorited': False, 'retweeted': False, 'possibly_sensitive': False, 'possibly_sensitive_editable': True, 'lang': 'en', 'supplemental_language': None}"
      ]
     },
     "execution_count": 17,
     "metadata": {},
     "output_type": "execute_result"
    }
   ],
   "source": [
    "df.head()"
   ]
  },
  {
   "cell_type": "code",
   "execution_count": 13,
   "metadata": {},
   "outputs": [
    {
     "name": "stdout",
     "output_type": "stream",
     "text": [
      "<class 'pandas.core.frame.DataFrame'>\n",
      "RangeIndex: 1233 entries, 0 to 1232\n",
      "Data columns (total 2 columns):\n",
      " #   Column    Non-Null Count  Dtype \n",
      "---  ------    --------------  ----- \n",
      " 0   id_       1233 non-null   object\n",
      " 1   raw_data  1233 non-null   object\n",
      "dtypes: object(2)\n",
      "memory usage: 19.4+ KB\n"
     ]
    }
   ],
   "source": [
    "df.info()"
   ]
  },
  {
   "cell_type": "code",
   "execution_count": 18,
   "metadata": {},
   "outputs": [],
   "source": [
    "# Export to csv\n",
    "df.to_csv(\"data.csv\")"
   ]
  },
  {
   "cell_type": "markdown",
   "metadata": {},
   "source": [
    "# Second method for JSON processing"
   ]
  },
  {
   "cell_type": "code",
   "execution_count": 13,
   "metadata": {},
   "outputs": [],
   "source": [
    "import os\n",
    "\n",
    "tweets = []\n",
    "for file in os.listdir('tweet (1)/'):\n",
    "    filename = 'tweet (1)/' + str(file)\n",
    "    if filename[12:15].isdigit():\n",
    "        with open(filename, encoding=\"utf8\") as tweetfile:\n",
    "            pyresponse = json.loads(tweetfile.read())\n",
    "            tweets.append(pyresponse)"
   ]
  },
  {
   "cell_type": "code",
   "execution_count": 26,
   "metadata": {
    "scrolled": true
   },
   "outputs": [
    {
     "name": "stdout",
     "output_type": "stream",
     "text": [
      " Total keys :  dict_keys(['id_', 'raw_data'])\n",
      " This is text :  This one hit home... #foo #bar https://t.co/o4hq5gVumK \n",
      "\n",
      "{'created_at': 'Fri May 18 13:36:13 +0000 2018', 'id': 997470919420456960, 'id_str': '997470919420456960', 'full_text': 'This one hit home... #foo #bar https://t.co/o4hq5gVumK', 'truncated': False, 'display_text_range': [0, 30], 'entities': {'hashtags': [{'text': 'foo', 'indices': [21, 25]}, {'text': 'bar', 'indices': [26, 30]}], 'symbols': [], 'user_mentions': [], 'urls': [], 'media': [{'id': 997470592243712001, 'id_str': '997470592243712001', 'indices': [31, 54], 'media_url': 'http://pbs.twimg.com/media/Dde6OASVwAEESpS.jpg', 'media_url_https': 'https://pbs.twimg.com/media/Dde6OASVwAEESpS.jpg', 'url': 'https://t.co/o4hq5gVumK', 'display_url': 'pic.twitter.com/o4hq5gVumK', 'expanded_url': 'https://twitter.com/Bennett_MarkL/status/997470919420456960/photo/1', 'type': 'photo', 'original_info': {'width': 750, 'height': 810, 'focus_rects': [{'x': 0, 'y': 0, 'h': 420, 'w': 750}, {'x': 0, 'y': 0, 'h': 750, 'w': 750}, {'x': 0, 'y': 0, 'h': 810, 'w': 711}, {'x': 20, 'y': 0, 'h': 810, 'w': 405}, {'x': 0, 'y': 0, 'h': 810, 'w': 750}]}, 'sizes': {'thumb': {'w': 150, 'h': 150, 'resize': 'crop'}, 'large': {'w': 750, 'h': 810, 'resize': 'fit'}, 'medium': {'w': 750, 'h': 810, 'resize': 'fit'}, 'small': {'w': 630, 'h': 680, 'resize': 'fit'}}}]}, 'extended_entities': {'media': [{'id': 997470592243712001, 'id_str': '997470592243712001', 'indices': [31, 54], 'media_url': 'http://pbs.twimg.com/media/Dde6OASVwAEESpS.jpg', 'media_url_https': 'https://pbs.twimg.com/media/Dde6OASVwAEESpS.jpg', 'url': 'https://t.co/o4hq5gVumK', 'display_url': 'pic.twitter.com/o4hq5gVumK', 'expanded_url': 'https://twitter.com/Bennett_MarkL/status/997470919420456960/photo/1', 'type': 'photo', 'original_info': {'width': 750, 'height': 810, 'focus_rects': [{'x': 0, 'y': 0, 'h': 420, 'w': 750}, {'x': 0, 'y': 0, 'h': 750, 'w': 750}, {'x': 0, 'y': 0, 'h': 810, 'w': 711}, {'x': 20, 'y': 0, 'h': 810, 'w': 405}, {'x': 0, 'y': 0, 'h': 810, 'w': 750}]}, 'sizes': {'thumb': {'w': 150, 'h': 150, 'resize': 'crop'}, 'large': {'w': 750, 'h': 810, 'resize': 'fit'}, 'medium': {'w': 750, 'h': 810, 'resize': 'fit'}, 'small': {'w': 630, 'h': 680, 'resize': 'fit'}}, 'media_key': '3_997470592243712001', 'ext_alt_text': None, 'ext_media_availability': {'status': 'available'}, 'ext_media_color': {'palette': [{'rgb': {'red': 235, 'green': 235, 'blue': 235}, 'percentage': 46.55}, {'rgb': {'red': 131, 'green': 161, 'blue': 123}, 'percentage': 15.42}, {'rgb': {'red': 49, 'green': 28, 'blue': 53}, 'percentage': 9.53}, {'rgb': {'red': 76, 'green': 56, 'blue': 50}, 'percentage': 8.77}, {'rgb': {'red': 135, 'green': 107, 'blue': 66}, 'percentage': 3.76}]}, 'ext': {'mediaStats': {'r': 'Missing', 'ttl': -1}}}]}, 'source': '<a href=\"http://twitter.com\" rel=\"nofollow\">Twitter Web Client</a>', 'in_reply_to_status_id': None, 'in_reply_to_status_id_str': None, 'in_reply_to_user_id': None, 'in_reply_to_user_id_str': None, 'in_reply_to_screen_name': None, 'user_id': 613600989, 'user_id_str': '613600989', 'geo': None, 'coordinates': None, 'place': None, 'contributors': None, 'is_quote_status': False, 'retweet_count': 0, 'favorite_count': 2, 'reply_count': 0, 'quote_count': 1, 'conversation_id': 997470919420456960, 'conversation_id_str': '997470919420456960', 'favorited': False, 'retweeted': False, 'possibly_sensitive': False, 'possibly_sensitive_editable': True, 'lang': 'en', 'supplemental_language': None}\n"
     ]
    }
   ],
   "source": [
    "print(\" Total keys : \",pyresponse.keys())\n",
    "print(\" This is text : \", pyresponse['raw_data']['full_text'],\"\\n\")\n",
    "print(pyresponse['raw_data'])"
   ]
  },
  {
   "cell_type": "code",
   "execution_count": 16,
   "metadata": {
    "scrolled": true
   },
   "outputs": [
    {
     "data": {
      "text/html": [
       "<div>\n",
       "<style scoped>\n",
       "    .dataframe tbody tr th:only-of-type {\n",
       "        vertical-align: middle;\n",
       "    }\n",
       "\n",
       "    .dataframe tbody tr th {\n",
       "        vertical-align: top;\n",
       "    }\n",
       "\n",
       "    .dataframe thead th {\n",
       "        text-align: right;\n",
       "    }\n",
       "</style>\n",
       "<table border=\"1\" class=\"dataframe\">\n",
       "  <thead>\n",
       "    <tr style=\"text-align: right;\">\n",
       "      <th></th>\n",
       "      <th>id_</th>\n",
       "      <th>raw_data</th>\n",
       "    </tr>\n",
       "  </thead>\n",
       "  <tbody>\n",
       "    <tr>\n",
       "      <th>0</th>\n",
       "      <td>1000031655585861633</td>\n",
       "      <td>{'created_at': 'Fri May 25 15:11:41 +0000 2018', 'id': 1000031655585861633, 'id_str': '1000031655585861633', 'full_text': 'Have a good weekend! #morganjt #novotelbangkoksukhumvit20 #popup20 #morganeattravelsketch #drink #drinks #instafood #finedining #pub #bar #liquor #yum #yummy #instagood #cocktail #cocktails #drinkup #glass #photooftheday #beer #beers #wine #socialenvy #delicious #eating #foo… https://t.co/IRNj03BNzH', 'truncated': False, 'display_text_range': [0, 276], 'entities': {'hashtags': [{'text': 'morganjt', 'indices': [21, 30]}, {'text': 'novotelbangkoksukhumvit20', 'indices': [31, 57]}, {'text': 'popup20', 'indices': [58, 66]}, {'text': 'morganeattravelsketch', 'indices': [67, 89]}, {'text': 'drink', 'indices': [90, 96]}, {'text': 'drinks', 'indices': [97, 104]}, {'text': 'instafood', 'indices': [105, 115]}, {'text': 'finedining', 'indices': [116, 127]}, {'text': 'pub', 'indices': [128, 132]}, {'text': 'bar', 'indices': [133, 137]}, {'text': 'liquor', 'indices': [138, 145]}, {'text': 'yum', 'indices': [146, 150]}, {'text': 'yummy', 'indices': [151, 157]}, {'text': 'instagood', 'indices': [158, 168]}, {'text': 'cocktail', 'indices': [169, 178]}, {'text': 'cocktails', 'indices': [179, 189]}, {'text': 'drinkup', 'indices': [190, 198]}, {'text': 'glass', 'indices': [199, 205]}, {'text': 'photooftheday', 'indices': [206, 220]}, {'text': 'beer', 'indices': [221, 226]}, {'text': 'beers', 'indices': [227, 233]}, {'text': 'wine', 'indices': [234, 239]}, {'text': 'socialenvy', 'indices': [240, 251]}, {'text': 'delicious', 'indices': [252, 262]}, {'text': 'eating', 'indices': [263, 270]}, {'text': 'foo', 'indices': [271, 275]}], 'symbols': [], 'user_mentions': [], 'urls': [], 'media': [{'id': 1000031654298226688, 'id_str': '1000031654298226688', 'indices': [277, 300], 'media_url': 'http://pbs.twimg.com/media/DeDTfb6XkAAqMNo.jpg', 'media_url_https': 'https://pbs.twimg.com/media/DeDTfb6XkAAqMNo.jpg', 'url': 'https://t.co/IRNj03BNzH', 'display_url': 'pic.twitter.com/IRNj03BNzH', 'expanded_url': 'https://twitter.com/morgant2421/status/1000031655585861633/photo/1', 'type': 'photo', 'original_info': {'width': 640, 'height': 640, 'focus_rects': [{'x': 0, 'y': 282, 'h': 358, 'w': 640}, {'x': 0, 'y': 0, 'h': 640, 'w': 640}, {'x': 79, 'y': 0, 'h': 640, 'w': 561}, {'x': 240, 'y': 0, 'h': 640, 'w': 320}, {'x': 0, 'y': 0, 'h': 640, 'w': 640}]}, 'sizes': {'thumb': {'w': 150, 'h': 150, 'resize': 'crop'}, 'large': {'w': 640, 'h': 640, 'resize': 'fit'}, 'medium': {'w': 640, 'h': 640, 'resize': 'fit'}, 'small': {'w': 640, 'h': 640, 'resize': 'fit'}}}]}, 'extended_entities': {'media': [{'id': 1000031654298226688, 'id_str': '1000031654298226688', 'indices': [277, 300], 'media_url': 'http://pbs.twimg.com/media/DeDTfb6XkAAqMNo.jpg', 'media_url_https': 'https://pbs.twimg.com/media/DeDTfb6XkAAqMNo.jpg', 'url': 'https://t.co/IRNj03BNzH', 'display_url': 'pic.twitter.com/IRNj03BNzH', 'expanded_url': 'https://twitter.com/morgant2421/status/1000031655585861633/photo/1', 'type': 'photo', 'original_info': {'width': 640, 'height': 640, 'focus_rects': [{'x': 0, 'y': 282, 'h': 358, 'w': 640}, {'x': 0, 'y': 0, 'h': 640, 'w': 640}, {'x': 79, 'y': 0, 'h': 640, 'w': 561}, {'x': 240, 'y': 0, 'h': 640, 'w': 320}, {'x': 0, 'y': 0, 'h': 640, 'w': 640}]}, 'sizes': {'thumb': {'w': 150, 'h': 150, 'resize': 'crop'}, 'large': {'w': 640, 'h': 640, 'resize': 'fit'}, 'medium': {'w': 640, 'h': 640, 'resize': 'fit'}, 'small': {'w': 640, 'h': 640, 'resize': 'fit'}}, 'media_key': '3_1000031654298226688', 'ext_alt_text': None, 'ext_media_availability': {'status': 'available'}, 'ext_media_color': {'palette': [{'rgb': {'red': 39, 'green': 41, 'blue': 33}, 'percentage': 54.76}, {'rgb': {'red': 123, 'green': 124, 'blue': 103}, 'percentage': 19.14}, {'rgb': {'red': 160, 'green': 129, 'blue': 53}, 'percentage': 9.41}, {'rgb': {'red': 239, 'green': 241, 'blue': 227}, 'percentage': 3.79}, {'rgb': {'red': 132, 'green': 158, 'blue': 86}, 'percentage': 3.3}]}, 'ext': {'mediaStats': {'r': 'Missing', 'ttl': -1}}}]}, 'source': '&lt;a href=\"https://ifttt.com\" rel=\"nofollow\"&gt;IFTTT&lt;/a&gt;', 'in_reply_to_status_id': None, 'in_reply_to_status_id_str': None, 'in_reply_to_user_id': None, 'in_reply_to_user_id_str': None, 'in_reply_to_screen_name': None, 'user_id': 172369420, 'user_id_str': '172369420', 'geo': None, 'coordinates': None, 'place': None, 'contributors': None, 'is_quote_status': False, 'retweet_count': 0, 'favorite_count': 0, 'reply_count': 0, 'quote_count': 0, 'conversation_id': 1000031655585861633, 'conversation_id_str': '1000031655585861633', 'favorited': False, 'retweeted': False, 'possibly_sensitive': False, 'possibly_sensitive_editable': True, 'lang': 'en', 'supplemental_language': None}</td>\n",
       "    </tr>\n",
       "    <tr>\n",
       "      <th>1</th>\n",
       "      <td>10002316329484288</td>\n",
       "      <td>{'created_at': 'Wed Dec 01 16:08:32 +0000 2010', 'id': 10002316329484288, 'id_str': '10002316329484288', 'full_text': '#foo is the #bar', 'truncated': False, 'display_text_range': [0, 16], 'entities': {'hashtags': [{'text': 'foo', 'indices': [0, 4]}, {'text': 'bar', 'indices': [12, 16]}], 'symbols': [], 'user_mentions': [], 'urls': []}, 'source': '&lt;a href=\"http://twitter.com\" rel=\"nofollow\"&gt;Twitter Web Client&lt;/a&gt;', 'in_reply_to_status_id': None, 'in_reply_to_status_id_str': None, 'in_reply_to_user_id': None, 'in_reply_to_user_id_str': None, 'in_reply_to_screen_name': None, 'user_id': 221719444, 'user_id_str': '221719444', 'geo': None, 'coordinates': None, 'place': None, 'contributors': None, 'is_quote_status': False, 'retweet_count': 0, 'favorite_count': 0, 'reply_count': 0, 'quote_count': 0, 'conversation_id': 10002316329484288, 'conversation_id_str': '10002316329484288', 'favorited': False, 'retweeted': False, 'lang': 'en', 'supplemental_language': None}</td>\n",
       "    </tr>\n",
       "    <tr>\n",
       "      <th>2</th>\n",
       "      <td>1002548007844438016</td>\n",
       "      <td>{'created_at': 'Fri Jun 01 13:50:46 +0000 2018', 'id': 1002548007844438016, 'id_str': '1002548007844438016', 'full_text': 'Gear up for TECHNO Music this Friday night.\n",
       "Join us at @retoxloungebar 7pm onwards\n",
       ".\n",
       ".\n",
       ".\n",
       ".\n",
       ".\n",
       ".\n",
       ".\n",
       "\n",
       "#RetoxLoungeBar #RetoxMangalore #Retox #Mangalore #FridayNight #FridaySpecial #FabFriday #PartyPlaces #PartyInmangalore #LoungeBar #bar #Party #Parties #Foo… https://t.co/daVY5l5et3 https://t.co/7s9QZxDHUc', 'truncated': False, 'display_text_range': [0, 279], 'entities': {'hashtags': [{'text': 'RetoxLoungeBar', 'indices': [98, 113]}, {'text': 'RetoxMangalore', 'indices': [114, 129]}, {'text': 'Retox', 'indices': [130, 136]}, {'text': 'Mangalore', 'indices': [137, 147]}, {'text': 'FridayNight', 'indices': [148, 160]}, {'text': 'FridaySpecial', 'indices': [161, 175]}, {'text': 'FabFriday', 'indices': [176, 186]}, {'text': 'PartyPlaces', 'indices': [187, 199]}, {'text': 'PartyInmangalore', 'indices': [200, 217]}, {'text': 'LoungeBar', 'indices': [218, 228]}, {'text': 'bar', 'indices': [229, 233]}, {'text': 'Party', 'indices': [234, 240]}, {'text': 'Parties', 'indices': [241, 249]}, {'text': 'Foo', 'indices': [250, 254]}], 'symbols': [], 'user_mentions': [{'screen_name': 'RetoxLoungeBar', 'name': 'Retox Lounge Bar', 'id': 935939273865404416, 'id_str': '935939273865404416', 'indices': [55, 70]}], 'urls': [{'url': 'https://t.co/daVY5l5et3', 'expanded_url': 'https://ift.tt/2J8ezx1', 'display_url': 'ift.tt/2J8ezx1', 'indices': [256, 279]}], 'media': [{'id': 1002548006686773249, 'id_str': '1002548006686773249', 'indices': [280, 303], 'media_url': 'http://pbs.twimg.com/media/DenEGbDXUAEu6X4.jpg', 'media_url_https': 'https://pbs.twimg.com/media/DenEGbDXUAEu6X4.jpg', 'url': 'https://t.co/7s9QZxDHUc', 'display_url': 'pic.twitter.com/7s9QZxDHUc', 'expanded_url': 'https://twitter.com/RetoxLoungeBar/status/1002548007844438016/photo/1', 'type': 'photo', 'original_info': {'width': 640, 'height': 640, 'focus_rects': [{'x': 0, 'y': 282, 'h': 358, 'w': 640}, {'x': 0, 'y': 0, 'h': 640, 'w': 640}, {'x': 24, 'y': 0, 'h': 640, 'w': 561}, {'x': 144, 'y': 0, 'h': 640, 'w': 320}, {'x': 0, 'y': 0, 'h': 640, 'w': 640}]}, 'sizes': {'thumb': {'w': 150, 'h': 150, 'resize': 'crop'}, 'medium': {'w': 640, 'h': 640, 'resize': 'fit'}, 'small': {'w': 640, 'h': 640, 'resize': 'fit'}, 'large': {'w': 640, 'h': 640, 'resize': 'fit'}}}]}, 'extended_entities': {'media': [{'id': 1002548006686773249, 'id_str': '1002548006686773249', 'indices': [280, 303], 'media_url': 'http://pbs.twimg.com/media/DenEGbDXUAEu6X4.jpg', 'media_url_https': 'https://pbs.twimg.com/media/DenEGbDXUAEu6X4.jpg', 'url': 'https://t.co/7s9QZxDHUc', 'display_url': 'pic.twitter.com/7s9QZxDHUc', 'expanded_url': 'https://twitter.com/RetoxLoungeBar/status/1002548007844438016/photo/1', 'type': 'photo', 'original_info': {'width': 640, 'height': 640, 'focus_rects': [{'x': 0, 'y': 282, 'h': 358, 'w': 640}, {'x': 0, 'y': 0, 'h': 640, 'w': 640}, {'x': 24, 'y': 0, 'h': 640, 'w': 561}, {'x': 144, 'y': 0, 'h': 640, 'w': 320}, {'x': 0, 'y': 0, 'h': 640, 'w': 640}]}, 'sizes': {'thumb': {'w': 150, 'h': 150, 'resize': 'crop'}, 'medium': {'w': 640, 'h': 640, 'resize': 'fit'}, 'small': {'w': 640, 'h': 640, 'resize': 'fit'}, 'large': {'w': 640, 'h': 640, 'resize': 'fit'}}, 'media_key': '3_1002548006686773249', 'ext_alt_text': None, 'ext_media_color': {'palette': [{'rgb': {'red': 10, 'green': 11, 'blue': 17}, 'percentage': 39.26}, {'rgb': {'red': 35, 'green': 33, 'blue': 85}, 'percentage': 24.16}, {'rgb': {'red': 83, 'green': 115, 'blue': 178}, 'percentage': 4.9}, {'rgb': {'red': 187, 'green': 205, 'blue': 205}, 'percentage': 4.63}, {'rgb': {'red': 221, 'green': 189, 'blue': 81}, 'percentage': 3.91}]}, 'ext_media_availability': {'status': 'available'}, 'ext': {'mediaStats': {'r': 'Missing', 'ttl': -1}}}]}, 'source': '&lt;a href=\"https://ifttt.com\" rel=\"nofollow\"&gt;IFTTT&lt;/a&gt;', 'in_reply_to_status_id': None, 'in_reply_to_status_id_str': None, 'in_reply_to_user_id': None, 'in_reply_to_user_id_str': None, 'in_reply_to_screen_name': None, 'user_id': 935939273865404416, 'user_id_str': '935939273865404416', 'geo': None, 'coordinates': None, 'place': None, 'contributors': None, 'is_quote_status': False, 'retweet_count': 0, 'favorite_count': 0, 'reply_count': 0, 'quote_count': 0, 'conversation_id': 1002548007844438016, 'conversation_id_str': '1002548007844438016', 'favorited': False, 'retweeted': False, 'possibly_sensitive': False, 'possibly_sensitive_editable': True, 'lang': 'en', 'supplemental_language': None}</td>\n",
       "    </tr>\n",
       "    <tr>\n",
       "      <th>3</th>\n",
       "      <td>1003643034041503745</td>\n",
       "      <td>{'created_at': 'Mon Jun 04 14:22:00 +0000 2018', 'id': 1003643034041503745, 'id_str': '1003643034041503745', 'full_text': 'How do I make @code stop formatting this:\n",
       "  &amp;lt;a class=\"foo\" href=\"#bar\" id=\"baz\"&amp;gt;Cats&amp;lt;/a&amp;gt;\n",
       "\n",
       "Like this:\n",
       "  &amp;lt;a class=\"foo\"\n",
       "        href=\"#bar\"\n",
       "        id=\"baz\"&amp;gt;Cats&amp;lt;/a&amp;gt;\n",
       "\n",
       "I really don’t want to have to disable extensions and enable one by one to see what’s doing this.', 'truncated': False, 'display_text_range': [0, 286], 'entities': {'hashtags': [{'text': 'bar', 'indices': [68, 72]}, {'text': 'bar', 'indices': [147, 151]}], 'symbols': [], 'user_mentions': [{'screen_name': 'code', 'name': 'Visual Studio Code', 'id': 3167734591, 'id_str': '3167734591', 'indices': [14, 19]}], 'urls': []}, 'source': '&lt;a href=\"https://tapbots.com/software/tweetbot/mac\" rel=\"nofollow\"&gt;Tweetbot for Mac&lt;/a&gt;', 'in_reply_to_status_id': None, 'in_reply_to_status_id_str': None, 'in_reply_to_user_id': None, 'in_reply_to_user_id_str': None, 'in_reply_to_screen_name': None, 'user_id': 246297435, 'user_id_str': '246297435', 'geo': None, 'coordinates': None, 'place': {'id': '6dd4aeb802da9f28', 'url': 'https://api.twitter.com/1.1/geo/id/6dd4aeb802da9f28.json', 'place_type': 'city', 'name': 'Newcastle Upon Tyne', 'full_name': 'Newcastle Upon Tyne, England', 'country_code': 'GB', 'country': 'United Kingdom', 'contained_within': [], 'bounding_box': {'type': 'Polygon', 'coordinates': [[[-1.6937923, 54.960055], [-1.596931, 54.960055], [-1.596931, 55.0240558], [-1.6937923, 55.0240558]]]}, 'attributes': {}}, 'contributors': None, 'is_quote_status': False, 'retweet_count': 0, 'favorite_count': 1, 'reply_count': 1, 'quote_count': 0, 'conversation_id': 1003643034041503745, 'conversation_id_str': '1003643034041503745', 'favorited': False, 'retweeted': False, 'lang': 'en', 'supplemental_language': None}</td>\n",
       "    </tr>\n",
       "    <tr>\n",
       "      <th>4</th>\n",
       "      <td>1003997561382932481</td>\n",
       "      <td>{'created_at': 'Tue Jun 05 13:50:46 +0000 2018', 'id': 1003997561382932481, 'id_str': '1003997561382932481', 'full_text': 'Show off your moves to Bollywood Tunes @retoxloungebar 7pm onwards\n",
       ".\n",
       ".\n",
       ".\n",
       ".\n",
       ".\n",
       ".\n",
       ".\n",
       " #RetoxLoungeBar #RetoxMangalore #Retox #Mangalore #BollywoodNight #Tuesday #TuesdayNight #TuesdaySpecial #PartyPlaces #PartyInmangalore #LoungeBar #bar #Party #Parties #Foo… https://t.co/Ij7udQQCHg https://t.co/wBVXrfRMnq', 'truncated': False, 'display_text_range': [0, 279], 'entities': {'hashtags': [{'text': 'RetoxLoungeBar', 'indices': [82, 97]}, {'text': 'RetoxMangalore', 'indices': [98, 113]}, {'text': 'Retox', 'indices': [114, 120]}, {'text': 'Mangalore', 'indices': [121, 131]}, {'text': 'BollywoodNight', 'indices': [132, 147]}, {'text': 'Tuesday', 'indices': [148, 156]}, {'text': 'TuesdayNight', 'indices': [157, 170]}, {'text': 'TuesdaySpecial', 'indices': [171, 186]}, {'text': 'PartyPlaces', 'indices': [187, 199]}, {'text': 'PartyInmangalore', 'indices': [200, 217]}, {'text': 'LoungeBar', 'indices': [218, 228]}, {'text': 'bar', 'indices': [229, 233]}, {'text': 'Party', 'indices': [234, 240]}, {'text': 'Parties', 'indices': [241, 249]}, {'text': 'Foo', 'indices': [250, 254]}], 'symbols': [], 'user_mentions': [{'screen_name': 'RetoxLoungeBar', 'name': 'Retox Lounge Bar', 'id': 935939273865404416, 'id_str': '935939273865404416', 'indices': [39, 54]}], 'urls': [{'url': 'https://t.co/Ij7udQQCHg', 'expanded_url': 'https://ift.tt/2JqZsSJ', 'display_url': 'ift.tt/2JqZsSJ', 'indices': [256, 279]}], 'media': [{'id': 1003997559990505472, 'id_str': '1003997559990505472', 'indices': [280, 303], 'media_url': 'http://pbs.twimg.com/media/De7qdh6X0AA3vS_.jpg', 'media_url_https': 'https://pbs.twimg.com/media/De7qdh6X0AA3vS_.jpg', 'url': 'https://t.co/wBVXrfRMnq', 'display_url': 'pic.twitter.com/wBVXrfRMnq', 'expanded_url': 'https://twitter.com/RetoxLoungeBar/status/1003997561382932481/photo/1', 'type': 'photo', 'original_info': {'width': 640, 'height': 704, 'focus_rects': [{'x': 0, 'y': 155, 'h': 358, 'w': 640}, {'x': 0, 'y': 14, 'h': 640, 'w': 640}, {'x': 22, 'y': 0, 'h': 704, 'w': 618}, {'x': 193, 'y': 0, 'h': 704, 'w': 352}, {'x': 0, 'y': 0, 'h': 704, 'w': 640}]}, 'sizes': {'thumb': {'w': 150, 'h': 150, 'resize': 'crop'}, 'medium': {'w': 640, 'h': 704, 'resize': 'fit'}, 'small': {'w': 618, 'h': 680, 'resize': 'fit'}, 'large': {'w': 640, 'h': 704, 'resize': 'fit'}}}]}, 'extended_entities': {'media': [{'id': 1003997559990505472, 'id_str': '1003997559990505472', 'indices': [280, 303], 'media_url': 'http://pbs.twimg.com/media/De7qdh6X0AA3vS_.jpg', 'media_url_https': 'https://pbs.twimg.com/media/De7qdh6X0AA3vS_.jpg', 'url': 'https://t.co/wBVXrfRMnq', 'display_url': 'pic.twitter.com/wBVXrfRMnq', 'expanded_url': 'https://twitter.com/RetoxLoungeBar/status/1003997561382932481/photo/1', 'type': 'photo', 'original_info': {'width': 640, 'height': 704, 'focus_rects': [{'x': 0, 'y': 155, 'h': 358, 'w': 640}, {'x': 0, 'y': 14, 'h': 640, 'w': 640}, {'x': 22, 'y': 0, 'h': 704, 'w': 618}, {'x': 193, 'y': 0, 'h': 704, 'w': 352}, {'x': 0, 'y': 0, 'h': 704, 'w': 640}]}, 'sizes': {'thumb': {'w': 150, 'h': 150, 'resize': 'crop'}, 'medium': {'w': 640, 'h': 704, 'resize': 'fit'}, 'small': {'w': 618, 'h': 680, 'resize': 'fit'}, 'large': {'w': 640, 'h': 704, 'resize': 'fit'}}, 'media_key': '3_1003997559990505472', 'ext_alt_text': None, 'ext_media_availability': {'status': 'available'}, 'ext_media_color': {'palette': [{'rgb': {'red': 2, 'green': 1, 'blue': 2}, 'percentage': 46.3}, {'rgb': {'red': 222, 'green': 24, 'blue': 143}, 'percentage': 8.61}, {'rgb': {'red': 70, 'green': 18, 'blue': 66}, 'percentage': 6.28}, {'rgb': {'red': 145, 'green': 41, 'blue': 142}, 'percentage': 5.5}, {'rgb': {'red': 7, 'green': 37, 'blue': 78}, 'percentage': 4.05}]}, 'ext': {'mediaStats': {'r': 'Missing', 'ttl': -1}}}]}, 'source': '&lt;a href=\"https://ifttt.com\" rel=\"nofollow\"&gt;IFTTT&lt;/a&gt;', 'in_reply_to_status_id': None, 'in_reply_to_status_id_str': None, 'in_reply_to_user_id': None, 'in_reply_to_user_id_str': None, 'in_reply_to_screen_name': None, 'user_id': 935939273865404416, 'user_id_str': '935939273865404416', 'geo': None, 'coordinates': None, 'place': None, 'contributors': None, 'is_quote_status': False, 'retweet_count': 0, 'favorite_count': 0, 'reply_count': 0, 'quote_count': 0, 'conversation_id': 1003997561382932481, 'conversation_id_str': '1003997561382932481', 'favorited': False, 'retweeted': False, 'possibly_sensitive': False, 'possibly_sensitive_editable': True, 'lang': 'en', 'supplemental_language': None}</td>\n",
       "    </tr>\n",
       "  </tbody>\n",
       "</table>\n",
       "</div>"
      ],
      "text/plain": [
       "                   id_                                                                                                                                                                                                                                                                                                                                                                                                                                                                                                                                                                                                                                                                                                                                                                                                                                                                                                                                                                                                                                                                                                                                                                                                                                                                                                                                                                                                                                                                                                                                                                                                                                                                                                                                                                                                                                                                                                                                                                                                                                                                                                                                                                                                                                                                                                                                                                                                                                                                                                                                                                                                                                                                                                                                                                                                                                                                                                                                                                                                                                                                                                                                                                                                                                                                                                                                                                                                                                                                                                                                                                                                                                                                                                                                                                                                                                                                                                                                                                                                                                                                                                                                                                                                                                                                                                                                                                                                                                                                                                                                                                                                                                                                                                                                                                                                                                                                                                   raw_data\n",
       "0  1000031655585861633  {'created_at': 'Fri May 25 15:11:41 +0000 2018', 'id': 1000031655585861633, 'id_str': '1000031655585861633', 'full_text': 'Have a good weekend! #morganjt #novotelbangkoksukhumvit20 #popup20 #morganeattravelsketch #drink #drinks #instafood #finedining #pub #bar #liquor #yum #yummy #instagood #cocktail #cocktails #drinkup #glass #photooftheday #beer #beers #wine #socialenvy #delicious #eating #foo… https://t.co/IRNj03BNzH', 'truncated': False, 'display_text_range': [0, 276], 'entities': {'hashtags': [{'text': 'morganjt', 'indices': [21, 30]}, {'text': 'novotelbangkoksukhumvit20', 'indices': [31, 57]}, {'text': 'popup20', 'indices': [58, 66]}, {'text': 'morganeattravelsketch', 'indices': [67, 89]}, {'text': 'drink', 'indices': [90, 96]}, {'text': 'drinks', 'indices': [97, 104]}, {'text': 'instafood', 'indices': [105, 115]}, {'text': 'finedining', 'indices': [116, 127]}, {'text': 'pub', 'indices': [128, 132]}, {'text': 'bar', 'indices': [133, 137]}, {'text': 'liquor', 'indices': [138, 145]}, {'text': 'yum', 'indices': [146, 150]}, {'text': 'yummy', 'indices': [151, 157]}, {'text': 'instagood', 'indices': [158, 168]}, {'text': 'cocktail', 'indices': [169, 178]}, {'text': 'cocktails', 'indices': [179, 189]}, {'text': 'drinkup', 'indices': [190, 198]}, {'text': 'glass', 'indices': [199, 205]}, {'text': 'photooftheday', 'indices': [206, 220]}, {'text': 'beer', 'indices': [221, 226]}, {'text': 'beers', 'indices': [227, 233]}, {'text': 'wine', 'indices': [234, 239]}, {'text': 'socialenvy', 'indices': [240, 251]}, {'text': 'delicious', 'indices': [252, 262]}, {'text': 'eating', 'indices': [263, 270]}, {'text': 'foo', 'indices': [271, 275]}], 'symbols': [], 'user_mentions': [], 'urls': [], 'media': [{'id': 1000031654298226688, 'id_str': '1000031654298226688', 'indices': [277, 300], 'media_url': 'http://pbs.twimg.com/media/DeDTfb6XkAAqMNo.jpg', 'media_url_https': 'https://pbs.twimg.com/media/DeDTfb6XkAAqMNo.jpg', 'url': 'https://t.co/IRNj03BNzH', 'display_url': 'pic.twitter.com/IRNj03BNzH', 'expanded_url': 'https://twitter.com/morgant2421/status/1000031655585861633/photo/1', 'type': 'photo', 'original_info': {'width': 640, 'height': 640, 'focus_rects': [{'x': 0, 'y': 282, 'h': 358, 'w': 640}, {'x': 0, 'y': 0, 'h': 640, 'w': 640}, {'x': 79, 'y': 0, 'h': 640, 'w': 561}, {'x': 240, 'y': 0, 'h': 640, 'w': 320}, {'x': 0, 'y': 0, 'h': 640, 'w': 640}]}, 'sizes': {'thumb': {'w': 150, 'h': 150, 'resize': 'crop'}, 'large': {'w': 640, 'h': 640, 'resize': 'fit'}, 'medium': {'w': 640, 'h': 640, 'resize': 'fit'}, 'small': {'w': 640, 'h': 640, 'resize': 'fit'}}}]}, 'extended_entities': {'media': [{'id': 1000031654298226688, 'id_str': '1000031654298226688', 'indices': [277, 300], 'media_url': 'http://pbs.twimg.com/media/DeDTfb6XkAAqMNo.jpg', 'media_url_https': 'https://pbs.twimg.com/media/DeDTfb6XkAAqMNo.jpg', 'url': 'https://t.co/IRNj03BNzH', 'display_url': 'pic.twitter.com/IRNj03BNzH', 'expanded_url': 'https://twitter.com/morgant2421/status/1000031655585861633/photo/1', 'type': 'photo', 'original_info': {'width': 640, 'height': 640, 'focus_rects': [{'x': 0, 'y': 282, 'h': 358, 'w': 640}, {'x': 0, 'y': 0, 'h': 640, 'w': 640}, {'x': 79, 'y': 0, 'h': 640, 'w': 561}, {'x': 240, 'y': 0, 'h': 640, 'w': 320}, {'x': 0, 'y': 0, 'h': 640, 'w': 640}]}, 'sizes': {'thumb': {'w': 150, 'h': 150, 'resize': 'crop'}, 'large': {'w': 640, 'h': 640, 'resize': 'fit'}, 'medium': {'w': 640, 'h': 640, 'resize': 'fit'}, 'small': {'w': 640, 'h': 640, 'resize': 'fit'}}, 'media_key': '3_1000031654298226688', 'ext_alt_text': None, 'ext_media_availability': {'status': 'available'}, 'ext_media_color': {'palette': [{'rgb': {'red': 39, 'green': 41, 'blue': 33}, 'percentage': 54.76}, {'rgb': {'red': 123, 'green': 124, 'blue': 103}, 'percentage': 19.14}, {'rgb': {'red': 160, 'green': 129, 'blue': 53}, 'percentage': 9.41}, {'rgb': {'red': 239, 'green': 241, 'blue': 227}, 'percentage': 3.79}, {'rgb': {'red': 132, 'green': 158, 'blue': 86}, 'percentage': 3.3}]}, 'ext': {'mediaStats': {'r': 'Missing', 'ttl': -1}}}]}, 'source': '<a href=\"https://ifttt.com\" rel=\"nofollow\">IFTTT</a>', 'in_reply_to_status_id': None, 'in_reply_to_status_id_str': None, 'in_reply_to_user_id': None, 'in_reply_to_user_id_str': None, 'in_reply_to_screen_name': None, 'user_id': 172369420, 'user_id_str': '172369420', 'geo': None, 'coordinates': None, 'place': None, 'contributors': None, 'is_quote_status': False, 'retweet_count': 0, 'favorite_count': 0, 'reply_count': 0, 'quote_count': 0, 'conversation_id': 1000031655585861633, 'conversation_id_str': '1000031655585861633', 'favorited': False, 'retweeted': False, 'possibly_sensitive': False, 'possibly_sensitive_editable': True, 'lang': 'en', 'supplemental_language': None}\n",
       "1    10002316329484288                                                                                                                                                                                                                                                                                                                                                                                                                                                                                                                                                                                                                                                                                                                                                                                                                                                                                                                                                                                                                                                                                                                                                                                                                                                                                                                                                                                                                                                                                                                                                                                                                                                                                                                                                                                                                                                                                                                                                                                                                                                                                                                                                                                                                                                                                                                                                                                                                                                                                                                                                                                                                                                                                                                                                                                                                                                                                                                                                                                                                                                                                                                                                                                                                                                                                                                                                                                                                                                                                                                                                                                                                                                                                                                                                                                                                                                                                                 {'created_at': 'Wed Dec 01 16:08:32 +0000 2010', 'id': 10002316329484288, 'id_str': '10002316329484288', 'full_text': '#foo is the #bar', 'truncated': False, 'display_text_range': [0, 16], 'entities': {'hashtags': [{'text': 'foo', 'indices': [0, 4]}, {'text': 'bar', 'indices': [12, 16]}], 'symbols': [], 'user_mentions': [], 'urls': []}, 'source': '<a href=\"http://twitter.com\" rel=\"nofollow\">Twitter Web Client</a>', 'in_reply_to_status_id': None, 'in_reply_to_status_id_str': None, 'in_reply_to_user_id': None, 'in_reply_to_user_id_str': None, 'in_reply_to_screen_name': None, 'user_id': 221719444, 'user_id_str': '221719444', 'geo': None, 'coordinates': None, 'place': None, 'contributors': None, 'is_quote_status': False, 'retweet_count': 0, 'favorite_count': 0, 'reply_count': 0, 'quote_count': 0, 'conversation_id': 10002316329484288, 'conversation_id_str': '10002316329484288', 'favorited': False, 'retweeted': False, 'lang': 'en', 'supplemental_language': None}\n",
       "2  1002548007844438016                                                                                                                                                                                                                      {'created_at': 'Fri Jun 01 13:50:46 +0000 2018', 'id': 1002548007844438016, 'id_str': '1002548007844438016', 'full_text': 'Gear up for TECHNO Music this Friday night.\n",
       "Join us at @retoxloungebar 7pm onwards\n",
       ".\n",
       ".\n",
       ".\n",
       ".\n",
       ".\n",
       ".\n",
       ".\n",
       "\n",
       "#RetoxLoungeBar #RetoxMangalore #Retox #Mangalore #FridayNight #FridaySpecial #FabFriday #PartyPlaces #PartyInmangalore #LoungeBar #bar #Party #Parties #Foo… https://t.co/daVY5l5et3 https://t.co/7s9QZxDHUc', 'truncated': False, 'display_text_range': [0, 279], 'entities': {'hashtags': [{'text': 'RetoxLoungeBar', 'indices': [98, 113]}, {'text': 'RetoxMangalore', 'indices': [114, 129]}, {'text': 'Retox', 'indices': [130, 136]}, {'text': 'Mangalore', 'indices': [137, 147]}, {'text': 'FridayNight', 'indices': [148, 160]}, {'text': 'FridaySpecial', 'indices': [161, 175]}, {'text': 'FabFriday', 'indices': [176, 186]}, {'text': 'PartyPlaces', 'indices': [187, 199]}, {'text': 'PartyInmangalore', 'indices': [200, 217]}, {'text': 'LoungeBar', 'indices': [218, 228]}, {'text': 'bar', 'indices': [229, 233]}, {'text': 'Party', 'indices': [234, 240]}, {'text': 'Parties', 'indices': [241, 249]}, {'text': 'Foo', 'indices': [250, 254]}], 'symbols': [], 'user_mentions': [{'screen_name': 'RetoxLoungeBar', 'name': 'Retox Lounge Bar', 'id': 935939273865404416, 'id_str': '935939273865404416', 'indices': [55, 70]}], 'urls': [{'url': 'https://t.co/daVY5l5et3', 'expanded_url': 'https://ift.tt/2J8ezx1', 'display_url': 'ift.tt/2J8ezx1', 'indices': [256, 279]}], 'media': [{'id': 1002548006686773249, 'id_str': '1002548006686773249', 'indices': [280, 303], 'media_url': 'http://pbs.twimg.com/media/DenEGbDXUAEu6X4.jpg', 'media_url_https': 'https://pbs.twimg.com/media/DenEGbDXUAEu6X4.jpg', 'url': 'https://t.co/7s9QZxDHUc', 'display_url': 'pic.twitter.com/7s9QZxDHUc', 'expanded_url': 'https://twitter.com/RetoxLoungeBar/status/1002548007844438016/photo/1', 'type': 'photo', 'original_info': {'width': 640, 'height': 640, 'focus_rects': [{'x': 0, 'y': 282, 'h': 358, 'w': 640}, {'x': 0, 'y': 0, 'h': 640, 'w': 640}, {'x': 24, 'y': 0, 'h': 640, 'w': 561}, {'x': 144, 'y': 0, 'h': 640, 'w': 320}, {'x': 0, 'y': 0, 'h': 640, 'w': 640}]}, 'sizes': {'thumb': {'w': 150, 'h': 150, 'resize': 'crop'}, 'medium': {'w': 640, 'h': 640, 'resize': 'fit'}, 'small': {'w': 640, 'h': 640, 'resize': 'fit'}, 'large': {'w': 640, 'h': 640, 'resize': 'fit'}}}]}, 'extended_entities': {'media': [{'id': 1002548006686773249, 'id_str': '1002548006686773249', 'indices': [280, 303], 'media_url': 'http://pbs.twimg.com/media/DenEGbDXUAEu6X4.jpg', 'media_url_https': 'https://pbs.twimg.com/media/DenEGbDXUAEu6X4.jpg', 'url': 'https://t.co/7s9QZxDHUc', 'display_url': 'pic.twitter.com/7s9QZxDHUc', 'expanded_url': 'https://twitter.com/RetoxLoungeBar/status/1002548007844438016/photo/1', 'type': 'photo', 'original_info': {'width': 640, 'height': 640, 'focus_rects': [{'x': 0, 'y': 282, 'h': 358, 'w': 640}, {'x': 0, 'y': 0, 'h': 640, 'w': 640}, {'x': 24, 'y': 0, 'h': 640, 'w': 561}, {'x': 144, 'y': 0, 'h': 640, 'w': 320}, {'x': 0, 'y': 0, 'h': 640, 'w': 640}]}, 'sizes': {'thumb': {'w': 150, 'h': 150, 'resize': 'crop'}, 'medium': {'w': 640, 'h': 640, 'resize': 'fit'}, 'small': {'w': 640, 'h': 640, 'resize': 'fit'}, 'large': {'w': 640, 'h': 640, 'resize': 'fit'}}, 'media_key': '3_1002548006686773249', 'ext_alt_text': None, 'ext_media_color': {'palette': [{'rgb': {'red': 10, 'green': 11, 'blue': 17}, 'percentage': 39.26}, {'rgb': {'red': 35, 'green': 33, 'blue': 85}, 'percentage': 24.16}, {'rgb': {'red': 83, 'green': 115, 'blue': 178}, 'percentage': 4.9}, {'rgb': {'red': 187, 'green': 205, 'blue': 205}, 'percentage': 4.63}, {'rgb': {'red': 221, 'green': 189, 'blue': 81}, 'percentage': 3.91}]}, 'ext_media_availability': {'status': 'available'}, 'ext': {'mediaStats': {'r': 'Missing', 'ttl': -1}}}]}, 'source': '<a href=\"https://ifttt.com\" rel=\"nofollow\">IFTTT</a>', 'in_reply_to_status_id': None, 'in_reply_to_status_id_str': None, 'in_reply_to_user_id': None, 'in_reply_to_user_id_str': None, 'in_reply_to_screen_name': None, 'user_id': 935939273865404416, 'user_id_str': '935939273865404416', 'geo': None, 'coordinates': None, 'place': None, 'contributors': None, 'is_quote_status': False, 'retweet_count': 0, 'favorite_count': 0, 'reply_count': 0, 'quote_count': 0, 'conversation_id': 1002548007844438016, 'conversation_id_str': '1002548007844438016', 'favorited': False, 'retweeted': False, 'possibly_sensitive': False, 'possibly_sensitive_editable': True, 'lang': 'en', 'supplemental_language': None}\n",
       "3  1003643034041503745                                                                                                                                                                                                                                                                                                                                                                                                                                                                                                                                                                                                                                                                                                                                                                                                                                                                                                                                                                                                                                                                                                                                                                                                                                                                                                                                                                                                                                                                                                                                                                                                                                                                                                                                                                                                                                                                                                                                                                                                                                                                                                                                                                                                                                                                                                                                                                                                                                                                                                                                                                                                                                                                                                                                                                                                                                                                                                                                                                                                         {'created_at': 'Mon Jun 04 14:22:00 +0000 2018', 'id': 1003643034041503745, 'id_str': '1003643034041503745', 'full_text': 'How do I make @code stop formatting this:\n",
       "  &lt;a class=\"foo\" href=\"#bar\" id=\"baz\"&gt;Cats&lt;/a&gt;\n",
       "\n",
       "Like this:\n",
       "  &lt;a class=\"foo\"\n",
       "        href=\"#bar\"\n",
       "        id=\"baz\"&gt;Cats&lt;/a&gt;\n",
       "\n",
       "I really don’t want to have to disable extensions and enable one by one to see what’s doing this.', 'truncated': False, 'display_text_range': [0, 286], 'entities': {'hashtags': [{'text': 'bar', 'indices': [68, 72]}, {'text': 'bar', 'indices': [147, 151]}], 'symbols': [], 'user_mentions': [{'screen_name': 'code', 'name': 'Visual Studio Code', 'id': 3167734591, 'id_str': '3167734591', 'indices': [14, 19]}], 'urls': []}, 'source': '<a href=\"https://tapbots.com/software/tweetbot/mac\" rel=\"nofollow\">Tweetbot for Mac</a>', 'in_reply_to_status_id': None, 'in_reply_to_status_id_str': None, 'in_reply_to_user_id': None, 'in_reply_to_user_id_str': None, 'in_reply_to_screen_name': None, 'user_id': 246297435, 'user_id_str': '246297435', 'geo': None, 'coordinates': None, 'place': {'id': '6dd4aeb802da9f28', 'url': 'https://api.twitter.com/1.1/geo/id/6dd4aeb802da9f28.json', 'place_type': 'city', 'name': 'Newcastle Upon Tyne', 'full_name': 'Newcastle Upon Tyne, England', 'country_code': 'GB', 'country': 'United Kingdom', 'contained_within': [], 'bounding_box': {'type': 'Polygon', 'coordinates': [[[-1.6937923, 54.960055], [-1.596931, 54.960055], [-1.596931, 55.0240558], [-1.6937923, 55.0240558]]]}, 'attributes': {}}, 'contributors': None, 'is_quote_status': False, 'retweet_count': 0, 'favorite_count': 1, 'reply_count': 1, 'quote_count': 0, 'conversation_id': 1003643034041503745, 'conversation_id_str': '1003643034041503745', 'favorited': False, 'retweeted': False, 'lang': 'en', 'supplemental_language': None}\n",
       "4  1003997561382932481                                                                                                                                                                            {'created_at': 'Tue Jun 05 13:50:46 +0000 2018', 'id': 1003997561382932481, 'id_str': '1003997561382932481', 'full_text': 'Show off your moves to Bollywood Tunes @retoxloungebar 7pm onwards\n",
       ".\n",
       ".\n",
       ".\n",
       ".\n",
       ".\n",
       ".\n",
       ".\n",
       " #RetoxLoungeBar #RetoxMangalore #Retox #Mangalore #BollywoodNight #Tuesday #TuesdayNight #TuesdaySpecial #PartyPlaces #PartyInmangalore #LoungeBar #bar #Party #Parties #Foo… https://t.co/Ij7udQQCHg https://t.co/wBVXrfRMnq', 'truncated': False, 'display_text_range': [0, 279], 'entities': {'hashtags': [{'text': 'RetoxLoungeBar', 'indices': [82, 97]}, {'text': 'RetoxMangalore', 'indices': [98, 113]}, {'text': 'Retox', 'indices': [114, 120]}, {'text': 'Mangalore', 'indices': [121, 131]}, {'text': 'BollywoodNight', 'indices': [132, 147]}, {'text': 'Tuesday', 'indices': [148, 156]}, {'text': 'TuesdayNight', 'indices': [157, 170]}, {'text': 'TuesdaySpecial', 'indices': [171, 186]}, {'text': 'PartyPlaces', 'indices': [187, 199]}, {'text': 'PartyInmangalore', 'indices': [200, 217]}, {'text': 'LoungeBar', 'indices': [218, 228]}, {'text': 'bar', 'indices': [229, 233]}, {'text': 'Party', 'indices': [234, 240]}, {'text': 'Parties', 'indices': [241, 249]}, {'text': 'Foo', 'indices': [250, 254]}], 'symbols': [], 'user_mentions': [{'screen_name': 'RetoxLoungeBar', 'name': 'Retox Lounge Bar', 'id': 935939273865404416, 'id_str': '935939273865404416', 'indices': [39, 54]}], 'urls': [{'url': 'https://t.co/Ij7udQQCHg', 'expanded_url': 'https://ift.tt/2JqZsSJ', 'display_url': 'ift.tt/2JqZsSJ', 'indices': [256, 279]}], 'media': [{'id': 1003997559990505472, 'id_str': '1003997559990505472', 'indices': [280, 303], 'media_url': 'http://pbs.twimg.com/media/De7qdh6X0AA3vS_.jpg', 'media_url_https': 'https://pbs.twimg.com/media/De7qdh6X0AA3vS_.jpg', 'url': 'https://t.co/wBVXrfRMnq', 'display_url': 'pic.twitter.com/wBVXrfRMnq', 'expanded_url': 'https://twitter.com/RetoxLoungeBar/status/1003997561382932481/photo/1', 'type': 'photo', 'original_info': {'width': 640, 'height': 704, 'focus_rects': [{'x': 0, 'y': 155, 'h': 358, 'w': 640}, {'x': 0, 'y': 14, 'h': 640, 'w': 640}, {'x': 22, 'y': 0, 'h': 704, 'w': 618}, {'x': 193, 'y': 0, 'h': 704, 'w': 352}, {'x': 0, 'y': 0, 'h': 704, 'w': 640}]}, 'sizes': {'thumb': {'w': 150, 'h': 150, 'resize': 'crop'}, 'medium': {'w': 640, 'h': 704, 'resize': 'fit'}, 'small': {'w': 618, 'h': 680, 'resize': 'fit'}, 'large': {'w': 640, 'h': 704, 'resize': 'fit'}}}]}, 'extended_entities': {'media': [{'id': 1003997559990505472, 'id_str': '1003997559990505472', 'indices': [280, 303], 'media_url': 'http://pbs.twimg.com/media/De7qdh6X0AA3vS_.jpg', 'media_url_https': 'https://pbs.twimg.com/media/De7qdh6X0AA3vS_.jpg', 'url': 'https://t.co/wBVXrfRMnq', 'display_url': 'pic.twitter.com/wBVXrfRMnq', 'expanded_url': 'https://twitter.com/RetoxLoungeBar/status/1003997561382932481/photo/1', 'type': 'photo', 'original_info': {'width': 640, 'height': 704, 'focus_rects': [{'x': 0, 'y': 155, 'h': 358, 'w': 640}, {'x': 0, 'y': 14, 'h': 640, 'w': 640}, {'x': 22, 'y': 0, 'h': 704, 'w': 618}, {'x': 193, 'y': 0, 'h': 704, 'w': 352}, {'x': 0, 'y': 0, 'h': 704, 'w': 640}]}, 'sizes': {'thumb': {'w': 150, 'h': 150, 'resize': 'crop'}, 'medium': {'w': 640, 'h': 704, 'resize': 'fit'}, 'small': {'w': 618, 'h': 680, 'resize': 'fit'}, 'large': {'w': 640, 'h': 704, 'resize': 'fit'}}, 'media_key': '3_1003997559990505472', 'ext_alt_text': None, 'ext_media_availability': {'status': 'available'}, 'ext_media_color': {'palette': [{'rgb': {'red': 2, 'green': 1, 'blue': 2}, 'percentage': 46.3}, {'rgb': {'red': 222, 'green': 24, 'blue': 143}, 'percentage': 8.61}, {'rgb': {'red': 70, 'green': 18, 'blue': 66}, 'percentage': 6.28}, {'rgb': {'red': 145, 'green': 41, 'blue': 142}, 'percentage': 5.5}, {'rgb': {'red': 7, 'green': 37, 'blue': 78}, 'percentage': 4.05}]}, 'ext': {'mediaStats': {'r': 'Missing', 'ttl': -1}}}]}, 'source': '<a href=\"https://ifttt.com\" rel=\"nofollow\">IFTTT</a>', 'in_reply_to_status_id': None, 'in_reply_to_status_id_str': None, 'in_reply_to_user_id': None, 'in_reply_to_user_id_str': None, 'in_reply_to_screen_name': None, 'user_id': 935939273865404416, 'user_id_str': '935939273865404416', 'geo': None, 'coordinates': None, 'place': None, 'contributors': None, 'is_quote_status': False, 'retweet_count': 0, 'favorite_count': 0, 'reply_count': 0, 'quote_count': 0, 'conversation_id': 1003997561382932481, 'conversation_id_str': '1003997561382932481', 'favorited': False, 'retweeted': False, 'possibly_sensitive': False, 'possibly_sensitive_editable': True, 'lang': 'en', 'supplemental_language': None}"
      ]
     },
     "execution_count": 16,
     "metadata": {},
     "output_type": "execute_result"
    }
   ],
   "source": [
    "df = pd.DataFrame(tweets)#, columns= [\n",
    "                  #'created_at', 'id', 'full_text'\n",
    "#])\n",
    "df.head()"
   ]
  },
  {
   "cell_type": "code",
   "execution_count": 17,
   "metadata": {
    "scrolled": true
   },
   "outputs": [
    {
     "data": {
      "text/plain": [
       "[{'id_': '1000031655585861633',\n",
       "  'raw_data': {'created_at': 'Fri May 25 15:11:41 +0000 2018',\n",
       "   'id': 1000031655585861633,\n",
       "   'id_str': '1000031655585861633',\n",
       "   'full_text': 'Have a good weekend! #morganjt #novotelbangkoksukhumvit20 #popup20 #morganeattravelsketch #drink #drinks #instafood #finedining #pub #bar #liquor #yum #yummy #instagood #cocktail #cocktails #drinkup #glass #photooftheday #beer #beers #wine #socialenvy #delicious #eating #foo… https://t.co/IRNj03BNzH',\n",
       "   'truncated': False,\n",
       "   'display_text_range': [0, 276],\n",
       "   'entities': {'hashtags': [{'text': 'morganjt', 'indices': [21, 30]},\n",
       "     {'text': 'novotelbangkoksukhumvit20', 'indices': [31, 57]},\n",
       "     {'text': 'popup20', 'indices': [58, 66]},\n",
       "     {'text': 'morganeattravelsketch', 'indices': [67, 89]},\n",
       "     {'text': 'drink', 'indices': [90, 96]},\n",
       "     {'text': 'drinks', 'indices': [97, 104]},\n",
       "     {'text': 'instafood', 'indices': [105, 115]},\n",
       "     {'text': 'finedining', 'indices': [116, 127]},\n",
       "     {'text': 'pub', 'indices': [128, 132]},\n",
       "     {'text': 'bar', 'indices': [133, 137]},\n",
       "     {'text': 'liquor', 'indices': [138, 145]},\n",
       "     {'text': 'yum', 'indices': [146, 150]},\n",
       "     {'text': 'yummy', 'indices': [151, 157]},\n",
       "     {'text': 'instagood', 'indices': [158, 168]},\n",
       "     {'text': 'cocktail', 'indices': [169, 178]},\n",
       "     {'text': 'cocktails', 'indices': [179, 189]},\n",
       "     {'text': 'drinkup', 'indices': [190, 198]},\n",
       "     {'text': 'glass', 'indices': [199, 205]},\n",
       "     {'text': 'photooftheday', 'indices': [206, 220]},\n",
       "     {'text': 'beer', 'indices': [221, 226]},\n",
       "     {'text': 'beers', 'indices': [227, 233]},\n",
       "     {'text': 'wine', 'indices': [234, 239]},\n",
       "     {'text': 'socialenvy', 'indices': [240, 251]},\n",
       "     {'text': 'delicious', 'indices': [252, 262]},\n",
       "     {'text': 'eating', 'indices': [263, 270]},\n",
       "     {'text': 'foo', 'indices': [271, 275]}],\n",
       "    'symbols': [],\n",
       "    'user_mentions': [],\n",
       "    'urls': [],\n",
       "    'media': [{'id': 1000031654298226688,\n",
       "      'id_str': '1000031654298226688',\n",
       "      'indices': [277, 300],\n",
       "      'media_url': 'http://pbs.twimg.com/media/DeDTfb6XkAAqMNo.jpg',\n",
       "      'media_url_https': 'https://pbs.twimg.com/media/DeDTfb6XkAAqMNo.jpg',\n",
       "      'url': 'https://t.co/IRNj03BNzH',\n",
       "      'display_url': 'pic.twitter.com/IRNj03BNzH',\n",
       "      'expanded_url': 'https://twitter.com/morgant2421/status/1000031655585861633/photo/1',\n",
       "      'type': 'photo',\n",
       "      'original_info': {'width': 640,\n",
       "       'height': 640,\n",
       "       'focus_rects': [{'x': 0, 'y': 282, 'h': 358, 'w': 640},\n",
       "        {'x': 0, 'y': 0, 'h': 640, 'w': 640},\n",
       "        {'x': 79, 'y': 0, 'h': 640, 'w': 561},\n",
       "        {'x': 240, 'y': 0, 'h': 640, 'w': 320},\n",
       "        {'x': 0, 'y': 0, 'h': 640, 'w': 640}]},\n",
       "      'sizes': {'thumb': {'w': 150, 'h': 150, 'resize': 'crop'},\n",
       "       'large': {'w': 640, 'h': 640, 'resize': 'fit'},\n",
       "       'medium': {'w': 640, 'h': 640, 'resize': 'fit'},\n",
       "       'small': {'w': 640, 'h': 640, 'resize': 'fit'}}}]},\n",
       "   'extended_entities': {'media': [{'id': 1000031654298226688,\n",
       "      'id_str': '1000031654298226688',\n",
       "      'indices': [277, 300],\n",
       "      'media_url': 'http://pbs.twimg.com/media/DeDTfb6XkAAqMNo.jpg',\n",
       "      'media_url_https': 'https://pbs.twimg.com/media/DeDTfb6XkAAqMNo.jpg',\n",
       "      'url': 'https://t.co/IRNj03BNzH',\n",
       "      'display_url': 'pic.twitter.com/IRNj03BNzH',\n",
       "      'expanded_url': 'https://twitter.com/morgant2421/status/1000031655585861633/photo/1',\n",
       "      'type': 'photo',\n",
       "      'original_info': {'width': 640,\n",
       "       'height': 640,\n",
       "       'focus_rects': [{'x': 0, 'y': 282, 'h': 358, 'w': 640},\n",
       "        {'x': 0, 'y': 0, 'h': 640, 'w': 640},\n",
       "        {'x': 79, 'y': 0, 'h': 640, 'w': 561},\n",
       "        {'x': 240, 'y': 0, 'h': 640, 'w': 320},\n",
       "        {'x': 0, 'y': 0, 'h': 640, 'w': 640}]},\n",
       "      'sizes': {'thumb': {'w': 150, 'h': 150, 'resize': 'crop'},\n",
       "       'large': {'w': 640, 'h': 640, 'resize': 'fit'},\n",
       "       'medium': {'w': 640, 'h': 640, 'resize': 'fit'},\n",
       "       'small': {'w': 640, 'h': 640, 'resize': 'fit'}},\n",
       "      'media_key': '3_1000031654298226688',\n",
       "      'ext_alt_text': None,\n",
       "      'ext_media_availability': {'status': 'available'},\n",
       "      'ext_media_color': {'palette': [{'rgb': {'red': 39,\n",
       "          'green': 41,\n",
       "          'blue': 33},\n",
       "         'percentage': 54.76},\n",
       "        {'rgb': {'red': 123, 'green': 124, 'blue': 103}, 'percentage': 19.14},\n",
       "        {'rgb': {'red': 160, 'green': 129, 'blue': 53}, 'percentage': 9.41},\n",
       "        {'rgb': {'red': 239, 'green': 241, 'blue': 227}, 'percentage': 3.79},\n",
       "        {'rgb': {'red': 132, 'green': 158, 'blue': 86}, 'percentage': 3.3}]},\n",
       "      'ext': {'mediaStats': {'r': 'Missing', 'ttl': -1}}}]},\n",
       "   'source': '<a href=\"https://ifttt.com\" rel=\"nofollow\">IFTTT</a>',\n",
       "   'in_reply_to_status_id': None,\n",
       "   'in_reply_to_status_id_str': None,\n",
       "   'in_reply_to_user_id': None,\n",
       "   'in_reply_to_user_id_str': None,\n",
       "   'in_reply_to_screen_name': None,\n",
       "   'user_id': 172369420,\n",
       "   'user_id_str': '172369420',\n",
       "   'geo': None,\n",
       "   'coordinates': None,\n",
       "   'place': None,\n",
       "   'contributors': None,\n",
       "   'is_quote_status': False,\n",
       "   'retweet_count': 0,\n",
       "   'favorite_count': 0,\n",
       "   'reply_count': 0,\n",
       "   'quote_count': 0,\n",
       "   'conversation_id': 1000031655585861633,\n",
       "   'conversation_id_str': '1000031655585861633',\n",
       "   'favorited': False,\n",
       "   'retweeted': False,\n",
       "   'possibly_sensitive': False,\n",
       "   'possibly_sensitive_editable': True,\n",
       "   'lang': 'en',\n",
       "   'supplemental_language': None}},\n",
       " {'id_': '10002316329484288',\n",
       "  'raw_data': {'created_at': 'Wed Dec 01 16:08:32 +0000 2010',\n",
       "   'id': 10002316329484288,\n",
       "   'id_str': '10002316329484288',\n",
       "   'full_text': '#foo is the #bar',\n",
       "   'truncated': False,\n",
       "   'display_text_range': [0, 16],\n",
       "   'entities': {'hashtags': [{'text': 'foo', 'indices': [0, 4]},\n",
       "     {'text': 'bar', 'indices': [12, 16]}],\n",
       "    'symbols': [],\n",
       "    'user_mentions': [],\n",
       "    'urls': []},\n",
       "   'source': '<a href=\"http://twitter.com\" rel=\"nofollow\">Twitter Web Client</a>',\n",
       "   'in_reply_to_status_id': None,\n",
       "   'in_reply_to_status_id_str': None,\n",
       "   'in_reply_to_user_id': None,\n",
       "   'in_reply_to_user_id_str': None,\n",
       "   'in_reply_to_screen_name': None,\n",
       "   'user_id': 221719444,\n",
       "   'user_id_str': '221719444',\n",
       "   'geo': None,\n",
       "   'coordinates': None,\n",
       "   'place': None,\n",
       "   'contributors': None,\n",
       "   'is_quote_status': False,\n",
       "   'retweet_count': 0,\n",
       "   'favorite_count': 0,\n",
       "   'reply_count': 0,\n",
       "   'quote_count': 0,\n",
       "   'conversation_id': 10002316329484288,\n",
       "   'conversation_id_str': '10002316329484288',\n",
       "   'favorited': False,\n",
       "   'retweeted': False,\n",
       "   'lang': 'en',\n",
       "   'supplemental_language': None}}]"
      ]
     },
     "execution_count": 17,
     "metadata": {},
     "output_type": "execute_result"
    }
   ],
   "source": [
    "tweets[:2]"
   ]
  },
  {
   "cell_type": "code",
   "execution_count": null,
   "metadata": {},
   "outputs": [],
   "source": []
  }
 ],
 "metadata": {
  "kernelspec": {
   "display_name": "Python 3",
   "language": "python",
   "name": "python3"
  },
  "language_info": {
   "codemirror_mode": {
    "name": "ipython",
    "version": 3
   },
   "file_extension": ".py",
   "mimetype": "text/x-python",
   "name": "python",
   "nbconvert_exporter": "python",
   "pygments_lexer": "ipython3",
   "version": "3.8.5"
  }
 },
 "nbformat": 4,
 "nbformat_minor": 4
}
