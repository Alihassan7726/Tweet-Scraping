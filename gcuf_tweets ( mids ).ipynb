{
 "cells": [
  {
   "cell_type": "code",
   "execution_count": 1,
   "metadata": {},
   "outputs": [],
   "source": [
    "import warnings\n",
    "warnings.filterwarnings('ignore')\n",
    "import pandas as pd\n",
    "pd.set_option('display.width',5000)\n",
    "pd.set_option('max_colwidth', 5000) \n",
    "import glob\n",
    "import json\n"
   ]
  },
  {
   "cell_type": "code",
   "execution_count": 2,
   "metadata": {},
   "outputs": [
    {
     "name": "stdout",
     "output_type": "stream",
     "text": [
      "C:\\BEPEC Python Material\\twitter_data\\TweetScraper\\TweetScraper\\Data\n"
     ]
    }
   ],
   "source": [
    "cd \"C:\\BEPEC Python Material\\twitter_data\\TweetScraper\\TweetScraper\\Data\""
   ]
  },
  {
   "cell_type": "code",
   "execution_count": 14,
   "metadata": {},
   "outputs": [
    {
     "data": {
      "application/javascript": [
       "\n",
       "        if (window._pyforest_update_imports_cell) { window._pyforest_update_imports_cell('import os'); }\n",
       "    "
      ],
      "text/plain": [
       "<IPython.core.display.Javascript object>"
      ]
     },
     "metadata": {},
     "output_type": "display_data"
    }
   ],
   "source": [
    "tweets = []\n",
    "all_texts = []\n",
    "\n",
    "for file in os.listdir('gcuf_tweets/'):\n",
    "    filename = 'gcuf_tweets/' + str(file)\n",
    "    if filename[13:16].isdigit():\n",
    "        with open(filename, encoding=\"utf8\") as tweetfile:\n",
    "            pyresponse = json.loads(tweetfile.read())\n",
    "            text = pyresponse['raw_data']['full_text']\n",
    "            tweets.append(pyresponse)\n",
    "            all_texts.append(text)"
   ]
  },
  {
   "cell_type": "code",
   "execution_count": 15,
   "metadata": {},
   "outputs": [
    {
     "name": "stdout",
     "output_type": "stream",
     "text": [
      " Total keys :  dict_keys(['id_', 'raw_data'])\n",
      " This is text :  @Shafqat_Mahmood Sir g we are waiting for a good new #GCUF \n",
      "\n",
      "{'created_at': 'Thu Dec 09 12:41:02 +0000 2021', 'id': 1468923644424462337, 'id_str': '1468923644424462337', 'full_text': '@Shafqat_Mahmood Sir g we are waiting for a good new #GCUF', 'truncated': False, 'display_text_range': [17, 58], 'entities': {'hashtags': [{'text': 'GCUF', 'indices': [53, 58]}], 'symbols': [], 'user_mentions': [{'screen_name': 'Shafqat_Mahmood', 'name': 'Shafqat Mahmood', 'id': 440662588, 'id_str': '440662588', 'indices': [0, 16]}], 'urls': []}, 'source': '<a href=\"http://twitter.com/download/android\" rel=\"nofollow\">Twitter for Android</a>', 'in_reply_to_status_id': 1468922901374152706, 'in_reply_to_status_id_str': '1468922901374152706', 'in_reply_to_user_id': 440662588, 'in_reply_to_user_id_str': '440662588', 'in_reply_to_screen_name': 'Shafqat_Mahmood', 'user_id': 1394334282324320265, 'user_id_str': '1394334282324320265', 'geo': None, 'coordinates': None, 'place': None, 'contributors': None, 'is_quote_status': False, 'retweet_count': 0, 'favorite_count': 6, 'reply_count': 1, 'quote_count': 0, 'conversation_id': 1468922901374152706, 'conversation_id_str': '1468922901374152706', 'favorited': False, 'retweeted': False, 'lang': 'en', 'supplemental_language': None}\n"
     ]
    }
   ],
   "source": [
    "print(\" Total keys : \",pyresponse.keys())\n",
    "print(\" This is text : \", pyresponse['raw_data']['full_text'],\"\\n\")\n",
    "print(pyresponse['raw_data'])"
   ]
  },
  {
   "cell_type": "code",
   "execution_count": 16,
   "metadata": {
    "scrolled": true
   },
   "outputs": [
    {
     "data": {
      "text/html": [
       "<div>\n",
       "<style scoped>\n",
       "    .dataframe tbody tr th:only-of-type {\n",
       "        vertical-align: middle;\n",
       "    }\n",
       "\n",
       "    .dataframe tbody tr th {\n",
       "        vertical-align: top;\n",
       "    }\n",
       "\n",
       "    .dataframe thead th {\n",
       "        text-align: right;\n",
       "    }\n",
       "</style>\n",
       "<table border=\"1\" class=\"dataframe\">\n",
       "  <thead>\n",
       "    <tr style=\"text-align: right;\">\n",
       "      <th></th>\n",
       "      <th>id_</th>\n",
       "      <th>raw_data</th>\n",
       "    </tr>\n",
       "  </thead>\n",
       "  <tbody>\n",
       "    <tr>\n",
       "      <th>0</th>\n",
       "      <td>1458384886369243141</td>\n",
       "      <td>{'created_at': 'Wed Nov 10 10:43:47 +0000 2021', 'id': 1458384886369243141, 'id_str': '1458384886369243141', 'full_text': 'First Success \n",
       "Allhamdullilah ✨\n",
       "#GCUF https://t.co/ldYlSOamtm', 'truncated': False, 'display_text_range': [0, 37], 'entities': {'hashtags': [{'text': 'GCUF', 'indices': [32, 37]}], 'symbols': [], 'user_mentions': [], 'urls': [], 'media': [{'id': 1458384879465504772, 'id_str': '1458384879465504772', 'indices': [38, 61], 'media_url': 'http://pbs.twimg.com/media/FD05Ui5XoAQLVmV.jpg', 'media_url_https': 'https://pbs.twimg.com/media/FD05Ui5XoAQLVmV.jpg', 'url': 'https://t.co/ldYlSOamtm', 'display_url': 'pic.twitter.com/ldYlSOamtm', 'expanded_url': 'https://twitter.com/Besuperior10/status/1458384886369243141/photo/1', 'type': 'photo', 'original_info': {'width': 424, 'height': 102, 'focus_rects': [{'x': 121, 'y': 0, 'h': 102, 'w': 182}, {'x': 161, 'y': 0, 'h': 102, 'w': 102}, {'x': 168, 'y': 0, 'h': 102, 'w': 89}, {'x': 187, 'y': 0, 'h': 102, 'w': 51}, {'x': 0, 'y': 0, 'h': 102, 'w': 424}]}, 'sizes': {'small': {'w': 424, 'h': 102, 'resize': 'fit'}, 'thumb': {'w': 102, 'h': 102, 'resize': 'crop'}, 'medium': {'w': 424, 'h': 102, 'resize': 'fit'}, 'large': {'w': 424, 'h': 102, 'resize': 'fit'}}}]}, 'extended_entities': {'media': [{'id': 1458384879465504772, 'id_str': '1458384879465504772', 'indices': [38, 61], 'media_url': 'http://pbs.twimg.com/media/FD05Ui5XoAQLVmV.jpg', 'media_url_https': 'https://pbs.twimg.com/media/FD05Ui5XoAQLVmV.jpg', 'url': 'https://t.co/ldYlSOamtm', 'display_url': 'pic.twitter.com/ldYlSOamtm', 'expanded_url': 'https://twitter.com/Besuperior10/status/1458384886369243141/photo/1', 'type': 'photo', 'original_info': {'width': 424, 'height': 102, 'focus_rects': [{'x': 121, 'y': 0, 'h': 102, 'w': 182}, {'x': 161, 'y': 0, 'h': 102, 'w': 102}, {'x': 168, 'y': 0, 'h': 102, 'w': 89}, {'x': 187, 'y': 0, 'h': 102, 'w': 51}, {'x': 0, 'y': 0, 'h': 102, 'w': 424}]}, 'sizes': {'small': {'w': 424, 'h': 102, 'resize': 'fit'}, 'thumb': {'w': 102, 'h': 102, 'resize': 'crop'}, 'medium': {'w': 424, 'h': 102, 'resize': 'fit'}, 'large': {'w': 424, 'h': 102, 'resize': 'fit'}}, 'media_key': '3_1458384879465504772', 'ext_alt_text': None, 'ext_media_availability': {'status': 'available'}, 'ext_media_color': {'palette': [{'rgb': {'red': 158, 'green': 246, 'blue': 79}, 'percentage': 92.49}, {'rgb': {'red': 141, 'green': 204, 'blue': 90}, 'percentage': 4.03}, {'rgb': {'red': 95, 'green': 162, 'blue': 155}, 'percentage': 1.29}, {'rgb': {'red': 136, 'green': 197, 'blue': 134}, 'percentage': 1.11}, {'rgb': {'red': 181, 'green': 242, 'blue': 115}, 'percentage': 1.03}]}, 'ext': {'mediaStats': {'r': 'Missing', 'ttl': -1}}}]}, 'source': '&lt;a href=\"http://twitter.com/download/iphone\" rel=\"nofollow\"&gt;Twitter for iPhone&lt;/a&gt;', 'in_reply_to_status_id': None, 'in_reply_to_status_id_str': None, 'in_reply_to_user_id': None, 'in_reply_to_user_id_str': None, 'in_reply_to_screen_name': None, 'user_id': 1327935804090552320, 'user_id_str': '1327935804090552320', 'geo': None, 'coordinates': None, 'place': None, 'contributors': None, 'is_quote_status': False, 'retweet_count': 1, 'favorite_count': 84, 'reply_count': 52, 'quote_count': 2, 'conversation_id': 1458384886369243141, 'conversation_id_str': '1458384886369243141', 'favorited': False, 'retweeted': False, 'possibly_sensitive': False, 'possibly_sensitive_editable': True, 'lang': 'en', 'supplemental_language': None}</td>\n",
       "    </tr>\n",
       "    <tr>\n",
       "      <th>1</th>\n",
       "      <td>1459542990112886799</td>\n",
       "      <td>{'created_at': 'Sat Nov 13 15:25:40 +0000 2021', 'id': 1459542990112886799, 'id_str': '1459542990112886799', 'full_text': 'Mids Come To Remind you k\n",
       "“Beta uni A kar prhna be hota hai”😷\n",
       "#Physical #Exams #Gcuf', 'truncated': False, 'display_text_range': [0, 84], 'entities': {'hashtags': [{'text': 'Physical', 'indices': [62, 71]}, {'text': 'Exams', 'indices': [72, 78]}, {'text': 'Gcuf', 'indices': [79, 84]}], 'symbols': [], 'user_mentions': [], 'urls': []}, 'source': '&lt;a href=\"http://twitter.com/download/iphone\" rel=\"nofollow\"&gt;Twitter for iPhone&lt;/a&gt;', 'in_reply_to_status_id': None, 'in_reply_to_status_id_str': None, 'in_reply_to_user_id': None, 'in_reply_to_user_id_str': None, 'in_reply_to_screen_name': None, 'user_id': 1342660610144821249, 'user_id_str': '1342660610144821249', 'geo': None, 'coordinates': None, 'place': None, 'contributors': None, 'is_quote_status': False, 'retweet_count': 0, 'favorite_count': 1, 'reply_count': 0, 'quote_count': 0, 'conversation_id': 1459542990112886799, 'conversation_id_str': '1459542990112886799', 'favorited': False, 'retweeted': False, 'lang': 'en', 'supplemental_language': None}</td>\n",
       "    </tr>\n",
       "    <tr>\n",
       "      <th>2</th>\n",
       "      <td>1460239817091043330</td>\n",
       "      <td>{'created_at': 'Mon Nov 15 13:34:36 +0000 2021', 'id': 1460239817091043330, 'id_str': '1460239817091043330', 'full_text': 'Mjy apni uni ki is jgha sy lub hai🥺❤️\n",
       "#gcuf https://t.co/0hv7MBl2yd', 'truncated': False, 'display_text_range': [0, 43], 'entities': {'hashtags': [{'text': 'gcuf', 'indices': [38, 43]}], 'symbols': [], 'user_mentions': [], 'urls': [], 'media': [{'id': 1460239805913223171, 'id_str': '1460239805913223171', 'indices': [44, 67], 'media_url': 'http://pbs.twimg.com/media/FEPQXeZX0AM9f7E.jpg', 'media_url_https': 'https://pbs.twimg.com/media/FEPQXeZX0AM9f7E.jpg', 'url': 'https://t.co/0hv7MBl2yd', 'display_url': 'pic.twitter.com/0hv7MBl2yd', 'expanded_url': 'https://twitter.com/choclate_girl_/status/1460239817091043330/photo/1', 'type': 'photo', 'original_info': {'width': 636, 'height': 1279, 'focus_rects': [{'x': 0, 'y': 429, 'h': 356, 'w': 636}, {'x': 0, 'y': 289, 'h': 636, 'w': 636}, {'x': 0, 'y': 245, 'h': 725, 'w': 636}, {'x': 0, 'y': 0, 'h': 1272, 'w': 636}, {'x': 0, 'y': 0, 'h': 1279, 'w': 636}]}, 'sizes': {'small': {'w': 338, 'h': 680, 'resize': 'fit'}, 'thumb': {'w': 150, 'h': 150, 'resize': 'crop'}, 'medium': {'w': 597, 'h': 1200, 'resize': 'fit'}, 'large': {'w': 636, 'h': 1279, 'resize': 'fit'}}}]}, 'extended_entities': {'media': [{'id': 1460239805913223171, 'id_str': '1460239805913223171', 'indices': [44, 67], 'media_url': 'http://pbs.twimg.com/media/FEPQXeZX0AM9f7E.jpg', 'media_url_https': 'https://pbs.twimg.com/media/FEPQXeZX0AM9f7E.jpg', 'url': 'https://t.co/0hv7MBl2yd', 'display_url': 'pic.twitter.com/0hv7MBl2yd', 'expanded_url': 'https://twitter.com/choclate_girl_/status/1460239817091043330/photo/1', 'type': 'photo', 'original_info': {'width': 636, 'height': 1279, 'focus_rects': [{'x': 0, 'y': 429, 'h': 356, 'w': 636}, {'x': 0, 'y': 289, 'h': 636, 'w': 636}, {'x': 0, 'y': 245, 'h': 725, 'w': 636}, {'x': 0, 'y': 0, 'h': 1272, 'w': 636}, {'x': 0, 'y': 0, 'h': 1279, 'w': 636}]}, 'sizes': {'small': {'w': 338, 'h': 680, 'resize': 'fit'}, 'thumb': {'w': 150, 'h': 150, 'resize': 'crop'}, 'medium': {'w': 597, 'h': 1200, 'resize': 'fit'}, 'large': {'w': 636, 'h': 1279, 'resize': 'fit'}}, 'media_key': '3_1460239805913223171', 'ext_alt_text': None, 'ext_media_availability': {'status': 'available'}, 'ext_media_color': {'palette': [{'rgb': {'red': 194, 'green': 166, 'blue': 178}, 'percentage': 42.88}, {'rgb': {'red': 162, 'green': 109, 'blue': 107}, 'percentage': 10.46}, {'rgb': {'red': 39, 'green': 54, 'blue': 45}, 'percentage': 8.75}, {'rgb': {'red': 71, 'green': 107, 'blue': 129}, 'percentage': 7.78}, {'rgb': {'red': 64, 'green': 88, 'blue': 33}, 'percentage': 6.08}]}, 'ext': {'mediaStats': {'r': 'Missing', 'ttl': -1}}}]}, 'source': '&lt;a href=\"http://twitter.com/download/android\" rel=\"nofollow\"&gt;Twitter for Android&lt;/a&gt;', 'in_reply_to_status_id': None, 'in_reply_to_status_id_str': None, 'in_reply_to_user_id': None, 'in_reply_to_user_id_str': None, 'in_reply_to_screen_name': None, 'user_id': 1344227902435581957, 'user_id_str': '1344227902435581957', 'geo': None, 'coordinates': None, 'place': None, 'contributors': None, 'is_quote_status': False, 'retweet_count': 2, 'favorite_count': 71, 'reply_count': 16, 'quote_count': 2, 'conversation_id': 1460239817091043330, 'conversation_id_str': '1460239817091043330', 'favorited': False, 'retweeted': False, 'possibly_sensitive': False, 'possibly_sensitive_editable': True, 'lang': 'et', 'supplemental_language': None}</td>\n",
       "    </tr>\n",
       "    <tr>\n",
       "      <th>3</th>\n",
       "      <td>1461276048012853250</td>\n",
       "      <td>{'created_at': 'Thu Nov 18 10:12:13 +0000 2021', 'id': 1461276048012853250, 'id_str': '1461276048012853250', 'full_text': 'گورنمنٹ کالج ویمن یونیورسٹی فیصل آباد میں پہلے کانووکیشن کا انعقاد،گورنر پنجاب نے طالبات میں میڈل تقسیم کیے\n",
       "#1stConvocationGCWUF2021 #Faisalabad #FsdTV41 #FaisalabadTV #FSD #FTV #GCWUF #GCUF @gcwufedupk @AsifMalik30 \n",
       "https://t.co/UcriDG7ZFQ', 'truncated': False, 'display_text_range': [0, 240], 'entities': {'hashtags': [{'text': '1stConvocationGCWUF2021', 'indices': [108, 132]}, {'text': 'Faisalabad', 'indices': [133, 144]}, {'text': 'FsdTV41', 'indices': [145, 153]}, {'text': 'FaisalabadTV', 'indices': [154, 167]}, {'text': 'FSD', 'indices': [168, 172]}, {'text': 'FTV', 'indices': [173, 177]}, {'text': 'GCWUF', 'indices': [178, 184]}, {'text': 'GCUF', 'indices': [185, 190]}], 'symbols': [], 'user_mentions': [{'screen_name': 'gcwufedupk', 'name': 'GCWUF_OFFICIAL', 'id': 3293121649, 'id_str': '3293121649', 'indices': [191, 202]}, {'screen_name': 'AsifMalik30', 'name': 'Asif A. Malik', 'id': 444541588, 'id_str': '444541588', 'indices': [203, 215]}], 'urls': [{'url': 'https://t.co/UcriDG7ZFQ', 'expanded_url': 'https://faisalabadtv41.com/gcwuf-convocation/', 'display_url': 'faisalabadtv41.com/gcwuf-convocat…', 'indices': [217, 240]}]}, 'source': '&lt;a href=\"https://mobile.twitter.com\" rel=\"nofollow\"&gt;Twitter Web App&lt;/a&gt;', 'in_reply_to_status_id': None, 'in_reply_to_status_id_str': None, 'in_reply_to_user_id': None, 'in_reply_to_user_id_str': None, 'in_reply_to_screen_name': None, 'user_id': 1352554423990562816, 'user_id_str': '1352554423990562816', 'geo': None, 'coordinates': None, 'place': None, 'contributors': None, 'is_quote_status': False, 'retweet_count': 3, 'favorite_count': 4, 'reply_count': 0, 'quote_count': 0, 'conversation_id': 1461276048012853250, 'conversation_id_str': '1461276048012853250', 'favorited': False, 'retweeted': False, 'possibly_sensitive': False, 'possibly_sensitive_editable': True, 'card': {'name': 'summary_large_image', 'url': 'https://t.co/UcriDG7ZFQ', 'card_type_url': 'http://card-type-url-is-deprecated.invalid', 'binding_values': {'vanity_url': {'type': 'STRING', 'string_value': 'faisalabadtv41.com', 'scribe_key': 'vanity_url'}, 'domain': {'type': 'STRING', 'string_value': 'faisalabadtv41.com'}, 'creator': {'type': 'USER', 'user_value': {'id_str': '1352554423990562816', 'path': []}}, 'title': {'type': 'STRING', 'string_value': 'گورنمنٹ کالج ویمن یونیورسٹی فیصل آباد میں پہلے کانووکیشن کا انعقاد،گورنر پنجاب نے طالبات میں میڈل...'}, 'description': {'type': 'STRING', 'string_value': 'فیصل آباد(حمزہ اکرم)گورنر پنجاب چوہدری محمدسرور نے کہا ہے کہ تاریخ میں محلات،بڑے عہدوں اور دولت رکھنے والے نہیں انسانیت کی خدمت کر نیوالے ہی زندہ رہتے ہیں، جذبہ اور محنت ہو تو دنیا میں کچھ بھی ناممکن...'}, 'thumbnail_image_small': {'type': 'IMAGE', 'image_value': {'url': 'https://pbs.twimg.com/card_img/1471499932183851009/xp_JTskW?format=jpg&amp;name=240x240', 'width': 240, 'height': 93, 'alt': None}}, 'thumbnail_image': {'type': 'IMAGE', 'image_value': {'url': 'https://pbs.twimg.com/card_img/1471499932183851009/xp_JTskW?format=jpg&amp;name=400x400', 'width': 400, 'height': 154, 'alt': None}}, 'thumbnail_image_large': {'type': 'IMAGE', 'image_value': {'url': 'https://pbs.twimg.com/card_img/1471499932183851009/xp_JTskW?format=jpg&amp;name=800x320_1', 'width': 800, 'height': 309, 'alt': None}}, 'thumbnail_image_x_large': {'type': 'IMAGE', 'image_value': {'url': 'https://pbs.twimg.com/card_img/1471499932183851009/xp_JTskW?format=png&amp;name=2048x2048_2_exp', 'width': 905, 'height': 349, 'alt': None}}, 'thumbnail_image_color': {'type': 'IMAGE_COLOR', 'image_color_value': {'palette': [{'percentage': 58.24, 'rgb': {'red': 159, 'green': 210, 'blue': 245}}, {'percentage': 8.07, 'rgb': {'red': 165, 'green': 54, 'blue': 7}}, {'percentage': 7.72, 'rgb': {'red': 167, 'green': 111, 'blue': 67}}, {'percentage': 7.1, 'rgb': {'red': 226, 'green': 225, 'blue': 214}}, {'percentage': 5.4, 'rgb': {'red': 26, 'green': 19, 'blue': 18}}]}}, 'thumbnail_image_original': {'type': 'IMAGE', 'image_value': {'url': 'https://pbs.twimg.com/card_img/1471499932183851009/xp_JTskW?format=jpg&amp;name=orig', 'width': 905, 'height': 349, 'alt': None}}, 'summary_photo_image_small': {'type': 'IMAGE', 'image_value': {'url': 'https://pbs.twimg.com/card_img/1471499932183851009/xp_JTskW?format=jpg&amp;name=386x202', 'width': 386, 'height': 202, 'alt': None}}, 'summary_photo_image': {'type': 'IMAGE', 'image_value': {'url': 'https://pbs.twimg.com/card_img/1471499932183851009/xp_JTskW?format=jpg&amp;name=600x314', 'width': 600, 'height': 314, 'alt': None}}, 'summary_photo_image_large': {'type': 'IMAGE', 'image_value': {'url': 'https://pbs.twimg.com/card_img/1471499932183851009/xp_JTskW?format=jpg&amp;name=800x419', 'width': 666, 'height': 349, 'alt': None}}, 'summary_photo_image_x_large': {'type': 'IMAGE', 'image_value': {'url': 'https://pbs.twimg.com/card_img/1471499932183851009/xp_JTskW?format=png&amp;name=2048x2048_2_exp', 'width': 905, 'height': 349, 'alt': None...</td>\n",
       "    </tr>\n",
       "    <tr>\n",
       "      <th>4</th>\n",
       "      <td>1461711077503377409</td>\n",
       "      <td>{'created_at': 'Fri Nov 19 15:00:52 +0000 2021', 'id': 1461711077503377409, 'id_str': '1461711077503377409', 'full_text': 'A minute, an hour, a month ,\n",
       "death is certain\n",
       "time is not..\n",
       "#winter is #coming\n",
       "#GCUF https://t.co/85Jt8HMzCC', 'truncated': False, 'display_text_range': [0, 84], 'entities': {'hashtags': [{'text': 'winter', 'indices': [60, 67]}, {'text': 'coming', 'indices': [71, 78]}, {'text': 'GCUF', 'indices': [79, 84]}], 'symbols': [], 'user_mentions': [], 'urls': [], 'media': [{'id': 1461711074751922176, 'id_str': '1461711074751922176', 'indices': [85, 108], 'media_url': 'http://pbs.twimg.com/media/FEkKel7XwAAkEoo.jpg', 'media_url_https': 'https://pbs.twimg.com/media/FEkKel7XwAAkEoo.jpg', 'url': 'https://t.co/85Jt8HMzCC', 'display_url': 'pic.twitter.com/85Jt8HMzCC', 'expanded_url': 'https://twitter.com/muhamma45635902/status/1461711077503377409/photo/1', 'type': 'photo', 'original_info': {'width': 1080, 'height': 810, 'focus_rects': [{'x': 0, 'y': 0, 'h': 605, 'w': 1080}, {'x': 216, 'y': 0, 'h': 810, 'w': 810}, {'x': 266, 'y': 0, 'h': 810, 'w': 711}, {'x': 419, 'y': 0, 'h': 810, 'w': 405}, {'x': 0, 'y': 0, 'h': 810, 'w': 1080}]}, 'sizes': {'large': {'w': 1080, 'h': 810, 'resize': 'fit'}, 'thumb': {'w': 150, 'h': 150, 'resize': 'crop'}, 'small': {'w': 680, 'h': 510, 'resize': 'fit'}, 'medium': {'w': 1080, 'h': 810, 'resize': 'fit'}}}]}, 'extended_entities': {'media': [{'id': 1461711074751922176, 'id_str': '1461711074751922176', 'indices': [85, 108], 'media_url': 'http://pbs.twimg.com/media/FEkKel7XwAAkEoo.jpg', 'media_url_https': 'https://pbs.twimg.com/media/FEkKel7XwAAkEoo.jpg', 'url': 'https://t.co/85Jt8HMzCC', 'display_url': 'pic.twitter.com/85Jt8HMzCC', 'expanded_url': 'https://twitter.com/muhamma45635902/status/1461711077503377409/photo/1', 'type': 'photo', 'original_info': {'width': 1080, 'height': 810, 'focus_rects': [{'x': 0, 'y': 0, 'h': 605, 'w': 1080}, {'x': 216, 'y': 0, 'h': 810, 'w': 810}, {'x': 266, 'y': 0, 'h': 810, 'w': 711}, {'x': 419, 'y': 0, 'h': 810, 'w': 405}, {'x': 0, 'y': 0, 'h': 810, 'w': 1080}]}, 'sizes': {'large': {'w': 1080, 'h': 810, 'resize': 'fit'}, 'thumb': {'w': 150, 'h': 150, 'resize': 'crop'}, 'small': {'w': 680, 'h': 510, 'resize': 'fit'}, 'medium': {'w': 1080, 'h': 810, 'resize': 'fit'}}, 'media_key': '3_1461711074751922176', 'ext_alt_text': None, 'ext_media_availability': {'status': 'available'}, 'ext_media_color': {'palette': [{'rgb': {'red': 73, 'green': 66, 'blue': 53}, 'percentage': 51.17}, {'rgb': {'red': 128, 'green': 112, 'blue': 80}, 'percentage': 23.02}, {'rgb': {'red': 85, 'green': 68, 'blue': 29}, 'percentage': 8.06}, {'rgb': {'red': 241, 'green': 242, 'blue': 236}, 'percentage': 4.57}, {'rgb': {'red': 159, 'green': 130, 'blue': 66}, 'percentage': 2.62}]}, 'ext': {'mediaStats': {'r': 'Missing', 'ttl': -1}}}]}, 'source': '&lt;a href=\"http://twitter.com/download/android\" rel=\"nofollow\"&gt;Twitter for Android&lt;/a&gt;', 'in_reply_to_status_id': None, 'in_reply_to_status_id_str': None, 'in_reply_to_user_id': None, 'in_reply_to_user_id_str': None, 'in_reply_to_screen_name': None, 'user_id': 1366785545700016128, 'user_id_str': '1366785545700016128', 'geo': None, 'coordinates': None, 'place': None, 'contributors': None, 'is_quote_status': False, 'retweet_count': 0, 'favorite_count': 0, 'reply_count': 0, 'quote_count': 0, 'conversation_id': 1461711077503377409, 'conversation_id_str': '1461711077503377409', 'favorited': False, 'retweeted': False, 'possibly_sensitive': False, 'possibly_sensitive_editable': True, 'lang': 'en', 'supplemental_language': None}</td>\n",
       "    </tr>\n",
       "  </tbody>\n",
       "</table>\n",
       "</div>"
      ],
      "text/plain": [
       "                   id_  \\\n",
       "0  1458384886369243141   \n",
       "1  1459542990112886799   \n",
       "2  1460239817091043330   \n",
       "3  1461276048012853250   \n",
       "4  1461711077503377409   \n",
       "\n",
       "                                                                                                                                                                                                                                                                                                                                                                                                                                                                                                                                                                                                                                                                                                                                                                                                                                                                                                                                                                                                                                                                                                                                                                                                                                                                                                                                                                                                                                                                                                                                                                                                                                                                                                                                                                                                                                                                                                                                                                                                                                                                                                                                                                                                                                                                                                                                                                                                                                                                                                                                                                                                                                                                                                                                                                                                                                                                                                                                                                                                                                                                                                                                                                                                                                                                                                                                                                                                                                                                                                                                                                                                                                                                                                                                                                                                                                                                                                                                                                                                                                                                                                                                                                                                                                                                                                                                                                                                                                                                                                                                                                                                                                                                                                                                                                                                                                                                                                                                                                                                                                                                                                                                                                                                  raw_data  \n",
       "0                                                                                                                                                                                                                                                                                                                                                                                                                                                                                                                                                                                                                                                                                                                                                                                                                                                                                                                                                                                                                                                                                                                                                                                                                                                                                                                                                                                                                                                                                                                                                                                                                                                     {'created_at': 'Wed Nov 10 10:43:47 +0000 2021', 'id': 1458384886369243141, 'id_str': '1458384886369243141', 'full_text': 'First Success \n",
       "Allhamdullilah ✨\n",
       "#GCUF https://t.co/ldYlSOamtm', 'truncated': False, 'display_text_range': [0, 37], 'entities': {'hashtags': [{'text': 'GCUF', 'indices': [32, 37]}], 'symbols': [], 'user_mentions': [], 'urls': [], 'media': [{'id': 1458384879465504772, 'id_str': '1458384879465504772', 'indices': [38, 61], 'media_url': 'http://pbs.twimg.com/media/FD05Ui5XoAQLVmV.jpg', 'media_url_https': 'https://pbs.twimg.com/media/FD05Ui5XoAQLVmV.jpg', 'url': 'https://t.co/ldYlSOamtm', 'display_url': 'pic.twitter.com/ldYlSOamtm', 'expanded_url': 'https://twitter.com/Besuperior10/status/1458384886369243141/photo/1', 'type': 'photo', 'original_info': {'width': 424, 'height': 102, 'focus_rects': [{'x': 121, 'y': 0, 'h': 102, 'w': 182}, {'x': 161, 'y': 0, 'h': 102, 'w': 102}, {'x': 168, 'y': 0, 'h': 102, 'w': 89}, {'x': 187, 'y': 0, 'h': 102, 'w': 51}, {'x': 0, 'y': 0, 'h': 102, 'w': 424}]}, 'sizes': {'small': {'w': 424, 'h': 102, 'resize': 'fit'}, 'thumb': {'w': 102, 'h': 102, 'resize': 'crop'}, 'medium': {'w': 424, 'h': 102, 'resize': 'fit'}, 'large': {'w': 424, 'h': 102, 'resize': 'fit'}}}]}, 'extended_entities': {'media': [{'id': 1458384879465504772, 'id_str': '1458384879465504772', 'indices': [38, 61], 'media_url': 'http://pbs.twimg.com/media/FD05Ui5XoAQLVmV.jpg', 'media_url_https': 'https://pbs.twimg.com/media/FD05Ui5XoAQLVmV.jpg', 'url': 'https://t.co/ldYlSOamtm', 'display_url': 'pic.twitter.com/ldYlSOamtm', 'expanded_url': 'https://twitter.com/Besuperior10/status/1458384886369243141/photo/1', 'type': 'photo', 'original_info': {'width': 424, 'height': 102, 'focus_rects': [{'x': 121, 'y': 0, 'h': 102, 'w': 182}, {'x': 161, 'y': 0, 'h': 102, 'w': 102}, {'x': 168, 'y': 0, 'h': 102, 'w': 89}, {'x': 187, 'y': 0, 'h': 102, 'w': 51}, {'x': 0, 'y': 0, 'h': 102, 'w': 424}]}, 'sizes': {'small': {'w': 424, 'h': 102, 'resize': 'fit'}, 'thumb': {'w': 102, 'h': 102, 'resize': 'crop'}, 'medium': {'w': 424, 'h': 102, 'resize': 'fit'}, 'large': {'w': 424, 'h': 102, 'resize': 'fit'}}, 'media_key': '3_1458384879465504772', 'ext_alt_text': None, 'ext_media_availability': {'status': 'available'}, 'ext_media_color': {'palette': [{'rgb': {'red': 158, 'green': 246, 'blue': 79}, 'percentage': 92.49}, {'rgb': {'red': 141, 'green': 204, 'blue': 90}, 'percentage': 4.03}, {'rgb': {'red': 95, 'green': 162, 'blue': 155}, 'percentage': 1.29}, {'rgb': {'red': 136, 'green': 197, 'blue': 134}, 'percentage': 1.11}, {'rgb': {'red': 181, 'green': 242, 'blue': 115}, 'percentage': 1.03}]}, 'ext': {'mediaStats': {'r': 'Missing', 'ttl': -1}}}]}, 'source': '<a href=\"http://twitter.com/download/iphone\" rel=\"nofollow\">Twitter for iPhone</a>', 'in_reply_to_status_id': None, 'in_reply_to_status_id_str': None, 'in_reply_to_user_id': None, 'in_reply_to_user_id_str': None, 'in_reply_to_screen_name': None, 'user_id': 1327935804090552320, 'user_id_str': '1327935804090552320', 'geo': None, 'coordinates': None, 'place': None, 'contributors': None, 'is_quote_status': False, 'retweet_count': 1, 'favorite_count': 84, 'reply_count': 52, 'quote_count': 2, 'conversation_id': 1458384886369243141, 'conversation_id_str': '1458384886369243141', 'favorited': False, 'retweeted': False, 'possibly_sensitive': False, 'possibly_sensitive_editable': True, 'lang': 'en', 'supplemental_language': None}  \n",
       "1                                                                                                                                                                                                                                                                                                                                                                                                                                                                                                                                                                                                                                                                                                                                                                                                                                                                                                                                                                                                                                                                                                                                                                                                                                                                                                                                                                                                                                                                                                                                                                                                                                                                                                                                                                                                                                                                                                                                                                                                                                                                                                                                                                                                                                                                                                                                                                                                                                                                                                                                                                                                                                                                                                                                                                                                                                                                                                                                                                                                                                                                                                                                                                                                                                                                                                                                                                                                                                                                                                                                                                                                                                                                                                                                                                                                                                                                                                                                                                                                                               {'created_at': 'Sat Nov 13 15:25:40 +0000 2021', 'id': 1459542990112886799, 'id_str': '1459542990112886799', 'full_text': 'Mids Come To Remind you k\n",
       "“Beta uni A kar prhna be hota hai”😷\n",
       "#Physical #Exams #Gcuf', 'truncated': False, 'display_text_range': [0, 84], 'entities': {'hashtags': [{'text': 'Physical', 'indices': [62, 71]}, {'text': 'Exams', 'indices': [72, 78]}, {'text': 'Gcuf', 'indices': [79, 84]}], 'symbols': [], 'user_mentions': [], 'urls': []}, 'source': '<a href=\"http://twitter.com/download/iphone\" rel=\"nofollow\">Twitter for iPhone</a>', 'in_reply_to_status_id': None, 'in_reply_to_status_id_str': None, 'in_reply_to_user_id': None, 'in_reply_to_user_id_str': None, 'in_reply_to_screen_name': None, 'user_id': 1342660610144821249, 'user_id_str': '1342660610144821249', 'geo': None, 'coordinates': None, 'place': None, 'contributors': None, 'is_quote_status': False, 'retweet_count': 0, 'favorite_count': 1, 'reply_count': 0, 'quote_count': 0, 'conversation_id': 1459542990112886799, 'conversation_id_str': '1459542990112886799', 'favorited': False, 'retweeted': False, 'lang': 'en', 'supplemental_language': None}  \n",
       "2                                                                                                                                                                                                                                                                                                                                                                                                                                                                                                                                                                                                                                                                                                                                                                                                                                                                                                                                                                                                                                                                                                                                                                                                                                                                                                                                                                                                                                                                                                                                                                                                                                  {'created_at': 'Mon Nov 15 13:34:36 +0000 2021', 'id': 1460239817091043330, 'id_str': '1460239817091043330', 'full_text': 'Mjy apni uni ki is jgha sy lub hai🥺❤️\n",
       "#gcuf https://t.co/0hv7MBl2yd', 'truncated': False, 'display_text_range': [0, 43], 'entities': {'hashtags': [{'text': 'gcuf', 'indices': [38, 43]}], 'symbols': [], 'user_mentions': [], 'urls': [], 'media': [{'id': 1460239805913223171, 'id_str': '1460239805913223171', 'indices': [44, 67], 'media_url': 'http://pbs.twimg.com/media/FEPQXeZX0AM9f7E.jpg', 'media_url_https': 'https://pbs.twimg.com/media/FEPQXeZX0AM9f7E.jpg', 'url': 'https://t.co/0hv7MBl2yd', 'display_url': 'pic.twitter.com/0hv7MBl2yd', 'expanded_url': 'https://twitter.com/choclate_girl_/status/1460239817091043330/photo/1', 'type': 'photo', 'original_info': {'width': 636, 'height': 1279, 'focus_rects': [{'x': 0, 'y': 429, 'h': 356, 'w': 636}, {'x': 0, 'y': 289, 'h': 636, 'w': 636}, {'x': 0, 'y': 245, 'h': 725, 'w': 636}, {'x': 0, 'y': 0, 'h': 1272, 'w': 636}, {'x': 0, 'y': 0, 'h': 1279, 'w': 636}]}, 'sizes': {'small': {'w': 338, 'h': 680, 'resize': 'fit'}, 'thumb': {'w': 150, 'h': 150, 'resize': 'crop'}, 'medium': {'w': 597, 'h': 1200, 'resize': 'fit'}, 'large': {'w': 636, 'h': 1279, 'resize': 'fit'}}}]}, 'extended_entities': {'media': [{'id': 1460239805913223171, 'id_str': '1460239805913223171', 'indices': [44, 67], 'media_url': 'http://pbs.twimg.com/media/FEPQXeZX0AM9f7E.jpg', 'media_url_https': 'https://pbs.twimg.com/media/FEPQXeZX0AM9f7E.jpg', 'url': 'https://t.co/0hv7MBl2yd', 'display_url': 'pic.twitter.com/0hv7MBl2yd', 'expanded_url': 'https://twitter.com/choclate_girl_/status/1460239817091043330/photo/1', 'type': 'photo', 'original_info': {'width': 636, 'height': 1279, 'focus_rects': [{'x': 0, 'y': 429, 'h': 356, 'w': 636}, {'x': 0, 'y': 289, 'h': 636, 'w': 636}, {'x': 0, 'y': 245, 'h': 725, 'w': 636}, {'x': 0, 'y': 0, 'h': 1272, 'w': 636}, {'x': 0, 'y': 0, 'h': 1279, 'w': 636}]}, 'sizes': {'small': {'w': 338, 'h': 680, 'resize': 'fit'}, 'thumb': {'w': 150, 'h': 150, 'resize': 'crop'}, 'medium': {'w': 597, 'h': 1200, 'resize': 'fit'}, 'large': {'w': 636, 'h': 1279, 'resize': 'fit'}}, 'media_key': '3_1460239805913223171', 'ext_alt_text': None, 'ext_media_availability': {'status': 'available'}, 'ext_media_color': {'palette': [{'rgb': {'red': 194, 'green': 166, 'blue': 178}, 'percentage': 42.88}, {'rgb': {'red': 162, 'green': 109, 'blue': 107}, 'percentage': 10.46}, {'rgb': {'red': 39, 'green': 54, 'blue': 45}, 'percentage': 8.75}, {'rgb': {'red': 71, 'green': 107, 'blue': 129}, 'percentage': 7.78}, {'rgb': {'red': 64, 'green': 88, 'blue': 33}, 'percentage': 6.08}]}, 'ext': {'mediaStats': {'r': 'Missing', 'ttl': -1}}}]}, 'source': '<a href=\"http://twitter.com/download/android\" rel=\"nofollow\">Twitter for Android</a>', 'in_reply_to_status_id': None, 'in_reply_to_status_id_str': None, 'in_reply_to_user_id': None, 'in_reply_to_user_id_str': None, 'in_reply_to_screen_name': None, 'user_id': 1344227902435581957, 'user_id_str': '1344227902435581957', 'geo': None, 'coordinates': None, 'place': None, 'contributors': None, 'is_quote_status': False, 'retweet_count': 2, 'favorite_count': 71, 'reply_count': 16, 'quote_count': 2, 'conversation_id': 1460239817091043330, 'conversation_id_str': '1460239817091043330', 'favorited': False, 'retweeted': False, 'possibly_sensitive': False, 'possibly_sensitive_editable': True, 'lang': 'et', 'supplemental_language': None}  \n",
       "3  {'created_at': 'Thu Nov 18 10:12:13 +0000 2021', 'id': 1461276048012853250, 'id_str': '1461276048012853250', 'full_text': 'گورنمنٹ کالج ویمن یونیورسٹی فیصل آباد میں پہلے کانووکیشن کا انعقاد،گورنر پنجاب نے طالبات میں میڈل تقسیم کیے\n",
       "#1stConvocationGCWUF2021 #Faisalabad #FsdTV41 #FaisalabadTV #FSD #FTV #GCWUF #GCUF @gcwufedupk @AsifMalik30 \n",
       "https://t.co/UcriDG7ZFQ', 'truncated': False, 'display_text_range': [0, 240], 'entities': {'hashtags': [{'text': '1stConvocationGCWUF2021', 'indices': [108, 132]}, {'text': 'Faisalabad', 'indices': [133, 144]}, {'text': 'FsdTV41', 'indices': [145, 153]}, {'text': 'FaisalabadTV', 'indices': [154, 167]}, {'text': 'FSD', 'indices': [168, 172]}, {'text': 'FTV', 'indices': [173, 177]}, {'text': 'GCWUF', 'indices': [178, 184]}, {'text': 'GCUF', 'indices': [185, 190]}], 'symbols': [], 'user_mentions': [{'screen_name': 'gcwufedupk', 'name': 'GCWUF_OFFICIAL', 'id': 3293121649, 'id_str': '3293121649', 'indices': [191, 202]}, {'screen_name': 'AsifMalik30', 'name': 'Asif A. Malik', 'id': 444541588, 'id_str': '444541588', 'indices': [203, 215]}], 'urls': [{'url': 'https://t.co/UcriDG7ZFQ', 'expanded_url': 'https://faisalabadtv41.com/gcwuf-convocation/', 'display_url': 'faisalabadtv41.com/gcwuf-convocat…', 'indices': [217, 240]}]}, 'source': '<a href=\"https://mobile.twitter.com\" rel=\"nofollow\">Twitter Web App</a>', 'in_reply_to_status_id': None, 'in_reply_to_status_id_str': None, 'in_reply_to_user_id': None, 'in_reply_to_user_id_str': None, 'in_reply_to_screen_name': None, 'user_id': 1352554423990562816, 'user_id_str': '1352554423990562816', 'geo': None, 'coordinates': None, 'place': None, 'contributors': None, 'is_quote_status': False, 'retweet_count': 3, 'favorite_count': 4, 'reply_count': 0, 'quote_count': 0, 'conversation_id': 1461276048012853250, 'conversation_id_str': '1461276048012853250', 'favorited': False, 'retweeted': False, 'possibly_sensitive': False, 'possibly_sensitive_editable': True, 'card': {'name': 'summary_large_image', 'url': 'https://t.co/UcriDG7ZFQ', 'card_type_url': 'http://card-type-url-is-deprecated.invalid', 'binding_values': {'vanity_url': {'type': 'STRING', 'string_value': 'faisalabadtv41.com', 'scribe_key': 'vanity_url'}, 'domain': {'type': 'STRING', 'string_value': 'faisalabadtv41.com'}, 'creator': {'type': 'USER', 'user_value': {'id_str': '1352554423990562816', 'path': []}}, 'title': {'type': 'STRING', 'string_value': 'گورنمنٹ کالج ویمن یونیورسٹی فیصل آباد میں پہلے کانووکیشن کا انعقاد،گورنر پنجاب نے طالبات میں میڈل...'}, 'description': {'type': 'STRING', 'string_value': 'فیصل آباد(حمزہ اکرم)گورنر پنجاب چوہدری محمدسرور نے کہا ہے کہ تاریخ میں محلات،بڑے عہدوں اور دولت رکھنے والے نہیں انسانیت کی خدمت کر نیوالے ہی زندہ رہتے ہیں، جذبہ اور محنت ہو تو دنیا میں کچھ بھی ناممکن...'}, 'thumbnail_image_small': {'type': 'IMAGE', 'image_value': {'url': 'https://pbs.twimg.com/card_img/1471499932183851009/xp_JTskW?format=jpg&name=240x240', 'width': 240, 'height': 93, 'alt': None}}, 'thumbnail_image': {'type': 'IMAGE', 'image_value': {'url': 'https://pbs.twimg.com/card_img/1471499932183851009/xp_JTskW?format=jpg&name=400x400', 'width': 400, 'height': 154, 'alt': None}}, 'thumbnail_image_large': {'type': 'IMAGE', 'image_value': {'url': 'https://pbs.twimg.com/card_img/1471499932183851009/xp_JTskW?format=jpg&name=800x320_1', 'width': 800, 'height': 309, 'alt': None}}, 'thumbnail_image_x_large': {'type': 'IMAGE', 'image_value': {'url': 'https://pbs.twimg.com/card_img/1471499932183851009/xp_JTskW?format=png&name=2048x2048_2_exp', 'width': 905, 'height': 349, 'alt': None}}, 'thumbnail_image_color': {'type': 'IMAGE_COLOR', 'image_color_value': {'palette': [{'percentage': 58.24, 'rgb': {'red': 159, 'green': 210, 'blue': 245}}, {'percentage': 8.07, 'rgb': {'red': 165, 'green': 54, 'blue': 7}}, {'percentage': 7.72, 'rgb': {'red': 167, 'green': 111, 'blue': 67}}, {'percentage': 7.1, 'rgb': {'red': 226, 'green': 225, 'blue': 214}}, {'percentage': 5.4, 'rgb': {'red': 26, 'green': 19, 'blue': 18}}]}}, 'thumbnail_image_original': {'type': 'IMAGE', 'image_value': {'url': 'https://pbs.twimg.com/card_img/1471499932183851009/xp_JTskW?format=jpg&name=orig', 'width': 905, 'height': 349, 'alt': None}}, 'summary_photo_image_small': {'type': 'IMAGE', 'image_value': {'url': 'https://pbs.twimg.com/card_img/1471499932183851009/xp_JTskW?format=jpg&name=386x202', 'width': 386, 'height': 202, 'alt': None}}, 'summary_photo_image': {'type': 'IMAGE', 'image_value': {'url': 'https://pbs.twimg.com/card_img/1471499932183851009/xp_JTskW?format=jpg&name=600x314', 'width': 600, 'height': 314, 'alt': None}}, 'summary_photo_image_large': {'type': 'IMAGE', 'image_value': {'url': 'https://pbs.twimg.com/card_img/1471499932183851009/xp_JTskW?format=jpg&name=800x419', 'width': 666, 'height': 349, 'alt': None}}, 'summary_photo_image_x_large': {'type': 'IMAGE', 'image_value': {'url': 'https://pbs.twimg.com/card_img/1471499932183851009/xp_JTskW?format=png&name=2048x2048_2_exp', 'width': 905, 'height': 349, 'alt': None...  \n",
       "4                                                                                                                                                                                                                                                                                                                                                                                                                                                                                                                                                                                                                                                                                                                                                                                                                                                                                                                                                                                                                                                                                                                                                                                                                                                                                                                                                                                                                                                                                                      {'created_at': 'Fri Nov 19 15:00:52 +0000 2021', 'id': 1461711077503377409, 'id_str': '1461711077503377409', 'full_text': 'A minute, an hour, a month ,\n",
       "death is certain\n",
       "time is not..\n",
       "#winter is #coming\n",
       "#GCUF https://t.co/85Jt8HMzCC', 'truncated': False, 'display_text_range': [0, 84], 'entities': {'hashtags': [{'text': 'winter', 'indices': [60, 67]}, {'text': 'coming', 'indices': [71, 78]}, {'text': 'GCUF', 'indices': [79, 84]}], 'symbols': [], 'user_mentions': [], 'urls': [], 'media': [{'id': 1461711074751922176, 'id_str': '1461711074751922176', 'indices': [85, 108], 'media_url': 'http://pbs.twimg.com/media/FEkKel7XwAAkEoo.jpg', 'media_url_https': 'https://pbs.twimg.com/media/FEkKel7XwAAkEoo.jpg', 'url': 'https://t.co/85Jt8HMzCC', 'display_url': 'pic.twitter.com/85Jt8HMzCC', 'expanded_url': 'https://twitter.com/muhamma45635902/status/1461711077503377409/photo/1', 'type': 'photo', 'original_info': {'width': 1080, 'height': 810, 'focus_rects': [{'x': 0, 'y': 0, 'h': 605, 'w': 1080}, {'x': 216, 'y': 0, 'h': 810, 'w': 810}, {'x': 266, 'y': 0, 'h': 810, 'w': 711}, {'x': 419, 'y': 0, 'h': 810, 'w': 405}, {'x': 0, 'y': 0, 'h': 810, 'w': 1080}]}, 'sizes': {'large': {'w': 1080, 'h': 810, 'resize': 'fit'}, 'thumb': {'w': 150, 'h': 150, 'resize': 'crop'}, 'small': {'w': 680, 'h': 510, 'resize': 'fit'}, 'medium': {'w': 1080, 'h': 810, 'resize': 'fit'}}}]}, 'extended_entities': {'media': [{'id': 1461711074751922176, 'id_str': '1461711074751922176', 'indices': [85, 108], 'media_url': 'http://pbs.twimg.com/media/FEkKel7XwAAkEoo.jpg', 'media_url_https': 'https://pbs.twimg.com/media/FEkKel7XwAAkEoo.jpg', 'url': 'https://t.co/85Jt8HMzCC', 'display_url': 'pic.twitter.com/85Jt8HMzCC', 'expanded_url': 'https://twitter.com/muhamma45635902/status/1461711077503377409/photo/1', 'type': 'photo', 'original_info': {'width': 1080, 'height': 810, 'focus_rects': [{'x': 0, 'y': 0, 'h': 605, 'w': 1080}, {'x': 216, 'y': 0, 'h': 810, 'w': 810}, {'x': 266, 'y': 0, 'h': 810, 'w': 711}, {'x': 419, 'y': 0, 'h': 810, 'w': 405}, {'x': 0, 'y': 0, 'h': 810, 'w': 1080}]}, 'sizes': {'large': {'w': 1080, 'h': 810, 'resize': 'fit'}, 'thumb': {'w': 150, 'h': 150, 'resize': 'crop'}, 'small': {'w': 680, 'h': 510, 'resize': 'fit'}, 'medium': {'w': 1080, 'h': 810, 'resize': 'fit'}}, 'media_key': '3_1461711074751922176', 'ext_alt_text': None, 'ext_media_availability': {'status': 'available'}, 'ext_media_color': {'palette': [{'rgb': {'red': 73, 'green': 66, 'blue': 53}, 'percentage': 51.17}, {'rgb': {'red': 128, 'green': 112, 'blue': 80}, 'percentage': 23.02}, {'rgb': {'red': 85, 'green': 68, 'blue': 29}, 'percentage': 8.06}, {'rgb': {'red': 241, 'green': 242, 'blue': 236}, 'percentage': 4.57}, {'rgb': {'red': 159, 'green': 130, 'blue': 66}, 'percentage': 2.62}]}, 'ext': {'mediaStats': {'r': 'Missing', 'ttl': -1}}}]}, 'source': '<a href=\"http://twitter.com/download/android\" rel=\"nofollow\">Twitter for Android</a>', 'in_reply_to_status_id': None, 'in_reply_to_status_id_str': None, 'in_reply_to_user_id': None, 'in_reply_to_user_id_str': None, 'in_reply_to_screen_name': None, 'user_id': 1366785545700016128, 'user_id_str': '1366785545700016128', 'geo': None, 'coordinates': None, 'place': None, 'contributors': None, 'is_quote_status': False, 'retweet_count': 0, 'favorite_count': 0, 'reply_count': 0, 'quote_count': 0, 'conversation_id': 1461711077503377409, 'conversation_id_str': '1461711077503377409', 'favorited': False, 'retweeted': False, 'possibly_sensitive': False, 'possibly_sensitive_editable': True, 'lang': 'en', 'supplemental_language': None}  "
      ]
     },
     "execution_count": 16,
     "metadata": {},
     "output_type": "execute_result"
    }
   ],
   "source": [
    "df = pd.DataFrame(tweets)\n",
    "df.head(5)"
   ]
  },
  {
   "cell_type": "code",
   "execution_count": 17,
   "metadata": {
    "scrolled": false
   },
   "outputs": [
    {
     "name": "stdout",
     "output_type": "stream",
     "text": [
      "1 .\n",
      "\n",
      "First Success \n",
      "Allhamdullilah ✨\n",
      "#GCUF https://t.co/ldYlSOamtm\n",
      "2 .\n",
      "\n",
      "Mids Come To Remind you k\n",
      "“Beta uni A kar prhna be hota hai”😷\n",
      "#Physical #Exams #Gcuf\n",
      "3 .\n",
      "\n",
      "Mjy apni uni ki is jgha sy lub hai🥺❤️\n",
      "#gcuf https://t.co/0hv7MBl2yd\n",
      "4 .\n",
      "\n",
      "گورنمنٹ کالج ویمن یونیورسٹی فیصل آباد میں پہلے کانووکیشن کا انعقاد،گورنر پنجاب نے طالبات میں میڈل تقسیم کیے\n",
      "#1stConvocationGCWUF2021 #Faisalabad #FsdTV41 #FaisalabadTV #FSD #FTV #GCWUF #GCUF @gcwufedupk @AsifMalik30 \n",
      "https://t.co/UcriDG7ZFQ\n",
      "5 .\n",
      "\n",
      "A minute, an hour, a month ,\n",
      "death is certain\n",
      "time is not..\n",
      "#winter is #coming\n",
      "#GCUF https://t.co/85Jt8HMzCC\n",
      "6 .\n",
      "\n",
      "Yar Zindgi main sakon a he Raha tha , Pta ni Mid Kaha see a gie \n",
      "#Mid #gcuf\n",
      "7 .\n",
      "\n",
      "#GCUF \n",
      "MA/MSc Part I-II Partwise, Composite 2nd Annual Examinations 2021 Admission Last Date With Single Fee 2-12-2021\n",
      "8 .\n",
      "\n",
      "#GCUF \n",
      "Registration of private candidate of MA / https://t.co/YYCzLvnjEm / BA / BSC / https://t.co/3s7x2VPdZf\n",
      " 1st Annual 2022 Last Date With Single Fee 03-12-2021\n",
      "9 .\n",
      "\n",
      "Papers again postponed \n",
      "GC uni zindabad ✊🤣🤣\n",
      "\n",
      "#GCUF #CancelTerm1Exams \n",
      "#Crazy🦋\n",
      "10 .\n",
      "\n",
      "GCU Student Portal | How To Login GCU?\n",
      "The Grand Canyon University (GCU) login portal is the easiest way to access all information with just one click. To do this you’ll be able to enter the official web pages\n",
      "https://t.co/VX8lrgcNSO\n",
      "#gculibrary #gcumba #gcashchallenge #GCUF\n",
      "11 .\n",
      "\n",
      "GCUF Zindabad 🤣🤣\n",
      "\n",
      "#GCUF #midExamsPosponded https://t.co/jj91II6DwG\n",
      "12 .\n",
      "\n",
      "#BBA walye mere se dosti kar lo ❤️\n",
      "#GCUF\n",
      "13 .\n",
      "\n",
      "Come and join me at #gcuf #free #health &amp; #nutrition #camp Is #organized With the #collaboration of #nutrifactor \n",
      "#department of #home #ecnomics #food &amp; #nutrition\n",
      "#faisalabad #pakistan https://t.co/DKz39mAHfy\n",
      "14 .\n",
      "\n",
      "#GCUF #Info\n",
      "#PakistanJobs\n",
      "GCUF Private Students Registration 2022 Open For M.A, https://t.co/jmLsuEc1kp, Associate De... https://t.co/UABaCUpGeL via @YouTube\n",
      "15 .\n",
      "\n",
      "#GCUF❤️🥀\n",
      "Mention your uni.... 😁🤓 https://t.co/j2qYI6K7Tr\n",
      "16 .\n",
      "\n",
      "طالبات نشہ سمیت دیگر برائیوں سے دور رہیں۔ جی سی ویمن یونیورسٹی میں سیمینار\n",
      "#FaisalabadTV #FTV #FsdTV41 #Faisalabad #GCWUF #GCUF #smoking #GCU @gcwufedupk \n",
      "https://t.co/brmspTWlc5\n",
      "17 .\n",
      "\n",
      "Har University main Concert, Carnival, Qawali Night or Harry Potter week ho rhy hain...\n",
      "\n",
      "Or ek Hmari university hai jaha sirf Quiz, Assignments, Mids aur law walon ki larraiyan ho rhi hain..\n",
      "#Gcuf\n",
      "18 .\n",
      "\n",
      "Campus 💙\n",
      "#GCUF\n",
      "@irfanarifharal @m_shakeel_786 https://t.co/roE47Z3nlN\n",
      "19 .\n",
      "\n",
      "Finally datesheet a gi ..🤧\n",
      "Am going for study 🥺\n",
      "\n",
      "#midterms #Gcuf \n",
      "#Crazy🦋\n",
      "20 .\n",
      "\n",
      "Feeling proud to be a part of GCU  instead of PU 😇😌\n",
      "#Crazy🦋\n",
      "#GCUF. #PU \n",
      "\n",
      "Harry Potter           Gang of wasy pur\n",
      "In GCU.💝                   In PU⛏️ https://t.co/ZRVQLQwBoU\n",
      "21 .\n",
      "\n",
      "First victory in the 7th All Gcian Championship 4ka System Tournament 🏏🏆🤗\n",
      "\n",
      "#AhmadMustafa #GCUF https://t.co/9WWbSBRgUc\n",
      "22 .\n",
      "\n",
      "4 years\n",
      "48 subjects\n",
      "92 presentations\n",
      "8 mid terms\n",
      "8 finals\n",
      "Almost 600 assignments\n",
      "80 quizes\n",
      "2000 lectures\n",
      "\"Unlimited Insult\"\n",
      "A normal human can't do this all The remaining abnormal are called bachelors students ✌🏻\n",
      "\n",
      "#BS_Students\n",
      "#GCUF\n",
      "23 .\n",
      "\n",
      "Second victory in the 7th All Gcian Championship 4ka System Tournament 🏏🏆🤗\n",
      "\n",
      "#AhmadMustafa #GCUF https://t.co/AmTpk3McUL\n",
      "24 .\n",
      "\n",
      "Scenes❤️🥀\n",
      "#GCUF https://t.co/bypt3I85i1\n",
      "25 .\n",
      "\n",
      "@Shafqat_Mahmood Sir g we are waiting for a good new #GCUF\n"
     ]
    }
   ],
   "source": [
    "#query_used = scrapy crawl TweetScraper -a query=\"#Gcuf,#GCUF,#gcuf since:2021-11-10 until:2021-12-10\"\n",
    "\n",
    "j = 1\n",
    "for i in all_texts:\n",
    "    print(j,\".\\n\")\n",
    "    print(i)\n",
    "    j+=1"
   ]
  },
  {
   "cell_type": "code",
   "execution_count": 18,
   "metadata": {
    "scrolled": true
   },
   "outputs": [
    {
     "name": "stdout",
     "output_type": "stream",
     "text": [
      "25\n",
      "<class 'pandas.core.frame.DataFrame'>\n",
      "RangeIndex: 25 entries, 0 to 24\n",
      "Data columns (total 2 columns):\n",
      " #   Column    Non-Null Count  Dtype \n",
      "---  ------    --------------  ----- \n",
      " 0   id_       25 non-null     object\n",
      " 1   raw_data  25 non-null     object\n",
      "dtypes: object(2)\n",
      "memory usage: 528.0+ bytes\n"
     ]
    }
   ],
   "source": [
    "print(len(df))\n",
    "df.info()"
   ]
  },
  {
   "cell_type": "code",
   "execution_count": null,
   "metadata": {},
   "outputs": [],
   "source": []
  }
 ],
 "metadata": {
  "kernelspec": {
   "display_name": "Python 3",
   "language": "python",
   "name": "python3"
  },
  "language_info": {
   "codemirror_mode": {
    "name": "ipython",
    "version": 3
   },
   "file_extension": ".py",
   "mimetype": "text/x-python",
   "name": "python",
   "nbconvert_exporter": "python",
   "pygments_lexer": "ipython3",
   "version": "3.8.5"
  }
 },
 "nbformat": 4,
 "nbformat_minor": 4
}
